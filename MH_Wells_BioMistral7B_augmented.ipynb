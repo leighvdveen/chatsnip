{
  "cells": [
    {
      "cell_type": "markdown",
      "metadata": {
        "id": "view-in-github",
        "colab_type": "text"
      },
      "source": [
        "<a href=\"https://colab.research.google.com/github/leighvdveen/chatsnip/blob/main/MH_Wells_BioMistral7B_augmented.ipynb\" target=\"_parent\"><img src=\"https://colab.research.google.com/assets/colab-badge.svg\" alt=\"Open In Colab\"/></a>"
      ]
    },
    {
      "cell_type": "markdown",
      "metadata": {
        "id": "J177jX51J1Li"
      },
      "source": [
        "# Build BioMistral RAG Agent I/F for Wells PoC with BioMistral Open Source LLM\n",
        "\n",
        "Wellness Agent with BioMistral LLM and additional PDF sources."
      ]
    },
    {
      "cell_type": "markdown",
      "metadata": {
        "id": "Syag3oIcKHM0"
      },
      "source": [
        "## Installation"
      ]
    },
    {
      "cell_type": "code",
      "execution_count": null,
      "metadata": {
        "colab": {
          "base_uri": "https://localhost:8080/"
        },
        "id": "L18fYAOPJzZX",
        "outputId": "1fdb360c-67f6-4a84-8fd2-b04a38fb22fe"
      },
      "outputs": [
        {
          "output_type": "stream",
          "name": "stdout",
          "text": [
            "Collecting langchain\n",
            "  Downloading langchain-0.2.16-py3-none-any.whl.metadata (7.1 kB)\n",
            "Collecting sentence-transformers\n",
            "  Downloading sentence_transformers-3.0.1-py3-none-any.whl.metadata (10 kB)\n",
            "Collecting chromadb\n",
            "  Downloading chromadb-0.5.5-py3-none-any.whl.metadata (6.8 kB)\n",
            "Collecting llama-cpp-python\n",
            "  Downloading llama_cpp_python-0.2.90.tar.gz (63.8 MB)\n",
            "\u001b[2K     \u001b[90m━━━━━━━━━━━━━━━━━━━━━━━━━━━━━━━━━━━━━━━━\u001b[0m \u001b[32m63.8/63.8 MB\u001b[0m \u001b[31m11.6 MB/s\u001b[0m eta \u001b[36m0:00:00\u001b[0m\n",
            "\u001b[?25h  Installing build dependencies ... \u001b[?25l\u001b[?25hdone\n",
            "  Getting requirements to build wheel ... \u001b[?25l\u001b[?25hdone\n",
            "  Installing backend dependencies ... \u001b[?25l\u001b[?25hdone\n",
            "  Preparing metadata (pyproject.toml) ... \u001b[?25l\u001b[?25hdone\n",
            "Collecting langchain_community\n",
            "  Downloading langchain_community-0.2.16-py3-none-any.whl.metadata (2.7 kB)\n",
            "Collecting pypdf\n",
            "  Downloading pypdf-4.3.1-py3-none-any.whl.metadata (7.4 kB)\n",
            "Requirement already satisfied: PyYAML>=5.3 in /usr/local/lib/python3.10/dist-packages (from langchain) (6.0.2)\n",
            "Requirement already satisfied: SQLAlchemy<3,>=1.4 in /usr/local/lib/python3.10/dist-packages (from langchain) (2.0.32)\n",
            "Requirement already satisfied: aiohttp<4.0.0,>=3.8.3 in /usr/local/lib/python3.10/dist-packages (from langchain) (3.10.5)\n",
            "Requirement already satisfied: async-timeout<5.0.0,>=4.0.0 in /usr/local/lib/python3.10/dist-packages (from langchain) (4.0.3)\n",
            "Collecting langchain-core<0.3.0,>=0.2.38 (from langchain)\n",
            "  Downloading langchain_core-0.2.38-py3-none-any.whl.metadata (6.2 kB)\n",
            "Collecting langchain-text-splitters<0.3.0,>=0.2.0 (from langchain)\n",
            "  Downloading langchain_text_splitters-0.2.4-py3-none-any.whl.metadata (2.3 kB)\n",
            "Collecting langsmith<0.2.0,>=0.1.17 (from langchain)\n",
            "  Downloading langsmith-0.1.111-py3-none-any.whl.metadata (13 kB)\n",
            "Requirement already satisfied: numpy<2,>=1 in /usr/local/lib/python3.10/dist-packages (from langchain) (1.26.4)\n",
            "Requirement already satisfied: pydantic<3,>=1 in /usr/local/lib/python3.10/dist-packages (from langchain) (2.8.2)\n",
            "Requirement already satisfied: requests<3,>=2 in /usr/local/lib/python3.10/dist-packages (from langchain) (2.32.3)\n",
            "Collecting tenacity!=8.4.0,<9.0.0,>=8.1.0 (from langchain)\n",
            "  Downloading tenacity-8.5.0-py3-none-any.whl.metadata (1.2 kB)\n",
            "Requirement already satisfied: transformers<5.0.0,>=4.34.0 in /usr/local/lib/python3.10/dist-packages (from sentence-transformers) (4.42.4)\n",
            "Requirement already satisfied: tqdm in /usr/local/lib/python3.10/dist-packages (from sentence-transformers) (4.66.5)\n",
            "Requirement already satisfied: torch>=1.11.0 in /usr/local/lib/python3.10/dist-packages (from sentence-transformers) (2.4.0+cu121)\n",
            "Requirement already satisfied: scikit-learn in /usr/local/lib/python3.10/dist-packages (from sentence-transformers) (1.3.2)\n",
            "Requirement already satisfied: scipy in /usr/local/lib/python3.10/dist-packages (from sentence-transformers) (1.13.1)\n",
            "Requirement already satisfied: huggingface-hub>=0.15.1 in /usr/local/lib/python3.10/dist-packages (from sentence-transformers) (0.23.5)\n",
            "Requirement already satisfied: Pillow in /usr/local/lib/python3.10/dist-packages (from sentence-transformers) (9.4.0)\n",
            "Requirement already satisfied: build>=1.0.3 in /usr/local/lib/python3.10/dist-packages (from chromadb) (1.2.1)\n",
            "Collecting chroma-hnswlib==0.7.6 (from chromadb)\n",
            "  Downloading chroma_hnswlib-0.7.6-cp310-cp310-manylinux_2_17_x86_64.manylinux2014_x86_64.whl.metadata (252 bytes)\n",
            "Collecting fastapi>=0.95.2 (from chromadb)\n",
            "  Downloading fastapi-0.112.2-py3-none-any.whl.metadata (27 kB)\n",
            "Collecting uvicorn>=0.18.3 (from uvicorn[standard]>=0.18.3->chromadb)\n",
            "  Downloading uvicorn-0.30.6-py3-none-any.whl.metadata (6.6 kB)\n",
            "Collecting posthog>=2.4.0 (from chromadb)\n",
            "  Downloading posthog-3.6.3-py2.py3-none-any.whl.metadata (2.0 kB)\n",
            "Requirement already satisfied: typing-extensions>=4.5.0 in /usr/local/lib/python3.10/dist-packages (from chromadb) (4.12.2)\n",
            "Collecting onnxruntime>=1.14.1 (from chromadb)\n",
            "  Downloading onnxruntime-1.19.2-cp310-cp310-manylinux_2_27_x86_64.manylinux_2_28_x86_64.whl.metadata (4.5 kB)\n",
            "Collecting opentelemetry-api>=1.2.0 (from chromadb)\n",
            "  Downloading opentelemetry_api-1.27.0-py3-none-any.whl.metadata (1.4 kB)\n",
            "Collecting opentelemetry-exporter-otlp-proto-grpc>=1.2.0 (from chromadb)\n",
            "  Downloading opentelemetry_exporter_otlp_proto_grpc-1.27.0-py3-none-any.whl.metadata (2.3 kB)\n",
            "Collecting opentelemetry-instrumentation-fastapi>=0.41b0 (from chromadb)\n",
            "  Downloading opentelemetry_instrumentation_fastapi-0.48b0-py3-none-any.whl.metadata (2.1 kB)\n",
            "Collecting opentelemetry-sdk>=1.2.0 (from chromadb)\n",
            "  Downloading opentelemetry_sdk-1.27.0-py3-none-any.whl.metadata (1.5 kB)\n",
            "Requirement already satisfied: tokenizers>=0.13.2 in /usr/local/lib/python3.10/dist-packages (from chromadb) (0.19.1)\n",
            "Collecting pypika>=0.48.9 (from chromadb)\n",
            "  Downloading PyPika-0.48.9.tar.gz (67 kB)\n",
            "\u001b[2K     \u001b[90m━━━━━━━━━━━━━━━━━━━━━━━━━━━━━━━━━━━━━━━━\u001b[0m \u001b[32m67.3/67.3 kB\u001b[0m \u001b[31m6.7 MB/s\u001b[0m eta \u001b[36m0:00:00\u001b[0m\n",
            "\u001b[?25h  Installing build dependencies ... \u001b[?25l\u001b[?25hdone\n",
            "  Getting requirements to build wheel ... \u001b[?25l\u001b[?25hdone\n",
            "  Preparing metadata (pyproject.toml) ... \u001b[?25l\u001b[?25hdone\n",
            "Collecting overrides>=7.3.1 (from chromadb)\n",
            "  Downloading overrides-7.7.0-py3-none-any.whl.metadata (5.8 kB)\n",
            "Requirement already satisfied: importlib-resources in /usr/local/lib/python3.10/dist-packages (from chromadb) (6.4.4)\n",
            "Requirement already satisfied: grpcio>=1.58.0 in /usr/local/lib/python3.10/dist-packages (from chromadb) (1.64.1)\n",
            "Collecting bcrypt>=4.0.1 (from chromadb)\n",
            "  Downloading bcrypt-4.2.0-cp39-abi3-manylinux_2_28_x86_64.whl.metadata (9.6 kB)\n",
            "Requirement already satisfied: typer>=0.9.0 in /usr/local/lib/python3.10/dist-packages (from chromadb) (0.12.5)\n",
            "Collecting kubernetes>=28.1.0 (from chromadb)\n",
            "  Downloading kubernetes-30.1.0-py2.py3-none-any.whl.metadata (1.5 kB)\n",
            "Collecting mmh3>=4.0.1 (from chromadb)\n",
            "  Downloading mmh3-4.1.0-cp310-cp310-manylinux_2_5_x86_64.manylinux1_x86_64.manylinux_2_17_x86_64.manylinux2014_x86_64.whl.metadata (13 kB)\n",
            "Collecting orjson>=3.9.12 (from chromadb)\n",
            "  Downloading orjson-3.10.7-cp310-cp310-manylinux_2_17_x86_64.manylinux2014_x86_64.whl.metadata (50 kB)\n",
            "\u001b[2K     \u001b[90m━━━━━━━━━━━━━━━━━━━━━━━━━━━━━━━━━━━━━━━━\u001b[0m \u001b[32m50.4/50.4 kB\u001b[0m \u001b[31m4.3 MB/s\u001b[0m eta \u001b[36m0:00:00\u001b[0m\n",
            "\u001b[?25hCollecting httpx>=0.27.0 (from chromadb)\n",
            "  Downloading httpx-0.27.2-py3-none-any.whl.metadata (7.1 kB)\n",
            "Collecting diskcache>=5.6.1 (from llama-cpp-python)\n",
            "  Downloading diskcache-5.6.3-py3-none-any.whl.metadata (20 kB)\n",
            "Requirement already satisfied: jinja2>=2.11.3 in /usr/local/lib/python3.10/dist-packages (from llama-cpp-python) (3.1.4)\n",
            "Collecting dataclasses-json<0.7,>=0.5.7 (from langchain_community)\n",
            "  Downloading dataclasses_json-0.6.7-py3-none-any.whl.metadata (25 kB)\n",
            "Requirement already satisfied: aiohappyeyeballs>=2.3.0 in /usr/local/lib/python3.10/dist-packages (from aiohttp<4.0.0,>=3.8.3->langchain) (2.4.0)\n",
            "Requirement already satisfied: aiosignal>=1.1.2 in /usr/local/lib/python3.10/dist-packages (from aiohttp<4.0.0,>=3.8.3->langchain) (1.3.1)\n",
            "Requirement already satisfied: attrs>=17.3.0 in /usr/local/lib/python3.10/dist-packages (from aiohttp<4.0.0,>=3.8.3->langchain) (24.2.0)\n",
            "Requirement already satisfied: frozenlist>=1.1.1 in /usr/local/lib/python3.10/dist-packages (from aiohttp<4.0.0,>=3.8.3->langchain) (1.4.1)\n",
            "Requirement already satisfied: multidict<7.0,>=4.5 in /usr/local/lib/python3.10/dist-packages (from aiohttp<4.0.0,>=3.8.3->langchain) (6.0.5)\n",
            "Requirement already satisfied: yarl<2.0,>=1.0 in /usr/local/lib/python3.10/dist-packages (from aiohttp<4.0.0,>=3.8.3->langchain) (1.9.4)\n",
            "Requirement already satisfied: packaging>=19.1 in /usr/local/lib/python3.10/dist-packages (from build>=1.0.3->chromadb) (24.1)\n",
            "Requirement already satisfied: pyproject_hooks in /usr/local/lib/python3.10/dist-packages (from build>=1.0.3->chromadb) (1.1.0)\n",
            "Requirement already satisfied: tomli>=1.1.0 in /usr/local/lib/python3.10/dist-packages (from build>=1.0.3->chromadb) (2.0.1)\n",
            "Collecting marshmallow<4.0.0,>=3.18.0 (from dataclasses-json<0.7,>=0.5.7->langchain_community)\n",
            "  Downloading marshmallow-3.22.0-py3-none-any.whl.metadata (7.2 kB)\n",
            "Collecting typing-inspect<1,>=0.4.0 (from dataclasses-json<0.7,>=0.5.7->langchain_community)\n",
            "  Downloading typing_inspect-0.9.0-py3-none-any.whl.metadata (1.5 kB)\n",
            "Collecting starlette<0.39.0,>=0.37.2 (from fastapi>=0.95.2->chromadb)\n",
            "  Downloading starlette-0.38.4-py3-none-any.whl.metadata (6.0 kB)\n",
            "Requirement already satisfied: anyio in /usr/local/lib/python3.10/dist-packages (from httpx>=0.27.0->chromadb) (3.7.1)\n",
            "Requirement already satisfied: certifi in /usr/local/lib/python3.10/dist-packages (from httpx>=0.27.0->chromadb) (2024.7.4)\n",
            "Collecting httpcore==1.* (from httpx>=0.27.0->chromadb)\n",
            "  Downloading httpcore-1.0.5-py3-none-any.whl.metadata (20 kB)\n",
            "Requirement already satisfied: idna in /usr/local/lib/python3.10/dist-packages (from httpx>=0.27.0->chromadb) (3.8)\n",
            "Requirement already satisfied: sniffio in /usr/local/lib/python3.10/dist-packages (from httpx>=0.27.0->chromadb) (1.3.1)\n",
            "Collecting h11<0.15,>=0.13 (from httpcore==1.*->httpx>=0.27.0->chromadb)\n",
            "  Downloading h11-0.14.0-py3-none-any.whl.metadata (8.2 kB)\n",
            "Requirement already satisfied: filelock in /usr/local/lib/python3.10/dist-packages (from huggingface-hub>=0.15.1->sentence-transformers) (3.15.4)\n",
            "Requirement already satisfied: fsspec>=2023.5.0 in /usr/local/lib/python3.10/dist-packages (from huggingface-hub>=0.15.1->sentence-transformers) (2024.6.1)\n",
            "Requirement already satisfied: MarkupSafe>=2.0 in /usr/local/lib/python3.10/dist-packages (from jinja2>=2.11.3->llama-cpp-python) (2.1.5)\n",
            "Requirement already satisfied: six>=1.9.0 in /usr/local/lib/python3.10/dist-packages (from kubernetes>=28.1.0->chromadb) (1.16.0)\n",
            "Requirement already satisfied: python-dateutil>=2.5.3 in /usr/local/lib/python3.10/dist-packages (from kubernetes>=28.1.0->chromadb) (2.8.2)\n",
            "Requirement already satisfied: google-auth>=1.0.1 in /usr/local/lib/python3.10/dist-packages (from kubernetes>=28.1.0->chromadb) (2.27.0)\n",
            "Requirement already satisfied: websocket-client!=0.40.0,!=0.41.*,!=0.42.*,>=0.32.0 in /usr/local/lib/python3.10/dist-packages (from kubernetes>=28.1.0->chromadb) (1.8.0)\n",
            "Requirement already satisfied: requests-oauthlib in /usr/local/lib/python3.10/dist-packages (from kubernetes>=28.1.0->chromadb) (1.3.1)\n",
            "Requirement already satisfied: oauthlib>=3.2.2 in /usr/local/lib/python3.10/dist-packages (from kubernetes>=28.1.0->chromadb) (3.2.2)\n",
            "Requirement already satisfied: urllib3>=1.24.2 in /usr/local/lib/python3.10/dist-packages (from kubernetes>=28.1.0->chromadb) (2.0.7)\n",
            "Collecting jsonpatch<2.0,>=1.33 (from langchain-core<0.3.0,>=0.2.38->langchain)\n",
            "  Downloading jsonpatch-1.33-py2.py3-none-any.whl.metadata (3.0 kB)\n",
            "Collecting coloredlogs (from onnxruntime>=1.14.1->chromadb)\n",
            "  Downloading coloredlogs-15.0.1-py2.py3-none-any.whl.metadata (12 kB)\n",
            "Requirement already satisfied: flatbuffers in /usr/local/lib/python3.10/dist-packages (from onnxruntime>=1.14.1->chromadb) (24.3.25)\n",
            "Requirement already satisfied: protobuf in /usr/local/lib/python3.10/dist-packages (from onnxruntime>=1.14.1->chromadb) (3.20.3)\n",
            "Requirement already satisfied: sympy in /usr/local/lib/python3.10/dist-packages (from onnxruntime>=1.14.1->chromadb) (1.13.2)\n",
            "Collecting deprecated>=1.2.6 (from opentelemetry-api>=1.2.0->chromadb)\n",
            "  Downloading Deprecated-1.2.14-py2.py3-none-any.whl.metadata (5.4 kB)\n",
            "Requirement already satisfied: importlib-metadata<=8.4.0,>=6.0 in /usr/local/lib/python3.10/dist-packages (from opentelemetry-api>=1.2.0->chromadb) (8.4.0)\n",
            "Requirement already satisfied: googleapis-common-protos~=1.52 in /usr/local/lib/python3.10/dist-packages (from opentelemetry-exporter-otlp-proto-grpc>=1.2.0->chromadb) (1.65.0)\n",
            "Collecting opentelemetry-exporter-otlp-proto-common==1.27.0 (from opentelemetry-exporter-otlp-proto-grpc>=1.2.0->chromadb)\n",
            "  Downloading opentelemetry_exporter_otlp_proto_common-1.27.0-py3-none-any.whl.metadata (1.8 kB)\n",
            "Collecting opentelemetry-proto==1.27.0 (from opentelemetry-exporter-otlp-proto-grpc>=1.2.0->chromadb)\n",
            "  Downloading opentelemetry_proto-1.27.0-py3-none-any.whl.metadata (2.3 kB)\n",
            "Collecting opentelemetry-instrumentation-asgi==0.48b0 (from opentelemetry-instrumentation-fastapi>=0.41b0->chromadb)\n",
            "  Downloading opentelemetry_instrumentation_asgi-0.48b0-py3-none-any.whl.metadata (2.0 kB)\n",
            "Collecting opentelemetry-instrumentation==0.48b0 (from opentelemetry-instrumentation-fastapi>=0.41b0->chromadb)\n",
            "  Downloading opentelemetry_instrumentation-0.48b0-py3-none-any.whl.metadata (6.1 kB)\n",
            "Collecting opentelemetry-semantic-conventions==0.48b0 (from opentelemetry-instrumentation-fastapi>=0.41b0->chromadb)\n",
            "  Downloading opentelemetry_semantic_conventions-0.48b0-py3-none-any.whl.metadata (2.4 kB)\n",
            "Collecting opentelemetry-util-http==0.48b0 (from opentelemetry-instrumentation-fastapi>=0.41b0->chromadb)\n",
            "  Downloading opentelemetry_util_http-0.48b0-py3-none-any.whl.metadata (2.5 kB)\n",
            "Requirement already satisfied: setuptools>=16.0 in /usr/local/lib/python3.10/dist-packages (from opentelemetry-instrumentation==0.48b0->opentelemetry-instrumentation-fastapi>=0.41b0->chromadb) (71.0.4)\n",
            "Requirement already satisfied: wrapt<2.0.0,>=1.0.0 in /usr/local/lib/python3.10/dist-packages (from opentelemetry-instrumentation==0.48b0->opentelemetry-instrumentation-fastapi>=0.41b0->chromadb) (1.16.0)\n",
            "Collecting asgiref~=3.0 (from opentelemetry-instrumentation-asgi==0.48b0->opentelemetry-instrumentation-fastapi>=0.41b0->chromadb)\n",
            "  Downloading asgiref-3.8.1-py3-none-any.whl.metadata (9.3 kB)\n",
            "Collecting monotonic>=1.5 (from posthog>=2.4.0->chromadb)\n",
            "  Downloading monotonic-1.6-py2.py3-none-any.whl.metadata (1.5 kB)\n",
            "Collecting backoff>=1.10.0 (from posthog>=2.4.0->chromadb)\n",
            "  Downloading backoff-2.2.1-py3-none-any.whl.metadata (14 kB)\n",
            "Requirement already satisfied: annotated-types>=0.4.0 in /usr/local/lib/python3.10/dist-packages (from pydantic<3,>=1->langchain) (0.7.0)\n",
            "Requirement already satisfied: pydantic-core==2.20.1 in /usr/local/lib/python3.10/dist-packages (from pydantic<3,>=1->langchain) (2.20.1)\n",
            "Requirement already satisfied: charset-normalizer<4,>=2 in /usr/local/lib/python3.10/dist-packages (from requests<3,>=2->langchain) (3.3.2)\n",
            "Requirement already satisfied: greenlet!=0.4.17 in /usr/local/lib/python3.10/dist-packages (from SQLAlchemy<3,>=1.4->langchain) (3.0.3)\n",
            "Requirement already satisfied: networkx in /usr/local/lib/python3.10/dist-packages (from torch>=1.11.0->sentence-transformers) (3.3)\n",
            "Requirement already satisfied: regex!=2019.12.17 in /usr/local/lib/python3.10/dist-packages (from transformers<5.0.0,>=4.34.0->sentence-transformers) (2024.5.15)\n",
            "Requirement already satisfied: safetensors>=0.4.1 in /usr/local/lib/python3.10/dist-packages (from transformers<5.0.0,>=4.34.0->sentence-transformers) (0.4.4)\n",
            "Requirement already satisfied: click>=8.0.0 in /usr/local/lib/python3.10/dist-packages (from typer>=0.9.0->chromadb) (8.1.7)\n",
            "Requirement already satisfied: shellingham>=1.3.0 in /usr/local/lib/python3.10/dist-packages (from typer>=0.9.0->chromadb) (1.5.4)\n",
            "Requirement already satisfied: rich>=10.11.0 in /usr/local/lib/python3.10/dist-packages (from typer>=0.9.0->chromadb) (13.8.0)\n",
            "Collecting httptools>=0.5.0 (from uvicorn[standard]>=0.18.3->chromadb)\n",
            "  Downloading httptools-0.6.1-cp310-cp310-manylinux_2_5_x86_64.manylinux1_x86_64.manylinux_2_17_x86_64.manylinux2014_x86_64.whl.metadata (3.6 kB)\n",
            "Collecting python-dotenv>=0.13 (from uvicorn[standard]>=0.18.3->chromadb)\n",
            "  Downloading python_dotenv-1.0.1-py3-none-any.whl.metadata (23 kB)\n",
            "Collecting uvloop!=0.15.0,!=0.15.1,>=0.14.0 (from uvicorn[standard]>=0.18.3->chromadb)\n",
            "  Downloading uvloop-0.20.0-cp310-cp310-manylinux_2_17_x86_64.manylinux2014_x86_64.whl.metadata (4.9 kB)\n",
            "Collecting watchfiles>=0.13 (from uvicorn[standard]>=0.18.3->chromadb)\n",
            "  Downloading watchfiles-0.24.0-cp310-cp310-manylinux_2_17_x86_64.manylinux2014_x86_64.whl.metadata (4.9 kB)\n",
            "Collecting websockets>=10.4 (from uvicorn[standard]>=0.18.3->chromadb)\n",
            "  Downloading websockets-13.0.1-cp310-cp310-manylinux_2_5_x86_64.manylinux1_x86_64.manylinux_2_17_x86_64.manylinux2014_x86_64.whl.metadata (6.7 kB)\n",
            "Requirement already satisfied: joblib>=1.1.1 in /usr/local/lib/python3.10/dist-packages (from scikit-learn->sentence-transformers) (1.4.2)\n",
            "Requirement already satisfied: threadpoolctl>=2.0.0 in /usr/local/lib/python3.10/dist-packages (from scikit-learn->sentence-transformers) (3.5.0)\n",
            "Requirement already satisfied: cachetools<6.0,>=2.0.0 in /usr/local/lib/python3.10/dist-packages (from google-auth>=1.0.1->kubernetes>=28.1.0->chromadb) (5.5.0)\n",
            "Requirement already satisfied: pyasn1-modules>=0.2.1 in /usr/local/lib/python3.10/dist-packages (from google-auth>=1.0.1->kubernetes>=28.1.0->chromadb) (0.4.0)\n",
            "Requirement already satisfied: rsa<5,>=3.1.4 in /usr/local/lib/python3.10/dist-packages (from google-auth>=1.0.1->kubernetes>=28.1.0->chromadb) (4.9)\n",
            "Requirement already satisfied: zipp>=0.5 in /usr/local/lib/python3.10/dist-packages (from importlib-metadata<=8.4.0,>=6.0->opentelemetry-api>=1.2.0->chromadb) (3.20.1)\n",
            "Collecting jsonpointer>=1.9 (from jsonpatch<2.0,>=1.33->langchain-core<0.3.0,>=0.2.38->langchain)\n",
            "  Downloading jsonpointer-3.0.0-py2.py3-none-any.whl.metadata (2.3 kB)\n",
            "Requirement already satisfied: markdown-it-py>=2.2.0 in /usr/local/lib/python3.10/dist-packages (from rich>=10.11.0->typer>=0.9.0->chromadb) (3.0.0)\n",
            "Requirement already satisfied: pygments<3.0.0,>=2.13.0 in /usr/local/lib/python3.10/dist-packages (from rich>=10.11.0->typer>=0.9.0->chromadb) (2.16.1)\n",
            "Requirement already satisfied: exceptiongroup in /usr/local/lib/python3.10/dist-packages (from anyio->httpx>=0.27.0->chromadb) (1.2.2)\n",
            "Collecting mypy-extensions>=0.3.0 (from typing-inspect<1,>=0.4.0->dataclasses-json<0.7,>=0.5.7->langchain_community)\n",
            "  Downloading mypy_extensions-1.0.0-py3-none-any.whl.metadata (1.1 kB)\n",
            "Collecting humanfriendly>=9.1 (from coloredlogs->onnxruntime>=1.14.1->chromadb)\n",
            "  Downloading humanfriendly-10.0-py2.py3-none-any.whl.metadata (9.2 kB)\n",
            "Requirement already satisfied: mpmath<1.4,>=1.1.0 in /usr/local/lib/python3.10/dist-packages (from sympy->onnxruntime>=1.14.1->chromadb) (1.3.0)\n",
            "Requirement already satisfied: mdurl~=0.1 in /usr/local/lib/python3.10/dist-packages (from markdown-it-py>=2.2.0->rich>=10.11.0->typer>=0.9.0->chromadb) (0.1.2)\n",
            "Requirement already satisfied: pyasn1<0.7.0,>=0.4.6 in /usr/local/lib/python3.10/dist-packages (from pyasn1-modules>=0.2.1->google-auth>=1.0.1->kubernetes>=28.1.0->chromadb) (0.6.0)\n",
            "Downloading langchain-0.2.16-py3-none-any.whl (1.0 MB)\n",
            "\u001b[2K   \u001b[90m━━━━━━━━━━━━━━━━━━━━━━━━━━━━━━━━━━━━━━━━\u001b[0m \u001b[32m1.0/1.0 MB\u001b[0m \u001b[31m63.0 MB/s\u001b[0m eta \u001b[36m0:00:00\u001b[0m\n",
            "\u001b[?25hDownloading sentence_transformers-3.0.1-py3-none-any.whl (227 kB)\n",
            "\u001b[2K   \u001b[90m━━━━━━━━━━━━━━━━━━━━━━━━━━━━━━━━━━━━━━━━\u001b[0m \u001b[32m227.1/227.1 kB\u001b[0m \u001b[31m21.7 MB/s\u001b[0m eta \u001b[36m0:00:00\u001b[0m\n",
            "\u001b[?25hDownloading chromadb-0.5.5-py3-none-any.whl (584 kB)\n",
            "\u001b[2K   \u001b[90m━━━━━━━━━━━━━━━━━━━━━━━━━━━━━━━━━━━━━━━━\u001b[0m \u001b[32m584.3/584.3 kB\u001b[0m \u001b[31m41.3 MB/s\u001b[0m eta \u001b[36m0:00:00\u001b[0m\n",
            "\u001b[?25hDownloading chroma_hnswlib-0.7.6-cp310-cp310-manylinux_2_17_x86_64.manylinux2014_x86_64.whl (2.4 MB)\n",
            "\u001b[2K   \u001b[90m━━━━━━━━━━━━━━━━━━━━━━━━━━━━━━━━━━━━━━━━\u001b[0m \u001b[32m2.4/2.4 MB\u001b[0m \u001b[31m88.4 MB/s\u001b[0m eta \u001b[36m0:00:00\u001b[0m\n",
            "\u001b[?25hDownloading langchain_community-0.2.16-py3-none-any.whl (2.3 MB)\n",
            "\u001b[2K   \u001b[90m━━━━━━━━━━━━━━━━━━━━━━━━━━━━━━━━━━━━━━━━\u001b[0m \u001b[32m2.3/2.3 MB\u001b[0m \u001b[31m89.8 MB/s\u001b[0m eta \u001b[36m0:00:00\u001b[0m\n",
            "\u001b[?25hDownloading pypdf-4.3.1-py3-none-any.whl (295 kB)\n",
            "\u001b[2K   \u001b[90m━━━━━━━━━━━━━━━━━━━━━━━━━━━━━━━━━━━━━━━━\u001b[0m \u001b[32m295.8/295.8 kB\u001b[0m \u001b[31m25.3 MB/s\u001b[0m eta \u001b[36m0:00:00\u001b[0m\n",
            "\u001b[?25hDownloading bcrypt-4.2.0-cp39-abi3-manylinux_2_28_x86_64.whl (273 kB)\n",
            "\u001b[2K   \u001b[90m━━━━━━━━━━━━━━━━━━━━━━━━━━━━━━━━━━━━━━━━\u001b[0m \u001b[32m273.8/273.8 kB\u001b[0m \u001b[31m23.0 MB/s\u001b[0m eta \u001b[36m0:00:00\u001b[0m\n",
            "\u001b[?25hDownloading dataclasses_json-0.6.7-py3-none-any.whl (28 kB)\n",
            "Downloading diskcache-5.6.3-py3-none-any.whl (45 kB)\n",
            "\u001b[2K   \u001b[90m━━━━━━━━━━━━━━━━━━━━━━━━━━━━━━━━━━━━━━━━\u001b[0m \u001b[32m45.5/45.5 kB\u001b[0m \u001b[31m4.0 MB/s\u001b[0m eta \u001b[36m0:00:00\u001b[0m\n",
            "\u001b[?25hDownloading fastapi-0.112.2-py3-none-any.whl (93 kB)\n",
            "\u001b[2K   \u001b[90m━━━━━━━━━━━━━━━━━━━━━━━━━━━━━━━━━━━━━━━━\u001b[0m \u001b[32m93.5/93.5 kB\u001b[0m \u001b[31m9.5 MB/s\u001b[0m eta \u001b[36m0:00:00\u001b[0m\n",
            "\u001b[?25hDownloading httpx-0.27.2-py3-none-any.whl (76 kB)\n",
            "\u001b[2K   \u001b[90m━━━━━━━━━━━━━━━━━━━━━━━━━━━━━━━━━━━━━━━━\u001b[0m \u001b[32m76.4/76.4 kB\u001b[0m \u001b[31m7.5 MB/s\u001b[0m eta \u001b[36m0:00:00\u001b[0m\n",
            "\u001b[?25hDownloading httpcore-1.0.5-py3-none-any.whl (77 kB)\n",
            "\u001b[2K   \u001b[90m━━━━━━━━━━━━━━━━━━━━━━━━━━━━━━━━━━━━━━━━\u001b[0m \u001b[32m77.9/77.9 kB\u001b[0m \u001b[31m7.8 MB/s\u001b[0m eta \u001b[36m0:00:00\u001b[0m\n",
            "\u001b[?25hDownloading kubernetes-30.1.0-py2.py3-none-any.whl (1.7 MB)\n",
            "\u001b[2K   \u001b[90m━━━━━━━━━━━━━━━━━━━━━━━━━━━━━━━━━━━━━━━━\u001b[0m \u001b[32m1.7/1.7 MB\u001b[0m \u001b[31m72.7 MB/s\u001b[0m eta \u001b[36m0:00:00\u001b[0m\n",
            "\u001b[?25hDownloading langchain_core-0.2.38-py3-none-any.whl (396 kB)\n",
            "\u001b[2K   \u001b[90m━━━━━━━━━━━━━━━━━━━━━━━━━━━━━━━━━━━━━━━━\u001b[0m \u001b[32m396.4/396.4 kB\u001b[0m \u001b[31m32.1 MB/s\u001b[0m eta \u001b[36m0:00:00\u001b[0m\n",
            "\u001b[?25hDownloading langchain_text_splitters-0.2.4-py3-none-any.whl (25 kB)\n",
            "Downloading langsmith-0.1.111-py3-none-any.whl (288 kB)\n",
            "\u001b[2K   \u001b[90m━━━━━━━━━━━━━━━━━━━━━━━━━━━━━━━━━━━━━━━━\u001b[0m \u001b[32m288.5/288.5 kB\u001b[0m \u001b[31m26.0 MB/s\u001b[0m eta \u001b[36m0:00:00\u001b[0m\n",
            "\u001b[?25hDownloading mmh3-4.1.0-cp310-cp310-manylinux_2_5_x86_64.manylinux1_x86_64.manylinux_2_17_x86_64.manylinux2014_x86_64.whl (67 kB)\n",
            "\u001b[2K   \u001b[90m━━━━━━━━━━━━━━━━━━━━━━━━━━━━━━━━━━━━━━━━\u001b[0m \u001b[32m67.6/67.6 kB\u001b[0m \u001b[31m7.1 MB/s\u001b[0m eta \u001b[36m0:00:00\u001b[0m\n",
            "\u001b[?25hDownloading onnxruntime-1.19.2-cp310-cp310-manylinux_2_27_x86_64.manylinux_2_28_x86_64.whl (13.2 MB)\n",
            "\u001b[2K   \u001b[90m━━━━━━━━━━━━━━━━━━━━━━━━━━━━━━━━━━━━━━━━\u001b[0m \u001b[32m13.2/13.2 MB\u001b[0m \u001b[31m105.2 MB/s\u001b[0m eta \u001b[36m0:00:00\u001b[0m\n",
            "\u001b[?25hDownloading opentelemetry_api-1.27.0-py3-none-any.whl (63 kB)\n",
            "\u001b[2K   \u001b[90m━━━━━━━━━━━━━━━━━━━━━━━━━━━━━━━━━━━━━━━━\u001b[0m \u001b[32m64.0/64.0 kB\u001b[0m \u001b[31m5.6 MB/s\u001b[0m eta \u001b[36m0:00:00\u001b[0m\n",
            "\u001b[?25hDownloading opentelemetry_exporter_otlp_proto_grpc-1.27.0-py3-none-any.whl (18 kB)\n",
            "Downloading opentelemetry_exporter_otlp_proto_common-1.27.0-py3-none-any.whl (17 kB)\n",
            "Downloading opentelemetry_proto-1.27.0-py3-none-any.whl (52 kB)\n",
            "\u001b[2K   \u001b[90m━━━━━━━━━━━━━━━━━━━━━━━━━━━━━━━━━━━━━━━━\u001b[0m \u001b[32m52.5/52.5 kB\u001b[0m \u001b[31m4.9 MB/s\u001b[0m eta \u001b[36m0:00:00\u001b[0m\n",
            "\u001b[?25hDownloading opentelemetry_instrumentation_fastapi-0.48b0-py3-none-any.whl (11 kB)\n",
            "Downloading opentelemetry_instrumentation-0.48b0-py3-none-any.whl (29 kB)\n",
            "Downloading opentelemetry_instrumentation_asgi-0.48b0-py3-none-any.whl (15 kB)\n",
            "Downloading opentelemetry_semantic_conventions-0.48b0-py3-none-any.whl (149 kB)\n",
            "\u001b[2K   \u001b[90m━━━━━━━━━━━━━━━━━━━━━━━━━━━━━━━━━━━━━━━━\u001b[0m \u001b[32m149.7/149.7 kB\u001b[0m \u001b[31m15.6 MB/s\u001b[0m eta \u001b[36m0:00:00\u001b[0m\n",
            "\u001b[?25hDownloading opentelemetry_util_http-0.48b0-py3-none-any.whl (6.9 kB)\n",
            "Downloading opentelemetry_sdk-1.27.0-py3-none-any.whl (110 kB)\n",
            "\u001b[2K   \u001b[90m━━━━━━━━━━━━━━━━━━━━━━━━━━━━━━━━━━━━━━━━\u001b[0m \u001b[32m110.5/110.5 kB\u001b[0m \u001b[31m11.1 MB/s\u001b[0m eta \u001b[36m0:00:00\u001b[0m\n",
            "\u001b[?25hDownloading orjson-3.10.7-cp310-cp310-manylinux_2_17_x86_64.manylinux2014_x86_64.whl (141 kB)\n",
            "\u001b[2K   \u001b[90m━━━━━━━━━━━━━━━━━━━━━━━━━━━━━━━━━━━━━━━━\u001b[0m \u001b[32m141.9/141.9 kB\u001b[0m \u001b[31m14.1 MB/s\u001b[0m eta \u001b[36m0:00:00\u001b[0m\n",
            "\u001b[?25hDownloading overrides-7.7.0-py3-none-any.whl (17 kB)\n",
            "Downloading posthog-3.6.3-py2.py3-none-any.whl (53 kB)\n",
            "\u001b[2K   \u001b[90m━━━━━━━━━━━━━━━━━━━━━━━━━━━━━━━━━━━━━━━━\u001b[0m \u001b[32m53.0/53.0 kB\u001b[0m \u001b[31m5.4 MB/s\u001b[0m eta \u001b[36m0:00:00\u001b[0m\n",
            "\u001b[?25hDownloading tenacity-8.5.0-py3-none-any.whl (28 kB)\n",
            "Downloading uvicorn-0.30.6-py3-none-any.whl (62 kB)\n",
            "\u001b[2K   \u001b[90m━━━━━━━━━━━━━━━━━━━━━━━━━━━━━━━━━━━━━━━━\u001b[0m \u001b[32m62.8/62.8 kB\u001b[0m \u001b[31m6.5 MB/s\u001b[0m eta \u001b[36m0:00:00\u001b[0m\n",
            "\u001b[?25hDownloading backoff-2.2.1-py3-none-any.whl (15 kB)\n",
            "Downloading Deprecated-1.2.14-py2.py3-none-any.whl (9.6 kB)\n",
            "Downloading h11-0.14.0-py3-none-any.whl (58 kB)\n",
            "\u001b[2K   \u001b[90m━━━━━━━━━━━━━━━━━━━━━━━━━━━━━━━━━━━━━━━━\u001b[0m \u001b[32m58.3/58.3 kB\u001b[0m \u001b[31m5.5 MB/s\u001b[0m eta \u001b[36m0:00:00\u001b[0m\n",
            "\u001b[?25hDownloading httptools-0.6.1-cp310-cp310-manylinux_2_5_x86_64.manylinux1_x86_64.manylinux_2_17_x86_64.manylinux2014_x86_64.whl (341 kB)\n",
            "\u001b[2K   \u001b[90m━━━━━━━━━━━━━━━━━━━━━━━━━━━━━━━━━━━━━━━━\u001b[0m \u001b[32m341.4/341.4 kB\u001b[0m \u001b[31m26.9 MB/s\u001b[0m eta \u001b[36m0:00:00\u001b[0m\n",
            "\u001b[?25hDownloading jsonpatch-1.33-py2.py3-none-any.whl (12 kB)\n",
            "Downloading marshmallow-3.22.0-py3-none-any.whl (49 kB)\n",
            "\u001b[2K   \u001b[90m━━━━━━━━━━━━━━━━━━━━━━━━━━━━━━━━━━━━━━━━\u001b[0m \u001b[32m49.3/49.3 kB\u001b[0m \u001b[31m4.7 MB/s\u001b[0m eta \u001b[36m0:00:00\u001b[0m\n",
            "\u001b[?25hDownloading monotonic-1.6-py2.py3-none-any.whl (8.2 kB)\n",
            "Downloading python_dotenv-1.0.1-py3-none-any.whl (19 kB)\n",
            "Downloading starlette-0.38.4-py3-none-any.whl (71 kB)\n",
            "\u001b[2K   \u001b[90m━━━━━━━━━━━━━━━━━━━━━━━━━━━━━━━━━━━━━━━━\u001b[0m \u001b[32m71.4/71.4 kB\u001b[0m \u001b[31m7.4 MB/s\u001b[0m eta \u001b[36m0:00:00\u001b[0m\n",
            "\u001b[?25hDownloading typing_inspect-0.9.0-py3-none-any.whl (8.8 kB)\n",
            "Downloading uvloop-0.20.0-cp310-cp310-manylinux_2_17_x86_64.manylinux2014_x86_64.whl (3.4 MB)\n",
            "\u001b[2K   \u001b[90m━━━━━━━━━━━━━━━━━━━━━━━━━━━━━━━━━━━━━━━━\u001b[0m \u001b[32m3.4/3.4 MB\u001b[0m \u001b[31m94.8 MB/s\u001b[0m eta \u001b[36m0:00:00\u001b[0m\n",
            "\u001b[?25hDownloading watchfiles-0.24.0-cp310-cp310-manylinux_2_17_x86_64.manylinux2014_x86_64.whl (425 kB)\n",
            "\u001b[2K   \u001b[90m━━━━━━━━━━━━━━━━━━━━━━━━━━━━━━━━━━━━━━━━\u001b[0m \u001b[32m425.7/425.7 kB\u001b[0m \u001b[31m34.2 MB/s\u001b[0m eta \u001b[36m0:00:00\u001b[0m\n",
            "\u001b[?25hDownloading websockets-13.0.1-cp310-cp310-manylinux_2_5_x86_64.manylinux1_x86_64.manylinux_2_17_x86_64.manylinux2014_x86_64.whl (157 kB)\n",
            "\u001b[2K   \u001b[90m━━━━━━━━━━━━━━━━━━━━━━━━━━━━━━━━━━━━━━━━\u001b[0m \u001b[32m157.3/157.3 kB\u001b[0m \u001b[31m15.2 MB/s\u001b[0m eta \u001b[36m0:00:00\u001b[0m\n",
            "\u001b[?25hDownloading coloredlogs-15.0.1-py2.py3-none-any.whl (46 kB)\n",
            "\u001b[2K   \u001b[90m━━━━━━━━━━━━━━━━━━━━━━━━━━━━━━━━━━━━━━━━\u001b[0m \u001b[32m46.0/46.0 kB\u001b[0m \u001b[31m3.9 MB/s\u001b[0m eta \u001b[36m0:00:00\u001b[0m\n",
            "\u001b[?25hDownloading asgiref-3.8.1-py3-none-any.whl (23 kB)\n",
            "Downloading humanfriendly-10.0-py2.py3-none-any.whl (86 kB)\n",
            "\u001b[2K   \u001b[90m━━━━━━━━━━━━━━━━━━━━━━━━━━━━━━━━━━━━━━━━\u001b[0m \u001b[32m86.8/86.8 kB\u001b[0m \u001b[31m5.8 MB/s\u001b[0m eta \u001b[36m0:00:00\u001b[0m\n",
            "\u001b[?25hDownloading jsonpointer-3.0.0-py2.py3-none-any.whl (7.6 kB)\n",
            "Downloading mypy_extensions-1.0.0-py3-none-any.whl (4.7 kB)\n",
            "Building wheels for collected packages: llama-cpp-python, pypika\n",
            "  Building wheel for llama-cpp-python (pyproject.toml) ... \u001b[?25l\u001b[?25hdone\n",
            "  Created wheel for llama-cpp-python: filename=llama_cpp_python-0.2.90-cp310-cp310-linux_x86_64.whl size=3414591 sha256=c72414486b06a664b0357305c7e073b632de1751aa14170070ed003269e374d6\n",
            "  Stored in directory: /root/.cache/pip/wheels/3d/67/02/f950031435db4a5a02e6269f6adb6703bf1631c3616380f3c6\n",
            "  Building wheel for pypika (pyproject.toml) ... \u001b[?25l\u001b[?25hdone\n",
            "  Created wheel for pypika: filename=PyPika-0.48.9-py2.py3-none-any.whl size=53725 sha256=70a5bffdba0dc9870c79d070833c6029c60a60ca929e3e351db3f8da4515cfab\n",
            "  Stored in directory: /root/.cache/pip/wheels/e1/26/51/d0bffb3d2fd82256676d7ad3003faea3bd6dddc9577af665f4\n",
            "Successfully built llama-cpp-python pypika\n",
            "Installing collected packages: pypika, monotonic, mmh3, websockets, uvloop, tenacity, python-dotenv, pypdf, overrides, orjson, opentelemetry-util-http, opentelemetry-proto, mypy-extensions, marshmallow, jsonpointer, humanfriendly, httptools, h11, diskcache, deprecated, chroma-hnswlib, bcrypt, backoff, asgiref, watchfiles, uvicorn, typing-inspect, starlette, posthog, opentelemetry-exporter-otlp-proto-common, opentelemetry-api, llama-cpp-python, jsonpatch, httpcore, coloredlogs, opentelemetry-semantic-conventions, opentelemetry-instrumentation, onnxruntime, kubernetes, httpx, fastapi, dataclasses-json, opentelemetry-sdk, opentelemetry-instrumentation-asgi, langsmith, sentence-transformers, opentelemetry-instrumentation-fastapi, opentelemetry-exporter-otlp-proto-grpc, langchain-core, langchain-text-splitters, chromadb, langchain, langchain_community\n",
            "  Attempting uninstall: tenacity\n",
            "    Found existing installation: tenacity 9.0.0\n",
            "    Uninstalling tenacity-9.0.0:\n",
            "      Successfully uninstalled tenacity-9.0.0\n",
            "Successfully installed asgiref-3.8.1 backoff-2.2.1 bcrypt-4.2.0 chroma-hnswlib-0.7.6 chromadb-0.5.5 coloredlogs-15.0.1 dataclasses-json-0.6.7 deprecated-1.2.14 diskcache-5.6.3 fastapi-0.112.2 h11-0.14.0 httpcore-1.0.5 httptools-0.6.1 httpx-0.27.2 humanfriendly-10.0 jsonpatch-1.33 jsonpointer-3.0.0 kubernetes-30.1.0 langchain-0.2.16 langchain-core-0.2.38 langchain-text-splitters-0.2.4 langchain_community-0.2.16 langsmith-0.1.111 llama-cpp-python-0.2.90 marshmallow-3.22.0 mmh3-4.1.0 monotonic-1.6 mypy-extensions-1.0.0 onnxruntime-1.19.2 opentelemetry-api-1.27.0 opentelemetry-exporter-otlp-proto-common-1.27.0 opentelemetry-exporter-otlp-proto-grpc-1.27.0 opentelemetry-instrumentation-0.48b0 opentelemetry-instrumentation-asgi-0.48b0 opentelemetry-instrumentation-fastapi-0.48b0 opentelemetry-proto-1.27.0 opentelemetry-sdk-1.27.0 opentelemetry-semantic-conventions-0.48b0 opentelemetry-util-http-0.48b0 orjson-3.10.7 overrides-7.7.0 posthog-3.6.3 pypdf-4.3.1 pypika-0.48.9 python-dotenv-1.0.1 sentence-transformers-3.0.1 starlette-0.38.4 tenacity-8.5.0 typing-inspect-0.9.0 uvicorn-0.30.6 uvloop-0.20.0 watchfiles-0.24.0 websockets-13.0.1\n"
          ]
        }
      ],
      "source": [
        "!pip install langchain sentence-transformers chromadb llama-cpp-python langchain_community pypdf"
      ]
    },
    {
      "cell_type": "markdown",
      "metadata": {
        "id": "4FopYAa6Krjj"
      },
      "source": [
        "## Import libraries"
      ]
    },
    {
      "cell_type": "code",
      "execution_count": null,
      "metadata": {
        "id": "kGXeRCdILsha"
      },
      "outputs": [],
      "source": [
        "from langchain_community.document_loaders import PyPDFDirectoryLoader\n",
        "from langchain.text_splitter import CharacterTextSplitter,RecursiveCharacterTextSplitter\n",
        "from langchain_community.embeddings import HuggingFaceEmbeddings\n",
        "from langchain.vectorstores import FAISS, Chroma\n",
        "from langchain_community.llms import LlamaCpp\n",
        "from langchain.chains import RetrievalQA, LLMChain"
      ]
    },
    {
      "cell_type": "code",
      "execution_count": null,
      "metadata": {
        "id": "0zEnm5dLTd7s"
      },
      "outputs": [],
      "source": [
        "import pathlib\n",
        "import textwrap\n",
        "from IPython.display import display\n",
        "from IPython.display import Markdown\n",
        "\n",
        "\n",
        "\n",
        "def to_markdown(text):\n",
        "  text = text.replace('•', '  *')\n",
        "  return Markdown(textwrap.indent(text, '> ', predicate=lambda _: True))"
      ]
    },
    {
      "cell_type": "code",
      "execution_count": null,
      "metadata": {
        "id": "XXu9elVHUX1G"
      },
      "outputs": [],
      "source": [
        "# Used to securely store your API key\n",
        "from google.colab import userdata"
      ]
    },
    {
      "cell_type": "markdown",
      "metadata": {
        "id": "DmzD-oWKLtOJ"
      },
      "source": [
        "## Setup HuggingFace Access Token\n",
        "\n",
        "- Log in to [HuggingFace.co](https://huggingface.co/)\n",
        "- Click on your profile icon at the top-right corner, then choose [“Settings.”](https://huggingface.co/settings/)\n",
        "- In the left sidebar, navigate to [“Access Token”](https://huggingface.co/settings/tokens)\n",
        "- Generate a new access token, assigning it the “write” role.\n"
      ]
    },
    {
      "cell_type": "code",
      "execution_count": null,
      "metadata": {
        "id": "St7dpcL4UiX0"
      },
      "outputs": [],
      "source": [
        "# Or use `os.getenv('HUGGINGFACEHUB_API_TOKEN')` to fetch an environment variable.\n",
        "import os\n",
        "from getpass import getpass\n",
        "\n",
        "HUGGINGFACEHUB_API_TOKEN = userdata.get(\"HUGGINGFACEHUB_API_TOKEN\")\n",
        "os.environ[\"HUGGINGFACEHUB_API_TOKEN\"] = \"HUGGINGFACEHUB_API_TOKEN\""
      ]
    },
    {
      "cell_type": "markdown",
      "metadata": {
        "id": "KFyNhHmsMYBC"
      },
      "source": [
        "## Import document"
      ]
    },
    {
      "cell_type": "code",
      "execution_count": null,
      "metadata": {
        "id": "bOrnY8dgMdxt"
      },
      "outputs": [],
      "source": [
        "loader = PyPDFDirectoryLoader(\"/content/sample_data\")\n",
        "docs = loader.load()"
      ]
    },
    {
      "cell_type": "code",
      "execution_count": null,
      "metadata": {
        "colab": {
          "base_uri": "https://localhost:8080/"
        },
        "id": "K1TTrH5QNQxa",
        "outputId": "69064abb-5885-45b2-9f5c-f060d36430ef"
      },
      "outputs": [
        {
          "output_type": "execute_result",
          "data": {
            "text/plain": [
              "[Document(metadata={'source': '/content/sample_data/outlive.pdf', 'page': 0}, page_content='Chapter\\n1-\\nThe\\nLong\\nGame:\\nFrom\\nFast\\nDeath\\nto\\nSlow\\nDeath\\nScience\\nand\\nActionable\\nStrategies\\nin\\nthe\\nText:\\n●\\nLongevity\\nvs.\\nImmortality:\\nThe\\ntext\\nemphasizes\\nthat\\nlongevity\\ndoesn\\'t\\nmean\\nimmortality.\\nEveryone\\nwill \\neventually\\ndie,\\nbut\\nthe\\ngoal\\nis\\nto\\nextend\\nthe\\nhealthy\\nyears\\nof\\nlife.\\n●\\nThe\\nImportance\\nof\\nEarly\\nIntervention:\\nThe\\nkey\\ntakeaway\\nis\\nthat\\nmodern\\nmedicine\\noften\\nintervenes\\ntoo \\nlate\\nin\\nthe\\nprogression\\nof\\nchronic\\ndiseases.\\nThe\\nauthor\\nsuggests\\nthat\\nthe\\nbest\\napproach\\nis\\nto\\nact\\nearly \\nto\\nprevent\\nthese\\ndiseases\\nrather\\nthan\\nwaiting\\nuntil\\nthey\\nare\\nentrenched. \\n●\\n●\\nUnderstanding\\nRoot\\nCauses:\\nThe\\ntext\\nmentions\\nthat\\nmainstream\\nmedicine\\nsometimes \\nmisunderstands\\nthe\\nroot\\ncauses\\nof\\ndiseases\\nlike\\nheart\\ndisease,\\ncancer,\\nand\\ntype\\n2\\ndiabetes.\\nIt \\nsuggests\\nthat\\naddressing\\nthese\\nroot\\ncauses\\nearly\\nis\\ncrucial\\nfor\\nprevention.\\n●\\nNutrition\\nand\\nMetabolism:\\nThe\\nauthor\\ndelves\\ninto\\nthe\\nimportance\\nof\\nunderstanding\\nnutrition\\nand \\nmetabolism.\\nNutrition\\nplays\\na\\nsignificant\\nrole\\nin\\npreventing\\nchronic\\ndiseases,\\nand\\ndifferent\\nindividuals \\nmay\\nrequire\\ndifferent\\ndietary\\npatterns. \\n●\\n●\\nThe\\nRole\\nof\\nProtein:\\nThe\\ntext\\nhighlights\\nthe\\nsignificance\\nof\\nprotein,\\nparticularly\\nas\\npeople\\nage.\\nProtein \\nintake\\nand\\nquality\\nare\\nessential\\nfor\\nmaintaining\\nhealth.\\n●\\nExercise\\nas\\na\\nLongevity\\nTool:\\nExercise\\nis\\npresented\\nas\\nthe\\nmost\\npotent\\n\"longevity\\ndrug.\"\\nRegular \\nphysical\\nactivity\\ncan\\nsignificantly\\nextend\\nlifespan\\nand\\nimprove\\noverall\\nhealth.\\n●\\nEmotional\\nHealth:\\nEmotional\\nwell-being\\nis\\nemphasized\\nas\\na\\ncritical\\ncomponent\\nof\\nlongevity.\\nEmotional \\nsuffering\\ncan\\nhave\\nadverse\\neffects\\non\\nphysical\\nhealth,\\nso\\nit\\nmust\\nbe\\naddressed.\\n●\\nPersonal\\nResponsibility:\\nThe\\nauthor\\nencourages\\nreaders\\nto\\ntake\\nresponsibility\\nfor\\ntheir\\nhealth\\nand \\nlongevity\\nby\\nmaking\\ninformed\\nchoices\\nand\\ntaking\\nproactive\\nmeasures\\nto\\nprevent\\nchronic\\ndiseases.\\n●\\nChanging\\nMedical\\nParadigm:\\nThe\\ntext\\nadvocates\\nfor\\na\\nparadigm\\nshift\\nin\\nmedicine,\\nfrom\\nreactive\\nto \\nproactive\\napproaches.\\nThis\\nshift\\ninvolves\\nfocusing\\non\\npreventing\\nchronic\\ndiseases\\nrather\\nthan\\nwaiting \\nfor\\nthem\\nto\\ndevelop.\\n●\\nActionable\\nOperating\\nManual:\\nThe\\nauthor\\naims\\nto\\nprovide\\nreaders\\nwith\\nan\\nactionable\\nguide\\nfor \\npracticing\\nlongevity.\\nThe\\ngoal\\nis\\nto\\nhelp\\nindividuals\\nextend\\ntheir\\nlifespan\\nby\\nmaking\\ninformed\\nchoices \\nand\\nadopting\\nhealthier\\nlifestyles.\\n●\\nPatient\\nAdvocacy:\\nThe\\ntext\\nsuggests\\nthat\\nthe\\ntransformation\\nin\\nhealthcare\\ntowards\\nproactive\\nmedicine \\nwill\\nonly\\noccur\\nif\\nboth\\npatients\\nand\\nphysicians\\ndemand\\nit.\\nIt\\nhighlights\\nthe\\nneed\\nfor\\nindividuals\\nto\\nbe \\nproactive\\nabout\\ntheir\\nhealth.\\nIn\\nsummary,\\nthe\\ntext\\nencourages\\nreaders\\nto\\nshift\\ntheir\\nmindset\\nfrom\\nreactive\\nto\\nproactive\\nhealthcare, \\nemphasizing\\nearly\\nintervention,\\nunderstanding\\nroot\\ncauses,\\nnutrition,\\nexercise,\\nand\\nemotional\\nwell-being\\nas \\ncrucial\\nfactors\\nin\\nachieving\\nlongevity\\nand\\nbetter\\nquality\\nof\\nlife.\\nIt\\nalso\\nstresses\\nthe\\nimportance\\nof\\nadvocating\\nfor \\nthese\\nchanges\\nin\\nthe\\nhealthcare\\nsystem.'),\n",
              " Document(metadata={'source': '/content/sample_data/outlive.pdf', 'page': 1}, page_content=\"Chapter\\n2\\n-\\nMedicine\\n3.0:\\nRethinking\\nMedicine\\nfor\\nthe\\nAge\\nof\\nChronic\\nDisease\\nSummary\\nand\\nActionable\\nStrategies\\nfrom\\nthe\\nText:\\n1.\\nEmphasis\\non\\nRisk\\nAnalysis:\\nMedicine\\n3.0\\nplaces\\na\\nstrong\\nemphasis\\non\\nunderstanding\\nand\\nanalyzing\\nrisk.\\nJust\\nas\\nin\\nfinance,\\nwhere \\nunderstanding\\nrisk\\nis\\ncrucial\\nfor\\ndecision-making,\\nin\\nmedicine,\\nit's\\nimportant\\nto\\nassess\\nand\\nmanage\\nrisk \\neffectively.\\n2.\\nShift\\nTowards\\nPrevention:\\nMedicine\\n3.0\\nprioritizes\\nprevention\\nover\\ntreatment.\\nInstead\\nof\\nwaiting\\nfor\\ndiseases\\nto\\nmanifest\\nand\\nthen \\ntreating\\nthem,\\nthis\\napproach\\nfocuses\\non\\nidentifying\\nand\\naddressing\\nrisk\\nfactors\\nto\\nprevent\\nillnesses\\nfrom \\noccurring\\nin\\nthe\\nfirst\\nplace.\\n3.\\nPersonalized\\nMedicine:\\nMedicine\\n3.0\\nrecognizes\\nthe\\nuniqueness\\nof\\neach\\npatient.\\nInstead\\nof\\napplying\\none-size-fits-all\\ntreatments\\nbased \\non\\nclinical\\ntrial\\naverages,\\nit\\nseeks\\nto\\ntailor\\nhealthcare\\nto\\nthe\\nindividual,\\nconsidering\\ntheir\\nspecific\\ngenetic, \\nmetabolic,\\nand\\nlifestyle\\nfactors.\\n4.\\nUtilizing\\nTechnology:\\nTechnology,\\nsuch\\nas\\ncontinuous\\nglucose\\nmonitoring\\n(CGM),\\nenables\\nreal-time\\ndata\\ncollection\\nand \\npersonalized\\ninterventions.\\nFuture\\nadvancements\\nin\\nhealthcare\\ntechnology\\nwill\\nfurther\\nenhance\\nour\\nability\\nto \\nprovide\\nindividualized\\ncare.\\n5.\\nEvidence-Informed\\nMedicine:\\nMedicine\\n3.0\\ngoes\\nbeyond\\nevidence-based\\nmedicine\\nby\\nconsidering\\nhow\\nresearch\\nfindings\\napply\\nto\\nindividual \\npatients.\\nIt\\nacknowledges\\nthat\\nnot\\nall\\npatients\\nfit\\nthe\\naverage,\\nand\\ntheir\\nunique\\ncharacteristics\\nshould\\nguide \\ntreatment\\ndecisions.\\n6.\\nFocus\\non\\nLong-Term\\nHealth:\\nChronic\\ndiseases\\nare\\na\\ncentral\\nconcern\\nfor\\nMedicine\\n3.0.\\nIt\\nacknowledges\\nthat\\nthese\\nconditions\\noften\\nhave \\nlong\\nprologues\\nand\\naims\\nto\\naddress\\nrisk\\nfactors\\nand\\nprevent\\nthem\\nfrom\\nbecoming\\nentrenched.\\n7.\\nShifting\\nMindset:\\nTransitioning\\nto\\nMedicine\\n3.0\\nrequires\\na\\nshift\\nin\\nthe\\nmedical\\nmindset.\\nIt\\ninvolves\\nmoving\\nfrom\\nreactive, \\nsymptom-based\\ncare\\nto\\nproactive,\\nrisk-aware,\\nand\\npersonalized\\nhealthcare.\\n8.\\nContinuous\\nLearning\\nand\\nAdaptation:\\nPractitioners\\nshould\\nembrace\\nongoing\\nlearning\\nand\\nadaptation\\nto\\nstay\\nup-to-date\\nwith\\nadvancements\\nin \\ntechnology,\\nresearch,\\nand\\nmedical\\npractices\\nin\\nthe\\nevolving\\nlandscape\\nof\\nMedicine\\n3.0.\\n9.\\nCollaboration\\nand\\nMultidisciplinary\\nCare:\\nMedicine\\n3.0\\nmay\\nbenefit\\nfrom\\na\\ncollaborative\\napproach\\ninvolving\\nhealthcare\\nproviders\\nfrom\\nvarious \\ndisciplines.\\nThis\\ncan\\nprovide\\na\\nmore\\ncomprehensive\\nunderstanding\\nof\\nthe\\npatient's\\nunique\\nneeds\\nand\\nrisk \\nfactors.\\nIncorporating\\nthese\\nprinciples\\ninto\\nhealthcare\\npractice\\ncan\\nlead\\nto\\nmore\\neffective\\nand\\npersonalized\\npatient \\ncare,\\nwith\\na\\ngreater\\nfocus\\non\\nprevention\\nand\\nrisk\\nmanagement.\\nThe\\ntext\\nhighlights\\nseveral\\nkey\\npoints\\nand\\nactionable\\nstrategies\\nassociated\\nwith\\na\\nshift\\nfrom\\nMedicine\\n2.0\\nto \\nMedicine\\n3.0\\nin\\nhealthcare:\"),\n",
              " Document(metadata={'source': '/content/sample_data/outlive.pdf', 'page': 2}, page_content=\"1.\\nAttitude\\nToward\\nRisk:\\nMedicine\\n3.0\\npromotes\\nan\\nhonest\\nassessment\\nand\\nacceptance\\nof\\nrisk,\\nincluding\\nthe\\nrisk\\nof\\ndoing\\nnothing\\nin \\nthe\\ncontext\\nof\\nhealthcare\\ndecisions.\\n2.\\nIndividualized\\nAssessment:\\nIn\\nMedicine\\n3.0,\\nhealthcare\\ndecisions\\nconsider\\nindividual\\npatient\\nfactors,\\nsuch\\nas\\nunique\\nsymptoms\\nand\\nrisk \\nfactors,\\nrather\\nthan\\nsolely\\nrelying\\non\\npopulation-level\\nstudies. \\nIt\\nemphasizes\\nunderstanding\\nhow\\na\\nspecific\\nintervention's\\nrisks\\nand\\nbenefits\\napply\\nto\\nan\\nindividual\\npatient, \\nconsidering\\ntheir\\ndistinct\\nprofile.\\n3.\\nFocus\\non\\nHealthspan:\\nMedicine\\n3.0\\nprioritizes\\nnot\\njust\\nlifespan\\nbut\\nalso\\nhealthspan,\\nwhich\\nrefers\\nto\\nthe\\nquality\\nof\\nlife\\nas\\npeople\\nage. \\nIt\\nacknowledges\\nthe\\nimportance\\nof\\nmaintaining\\nphysical\\nand\\ncognitive\\ncapacity\\nthrough\\nlifestyle\\nfactors\\nlike \\nexercise,\\nsleep,\\nand\\nnutrition.\\n4.\\nPreventive\\nvs.\\nTreatment\\nApproach:\\nMedicine\\n3.0\\nadvocates\\nfor\\na\\nshift\\ntowards\\npreventive\\ninterventions\\nthat\\ncan\\nextend\\nboth\\nlifespan\\nand \\nhealthspan.\\nIt\\nemphasizes\\nthe\\nneed\\nto\\naddress\\nrisk\\nfactors\\nand\\npromote\\nhealthier\\nlifestyles\\nto\\nprevent\\nchronic \\ndiseases.\\n5.\\nHealthcare\\nSystem\\nReform:\\nMedicine\\n3.0\\nrecognizes\\nthe\\nneed\\nfor\\nhealthcare\\nsystem\\nreform\\nto\\nalign\\nincentives\\nwith\\npreventive\\ncare\\nrather \\nthan\\ntreatment,\\nas\\ncurrent\\nsystems\\noften\\nprioritize\\nthe\\nlatter.\\n6.\\nLonger-Term\\nPerspective:\\nMedicine\\n3.0\\nlooks\\nat\\nhealth\\nrisks\\nand\\ninterventions\\nover\\nlonger\\ntime\\nframes\\n(e.g.,\\ndecades)\\nrather\\nthan \\nrelying\\nsolely\\non\\nshort-term\\nclinical\\ntrials.\\n7.\\nPatient\\nEngagement:\\nPatients\\nare\\nencouraged\\nto\\nbe\\nwell-informed,\\nmedically\\nliterate,\\nand\\nactively\\ninvolved\\nin\\ntheir\\nhealthcare \\ndecisions.\\nThey\\nshould\\nembrace\\nchange,\\naccept\\nnew\\nchallenges,\\nand\\nbe\\nwilling\\nto\\nmake\\ndecisions\\nbased\\non \\nrisk\\nand\\nbenefit\\nassessments.\\n8.\\nPersonal\\nResponsibility:\\nPatients\\nin\\nMedicine\\n3.0\\ntake\\nan\\nactive\\nrole\\nin\\ntheir\\nhealthcare\\njourney\\nand\\nare\\nseen\\nas\\ncaptains\\nof\\ntheir\\nown \\nhealth.\\nThey\\nconfront\\nproblems,\\nmake\\nimportant\\ndecisions,\\nand\\nhave\\na\\ndirect\\nstake\\nin\\nthe\\noutcomes. \\nIn\\nsummary,\\nMedicine\\n3.0\\nrepresents\\na\\nshift\\ntowards\\na\\nmore\\npatient-centered,\\npreventive,\\nand\\npersonalized \\napproach\\nto\\nhealthcare.\\nIt\\nemphasizes\\nunderstanding\\nrisk,\\npromoting\\nhealthspan,\\nand\\nactively\\ninvolving \\npatients\\nin\\ntheir\\nhealthcare\\ndecisions\\nfor\\nbetter\\nlong-term\\noutcomes.\"),\n",
              " Document(metadata={'source': '/content/sample_data/outlive.pdf', 'page': 3}, page_content='Chapter\\n3\\n-\\nObjective,\\nStrategy,\\nTactics:\\nA\\nRoad\\nMap\\nfor\\nReading\\nThis\\nBook\\nIn\\nthis\\nchapter,\\nDr.\\nPeter\\nAttia\\ndiscusses\\nthe\\nimportance\\nof\\nadopting\\na\\nstrategic\\napproach\\nto\\nachieving \\nlongevity.\\nHe\\nshares\\na\\npersonal\\nstory\\nabout\\nhis\\nfriend\\nBecky\\'s\\nmother,\\nSophie,\\nwho\\nexperienced\\na\\ndecline\\nin \\nphysical\\nand\\ncognitive\\nhealth\\nin\\nher\\nlater\\nyears.\\nDr.\\nAttia\\nintroduces\\nthe\\nconcept\\nof\\nthe\\n\"Marginal\\nDecade,\"\\na \\nperiod\\nof\\ndiminishing\\nhealth\\nand\\nlimitation\\nthat\\nmany\\npeople\\nexperience\\nin\\ntheir\\nfinal\\nyears.\\nKey\\nPoints:\\n●\\nObjective,\\nStrategy,\\nTactics:\\nDr.\\nAttia\\nemphasizes\\nthe\\nneed\\nfor\\na\\nstrategic\\napproach\\nto\\nlongevity.\\nHe \\nquotes\\nSun\\nTzu,\\nhighlighting\\nthat\\nstrategy\\nwithout\\ntactics\\nis\\ninsufficient,\\nand\\ntactics\\nwithout\\nstrategy \\ncan\\nlead\\nto\\nfailure.\\n●\\nPlanning\\nfor\\nLater\\nDecades:\\nHe\\nencourages\\nreaders\\nto\\nthink\\nabout\\nand\\nplan\\nfor\\ntheir\\nlater\\ndecades, \\nconsidering\\nwhat\\nactivities\\nand\\nquality\\nof\\nlife\\nthey\\nwant\\nto\\nhave\\nin\\ntheir\\nseventies,\\neighties,\\nand \\nbeyond. \\n●\\n●\\nThe\\nStrategy:\\nDr.\\nAttia\\nintroduces\\nthe\\nstrategy\\nof\\ndelaying\\ndeath\\nand\\nmaximizing\\nthe\\nquality\\nof\\nlife\\nin \\nlater\\nyears.\\nHe\\ncoins\\nthe\\nterm\\n\"Bonus\\nDecade\"\\nto\\ndescribe\\na\\nphase\\nof\\nlife\\nwhere\\nindividuals\\nthrive\\nand \\nenjoy\\ntheir\\nactivities.\\n●\\nThe\\nThree\\nVectors\\nof\\nDeterioration:\\nDr.\\nAttia\\nidentifies\\nthree\\ncategories\\nof\\ndeterioration\\nthat\\naffect \\nhealthspan:\\ncognitive\\ndecline,\\nphysical\\ndecline,\\nand\\nemotional\\nhealth.\\nHe\\nexplains\\nthat\\nthe\\ngoal\\nis\\nto \\nslow\\nor\\nreverse\\nthese\\ndeclines. \\n●\\n●\\nThe\\nInterconnectedness\\nof\\nLifespan\\nand\\nHealthspan:\\nDr.\\nAttia\\nemphasizes\\nthat\\nlifespan\\nand \\nhealthspan\\nare\\ninterconnected.\\nImproving\\nhealthspan\\nthrough\\nstrategies\\nand\\ntactics\\nwill\\nlikely\\nresult\\nin \\na\\nlonger\\nlifespan.\\n●\\nFive\\nDomains\\nof\\nTactics:\\nHe\\noutlines\\nthe\\nfive\\nkey\\ndomains\\nof\\ntactics\\nfor\\nlongevity:\\nexercise,\\nnutrition, \\nsleep,\\nemotional\\nhealth,\\nand\\nexogenous\\nmolecules\\n(drugs,\\nhormones,\\nsupplements).\\n●\\nExercise\\nas\\na\\nPotent\\nLongevity\\n\"Drug\":\\nDr.\\nAttia\\nstresses\\nthe\\nimportance\\nof\\nexercise\\nas\\na\\npowerful \\nintervention\\nfor\\nextending\\nlifespan\\nand\\nimproving\\nhealthspan.\\nHe\\nhighlights\\nthat\\nvarious\\ncomponents \\nof\\nexercise,\\nsuch\\nas\\nstrength,\\nstability,\\nand\\naerobic\\nfitness,\\nare\\nessential.\\n●\\nNutrition:\\nDr.\\nAttia\\ndoes\\nnot\\nprescribe\\na\\nspecific\\ndiet\\nbut\\nemphasizes\\nthe\\nsignificance\\nof\\ncalorie\\ncontrol \\nand\\nfinding\\nan\\neating\\npattern\\nthat\\nsuits\\nindividual\\nneeds.\\n●\\nImportance\\nof\\nSleep:\\nHe\\ndiscusses\\nthe\\ncrucial\\nrole\\nof\\nsleep\\nin\\npromoting\\noverall\\nhealth\\nand\\npreventing \\nvarious\\nhealth\\nissues.\\n●\\nEmotional\\nHealth:\\nDr.\\nAttia\\nacknowledges\\nthe\\nimportance\\nof\\nemotional\\nhealth\\nand\\npersonal \\nexperiences\\nin\\nhis\\njourney\\ntowards\\nemotional\\nwell-being.\\nHe\\nhighlights\\nthe\\nconnection\\nbetween \\nemotional\\nhealth\\nand\\noverall\\nquality\\nof\\nlife.\\n●\\nEvidence-Informed\\nApproach:\\nHe\\nacknowledges\\nthe\\nlimitations\\nof\\nrandomized\\nclinical\\ntrials\\nin\\nthe \\ncontext\\nof\\nlongevity\\nand\\nadvocates\\nfor\\nan\\nevidence-informed\\napproach,\\nrecognizing\\nthe\\ncomplexity \\nand\\nlong-term\\nnature\\nof\\nthe\\npursuit\\nof\\nlongevity.\\nOverall,\\nthis\\nchapter\\nlays\\nthe\\nfoundation\\nfor\\na\\ncomprehensive\\nand\\nthoughtful\\nexploration\\nof\\nlongevity, \\nemphasizing\\nthe\\nneed\\nfor\\na\\nstrategic\\nmindset\\nand\\nevidence-informed\\ntactics\\nto\\nachieve\\na\\nlonger\\nand\\nhealthier \\nlife.\\nThe\\ntext\\ndiscusses\\na\\nshift\\nfrom\\nexclusive\\nreliance\\non\\nevidence-based\\nmedicine,\\nwhich\\ndemands\\nrandomized \\ncontrolled\\ntrials\\n(RCTs)\\nfor\\nall\\ndecisions,\\nto\\na\\nmore\\nflexible,\\nevidence-informed,\\nrisk-adjusted\\nprecision \\nmedicine\\napproach.\\nIt\\nhighlights\\nthe\\nlimitations\\nof\\nRCTs\\nfor\\naddressing\\ncomplex,\\nlong-term\\nhealth\\ngoals\\nlike \\nlongevity\\nand\\nproposes\\na\\nstrategy\\nbased\\non\\ncombining\\ninsights\\nfrom\\nmultiple\\nsources\\nof\\ndata:'),\n",
              " Document(metadata={'source': '/content/sample_data/outlive.pdf', 'page': 4}, page_content=\"●\\nCentenarian\\nStudies:\\nThe\\nfirst\\nsource\\nof\\ndata\\ninvolves\\nstudying\\npeople\\nwho\\nhave\\nlived\\nbeyond\\n100 \\nyears\\n(centenarians)\\nin\\ngood\\nhealth.\\nResearchers\\naim\\nto\\nidentify\\ncommon\\nfactors,\\ngenes,\\nand \\nlifestyles\\nthat\\ncontribute\\nto\\ntheir\\nlongevity\\nand\\nslower\\nageing.\\nThis\\ndata,\\nthough\\nobservational, \\nprovides\\nvaluable\\ninsights.\\n●\\nAnimal\\nModels:\\nLifespan\\ndata\\nfrom\\nanimal\\nmodels,\\nsuch\\nas\\nlaboratory\\nmice,\\nis\\nexamined.\\nThese \\nmodels\\nallow\\nfor\\neasier\\ntesting\\nof\\ninterventions\\nthat\\ncan\\nextend\\nlifespan\\nand\\nhealthspan.\\nWhile \\nfindings\\nin\\nanimals\\nmay\\nnot\\nalways\\ndirectly\\ntranslate\\nto\\nhumans,\\nconsistent\\nresults\\nacross\\ndifferent \\nspecies\\nprovide\\nvaluable\\nclues.\\n●\\nHuman\\nStudies\\nof\\nCommon\\nDiseases:\\nThe\\ntext\\nemphasizes\\nstudying\\ndiseases\\nlike\\ncardiovascular \\ndisease,\\ncancer,\\nAlzheimer's\\ndisease,\\nand\\ntype\\n2\\ndiabetes\\nto\\nunderstand\\ntheir\\nonset,\\nprogression,\\nand \\nrisk\\nfactors.\\nBy\\ncomprehensively\\nunderstanding\\nthese\\ndiseases,\\nresearchers\\ncan\\ndevelop\\neffective \\nprevention\\nstrategies.\\n●\\nMolecular\\nand\\nMechanistic\\nInsights:\\nInsights\\nfrom\\nthe\\nstudy\\nof\\nageing\\nat\\nthe\\ncellular\\nlevel\\nin\\nboth \\nhumans\\nand\\nanimals\\nare\\nconsidered.\\nThis\\nknowledge\\ncan\\ninform\\nstrategies\\nfor\\nmanipulating\\ncellular \\nchanges\\nthrough\\ndrugs\\nor\\nbehavioral\\nchanges\\nlike\\nexercise.\\n●\\nMendelian\\nRandomization\\n(MR):\\nMR\\nis\\na\\nstatistical\\nmethod\\nused\\nto\\nestablish\\ncausal\\nrelationships \\nbetween\\nmodifiable\\nrisk\\nfactors\\nand\\nhealth\\noutcomes.\\nIt\\nrelies\\non\\ngenetic\\nvariations\\nand \\nrandomization,\\nbridging\\nthe\\ngap\\nbetween\\nRCTs\\nand\\nobservational\\nepidemiology.\\nMR\\nhelps\\ndetermine \\ncausality\\nfor\\nfactors\\nlike\\nLDL\\ncholesterol\\nand\\nits\\nimpact\\non\\ncancer\\nand\\ncardiovascular\\ndisease.\\nThe\\ntext\\nalso\\nacknowledges\\nthe\\ncomplexity\\nof\\nbiological\\nsystems\\nand\\nthe\\ninherent\\nuncertainty\\nin\\nbiology. \\nInstead\\nof\\nseeking\\nabsolute\\ncertainty,\\nit\\nsuggests\\nthinking\\nin\\nterms\\nof\\nprobabilities\\nand\\nrisks,\\nmuch\\nlike \\nmanageing\\nan\\ninvestment\\nportfolio.\\nThe\\ngoal\\nis\\nto\\nidentify\\nlifestyle\\nchanges\\nand\\ntactics\\nthat,\\nbased\\non\\ncurrent \\nknowledge,\\nare\\nlikely\\nto\\nimprove\\nlifespan\\nand\\nhealthspan\\nwhile\\nconsidering\\nindividual\\nrisk\\ntolerance.\\nThe \\nstrategy\\naims\\nto\\nequip\\nindividuals\\nwith\\ntools\\nto\\nadapt\\ntheir\\ntactics\\nas\\nneeded\\nthroughout\\ntheir\\nlives.\\nIn\\nsummary,\\nthe\\nactionable\\nstrategies\\nproposed\\nin\\nthe\\ntext\\ninvolve\\nsynthesizing\\ninsights\\nfrom\\ndiverse\\ndata \\nsources,\\nincluding\\ncentenarian\\nstudies,\\nanimal\\nmodels,\\ndisease\\nstudies,\\nmolecular\\ninsights,\\nand\\nMendelian \\nrandomization,\\nto\\ninform\\npersonalized\\nand\\nevolving\\nhealth\\nstrategies\\nfor\\nmaximizing\\nlongevity\\nand\\nhealthspan.\"),\n",
              " Document(metadata={'source': '/content/sample_data/outlive.pdf', 'page': 5}, page_content='Chapter\\n4\\n-\\nCentenarians:\\nThe\\nOlder\\nYou\\nGet,\\nthe\\nHealthier\\nYou\\nHave\\nBeen\\n//\\nLOOKS\\nLIKE\\nIT\\nNEEDS\\nMANUAL\\nEDIT\\nTO\\nME\\n…\\n//\\nSummary\\nof\\nScience\\nand\\nActionable\\nStrategies:\\nCentenarians\\nexhibit\\nextreme\\nlongevity\\nand\\noften\\nmaintain\\ngood\\nhealth\\nwell\\ninto\\ntheir\\nold\\nage. \\nResearch\\nhas\\nshown\\nthat\\ncentenarians\\nmay\\nnot\\nnecessarily\\nfollow\\n\"healthy\"\\nlifestyles,\\nwith\\nsome\\nindulging\\nin \\nhabits\\nlike\\nsmoking,\\ndrinking,\\nand\\nconsuming\\nunconventional\\ndiets.\\nGenetics\\nplay\\na\\nsignificant\\nrole\\nin\\ndetermining\\ncentenarians\\'\\nability\\nto\\nlive\\nlong\\nand\\nhealthy\\nlives,\\nbut \\nenvironmental\\nfactors\\nand\\nbehaviors\\nalso\\ncontribute.\\nStudies\\nof\\ncentenarians\\nhave\\nrevealed\\nthat\\ntheir\\ngenetic\\nmakeup,\\nparticularly\\ngenes\\nrelated\\nto\\ncholesterol\\nand \\nglucose\\nmetabolism,\\ncan\\ninfluence\\ntheir\\nlongevity\\nand\\nhealthspan.\\nFOXO3\\nis\\na\\ngene\\nassociated\\nwith\\nhealthy\\nageing\\nand\\nlongevity,\\nand\\nit\\ncan\\nbe\\ninfluenced\\nby\\nlifestyle\\nfactors \\nlike\\nexercise\\nand\\nnutrition.\\nGene\\nexpression\\npatterns\\nin\\ncentenarians\\nresemble\\nthose\\nof\\nmuch\\nyounger\\nindividuals,\\nsuggesting\\nthat \\nenvironmental\\nfactors\\ncan\\nimpact\\ngene\\nexpression\\nand,\\nconsequently,\\nageing.\\nCentenarians\\ndelay\\nor\\nresist\\nthe\\nonset\\nof\\nchronic\\ndiseases\\nby\\nseveral\\ndecades\\ncompared\\nto\\nthe\\ngeneral \\npopulation.\\nThe\\ngoal\\nis\\nto\\nemulate\\nthe\\nphase\\nshift\\nobserved\\nin\\ncentenarians,\\nliving\\nlonger\\nwithout\\nchronic\\ndisease,\\nand \\nextending\\nthe\\nhealthspan.\\nTraditional\\nmedicine\\n(Medicine\\n2.0)\\nprimarily\\nfocuses\\non\\ntreating\\ndiseases\\nafter\\nthey\\nmanifest,\\nwhile\\nthe \\napproach\\nshould\\nshift\\ntowards\\nearly\\nprevention\\nand\\ntargeting\\ncommon\\ndrivers\\nof\\nchronic\\ndiseases. \\nThe\\nconcept\\nof\\nresilience\\nis\\nkey\\nto\\ncentenarians\\'\\nlongevity.\\nCultivating\\nresilience\\ninvolves\\ntargeting\\nfactors\\nlike \\nmetabolic\\nhealth,\\nphysical\\nfitness,\\ncognitive\\nfunction,\\nand\\nreducing\\ndisease\\nrisk\\nthrough\\nlifestyle\\nand \\npotentially\\ngenetic\\ninterventions.\\nIn\\nsummary,\\nthe\\nsecret\\nof\\ncentenarians\\'\\nlongevity\\nand\\nhealthspan\\nlies\\nin\\na\\ncombination\\nof\\ngenetics\\nand \\nresilient\\nbehaviors.\\nWhile\\ngenetics\\nplay\\na\\nrole,\\nindividuals\\ncan\\nenhance\\ntheir\\nchances\\nof\\nliving\\nlonger,\\nhealthier \\nlives\\nby\\nadopting\\nearly\\nprevention\\nstrategies,\\npromoting\\nmetabolic\\nhealth,\\nstaying\\nphysically\\nand\\nmentally \\nactive,\\nand\\nunderstanding\\nthe\\ngenetic\\nfactors\\nthat\\nmay\\ninfluence\\ntheir\\nlongevity.'),\n",
              " Document(metadata={'source': '/content/sample_data/outlive.pdf', 'page': 6}, page_content=\"Chapter\\n5\\n-\\nEat\\nLess,\\nLive\\nLonger:\\nThe\\nScience\\nof\\nHunger\\nand\\nHealth\\nThe\\ntext\\ndiscusses\\nthe\\ndiscovery\\nand\\npotential\\nimpact\\nof\\nthe\\nmolecule\\nrapamycin\\non\\nlongevity\\nand \\nhealthspan.\\nHere\\nare\\nthe\\nscience\\nand\\nactionable\\nstrategies\\nhighlighted\\nin\\nthe\\ntext:\\nScientific\\nDiscoveries:\\nRapamycin:\\nRapamycin\\nis\\na\\nmolecule\\ninitially\\ndiscovered\\non\\nEaster\\nIsland\\n(Rapa\\nNui)\\nand\\nhas\\nbeen\\nshown\\nto \\nextend\\nmaximum\\nlifespan\\nin\\nmammals,\\nparticularly\\nmice.\\nIt\\nis\\nalso\\nused\\nin\\ntransplant\\nmedicine\\nto\\nhelp\\npatients \\naccept\\nnew\\norgans\\nand\\nis\\nused\\nin\\narterial\\nstents\\nto\\nprevent\\nreocclusion.\\nmTOR\\nPathway:\\nRapamycin\\nacts\\non\\nthe\\nmTOR\\n(mechanistic\\ntarget\\nof\\nrapamycin)\\npathway,\\na\\ncellular \\nmechanism\\nthat\\nbalances\\nan\\norganism's\\ngrowth\\nand\\nreproduction\\nagainst\\nnutrient\\navailability.\\nmTOR\\nplays\\na \\ncrucial\\nrole\\nin\\nregulating\\ncellular\\nprocesses,\\nincluding\\nmetabolism,\\nprotein\\nsynthesis,\\nand\\ncell\\ndivision.\\nAMPK:\\nAMP-activated\\nprotein\\nkinase\\n(AMPK)\\nis\\nan\\nenzyme\\nactivated\\nin\\nresponse\\nto\\nlow\\nnutrient\\nlevels,\\nsuch \\nas\\nduring\\ncaloric\\nrestriction\\nor\\nexercise.\\nAMPK\\npromotes\\nstress\\nresistance,\\nmitochondrial\\nbiogenesis,\\nand \\nautophagy,\\ncontributing\\nto\\nimproved\\ncellular\\nhealth.\\nCaloric\\nRestriction\\n(CR):\\nCaloric\\nrestriction,\\nreducing\\ncaloric\\nintake\\nwithout\\nmalnutrition,\\nhas\\nbeen\\nshown\\nto \\nextend\\nthe\\nlifespan\\nof\\nvarious\\norganisms,\\nincluding\\nmice\\nand\\nrats,\\nby\\nup\\nto\\n45%.\\nCR\\nalso\\nimproves\\nhealthspan \\nand\\nreduces\\nthe\\nrisk\\nof\\nspontaneous\\ntumors.\\nAutophagy:\\nAutophagy\\nis\\na\\ncellular\\nrecycling\\nprocess\\nthat\\nremoves\\ndamaged\\nproteins\\nand\\ncellular \\ncomponents.\\nIt\\nenhances\\ncellular\\nefficiency,\\nstress\\nresistance,\\nand\\nlongevity.\\nImpaired\\nautophagy\\nis \\nassociated\\nwith\\nageing-related\\ndiseases.\\nActionable\\nStrategies:\\n●\\nModerate\\nCaloric\\nIntake:\\nWhile\\nextreme\\ncaloric\\nrestriction\\nmay\\nnot\\nbe\\nsustainable\\nfor\\nmost\\nhumans, \\nadopting\\na\\nmoderate\\ncaloric\\nintake\\nand\\navoiding\\novereating\\nmay\\npromote\\nbetter\\nhealth\\nand\\npotentially \\nextend\\nlifespan.\\n●\\nExercise:\\nRegular\\nphysical\\nactivity\\nactivates\\nAMPK\\nand\\npromotes\\nmitochondrial\\nbiogenesis\\nand \\nautophagy.\\nIncorporating\\nexercise\\ninto\\nyour\\nroutine\\ncan\\ncontribute\\nto\\ncellular\\nhealth\\nand\\noverall \\nwell-being.\\n●\\nHealthy\\nDiet:\\nChoose\\nnutrient-dense\\nfoods\\nthat\\nprovide\\nessential\\nnutrients\\nwithout\\nexcessive\\ncalories. \\nPrioritize\\na\\nbalanced\\ndiet\\nrich\\nin\\nfruits,\\nvegetables,\\nlean\\nproteins,\\nand\\nwhole\\ngrains.\\n●\\nIntermittent\\nFasting:\\nPeriodic\\nfasting\\nor\\ntime-restricted\\neating\\npatterns\\nmay\\nmimic\\nsome\\nof\\nthe\\nbenefits \\nof\\ncaloric\\nrestriction\\nand\\nactivate\\ncellular\\nmechanisms\\nlike\\nautophagy.\\n●\\nConsult\\na\\nHealthcare\\nProfessional:\\nBefore\\nconsidering\\nany\\ninterventions\\nor\\nmedications\\nlike \\nrapamycin,\\nit's\\nessential\\nto\\nconsult\\nwith\\na\\nhealthcare\\nprofessional\\nwho\\ncan\\nassess\\nyour\\nspecific\\nhealth \\nneeds\\nand\\nrisks.\\n●\\nStay\\nInformed:\\nStay\\nupdated\\non\\nscientific\\nresearch\\nregarding\\nageing,\\nlongevity,\\nand\\ninterventions\\nlike \\nrapamycin.\\nNew\\ndiscoveries\\nmay\\noffer\\npotential\\nstrategies\\nfor\\nmaintaining\\nhealth\\nand\\nextending \\nlifespan\\nin\\nthe\\nfuture.\\nRemember\\nthat\\nwhile\\nthe\\ntext\\ndiscusses\\nexciting\\nscientific\\nfindings,\\nthe\\npractical\\napplication\\nof\\nthese\\ninsights \\nto\\nhuman\\nhealth\\nshould\\nbe\\napproached\\ncautiously\\nand\\nunder\\nprofessional\\nguidance,\\nespecially\\nregarding\\nthe \\nuse\\nof\\nmedications\\nlike\\nrapamycin.\\nThe\\ntext\\ndiscusses\\nthe\\npotential\\nuse\\nof\\nthe\\ndrug\\nrapamycin\\nfor\\nlongevity\\nand\\ngeroprotection\\n(delaying\\nageing) \\nin\\nhealthy\\nindividuals.\\nIt\\nhighlights\\na\\nstudy\\nthat\\nsuggests\\nthat\\ncyclical\\nadministration\\nof\\nrapamycin,\\nas\\nopposed \\nto\\ndaily\\nuse,\\nmay\\nhave\\nimmune-enhancing\\neffects\\nand\\nfewer\\nside\\neffects.\\nRapamycin\\nis\\nbelieved\\nto\\nwork\\nby \\ninhibiting\\nmTOR\\ncomplex\\n1\\n(mTORC1),\\nwhich\\nis\\nassociated\\nwith\\nlongevity-related\\nbenefits.\"),\n",
              " Document(metadata={'source': '/content/sample_data/outlive.pdf', 'page': 7}, page_content='Some\\nkey\\npoints\\nand\\nactionable\\nstrategies\\nmentioned\\nin\\nthe\\ntext\\ninclude:\\n●\\nCyclical\\nDosing:\\nAdministering\\nrapamycin\\ncyclically,\\nwith\\nperiods\\nof\\nuse\\nfollowed\\nby\\nrest,\\nmay\\nunlock \\nits\\nlongevity-related\\nbenefits\\nwhile\\nminimizing\\nunwanted\\nside\\neffects.\\n●\\nSelective\\nInhibition\\nof\\nmTORC1:\\nAn\\nideal\\n\"rapalog\"\\nthat\\nselectively\\ninhibits\\nmTORC1\\nbut\\nnot \\nmTORC2\\ncould\\nbe\\nmore\\neffective\\nfor\\nlongevity\\npurposes,\\nthough\\nit\\nhas\\nnot\\nbeen\\nsuccessfully \\ndeveloped\\nyet.\\n●\\nReduction\\nof\\nSystemic\\nInflammation:\\nRapamycin\\nappears\\nto\\nreduce\\nsystemic\\ninflammation\\nby \\npotentially\\ntargeting\\nsenescent\\ncells,\\nwhich\\nrelease\\nharmful\\ninflammatory\\ncytokines.\\n●\\nImproved\\nCancer\\nSurveillance:\\nRapamycin\\nmay\\nenhance\\nthe\\nbody\\'s\\nability\\nto\\ndetect\\nand\\neliminate \\ncancer\\ncells,\\nimproving\\ncancer\\nsurveillance.\\n●\\nSpecific\\nBenefits\\nin\\nOrgan\\nHealth:\\nRapamycin\\nmay\\nhave\\nrejuvenating\\neffects\\non\\ncertain\\norgans,\\nsuch \\nas\\nthe\\nheart\\nand\\ngums,\\nas\\nobserved\\nin\\nstudies\\non\\nageing\\ndogs.\\n●\\nClinical\\nTrials\\nin\\nDogs:\\nLarge\\nclinical\\ntrials\\nof\\nrapamycin\\nare\\nbeing\\nconducted\\non\\ncompanion\\ndogs\\nto \\nassess\\nits\\npotential\\ngeroprotective\\nbenefits.\\nPreliminary\\nresults\\nhave\\nshown\\npromise.\\n●\\nRegulatory\\nHurdles:\\nRapamycin\\nfaces\\nregulatory\\nchallenges\\nin\\ngaining\\napproval\\nfor\\nbroader\\nhuman \\nuse,\\nespecially\\nfor\\nhealthy\\nindividuals.\\nCurrent\\nmedical\\nregulations\\nare\\ngeared\\ntowards\\ntreating \\ndiseases\\nrather\\nthan\\ndelaying\\nageing.\\n●\\nConsideration\\nof\\nRisk:\\nDespite\\npotential\\nside\\neffects,\\nthere\\nis\\na\\nneed\\nto\\ndiscuss\\nwhat\\nlevel\\nof\\nrisk\\nis \\nacceptable\\nif\\nrapamycin\\ncan\\nprevent\\nthe\\ndiseases\\nof\\nageing,\\nwhich\\nare\\na\\nleading\\ncause\\nof\\nmortality.\\n●\\nMetformin\\nStudy:\\nThe\\ntext\\nmentions\\na\\nclinical\\ntrial\\nfor\\nthe\\ndiabetes\\nmedication\\nmetformin,\\nwhich\\nalso \\nhas\\npotential\\nlongevity\\nbenefits.\\nThe\\ntrial,\\ncalled\\nTAME\\n(Targeting\\nAgeing\\nwith\\nMetformin),\\nfocuses\\non \\ndelaying\\nageing-related\\ndiseases.\\n●\\nFocus\\non\\nMetabolism\\nand\\nDiet:\\nThe\\ntext\\nsuggests\\nthat\\nfactors\\nrelated\\nto\\nmetabolism,\\nincluding\\nwhat \\nwe\\neat\\nand\\nhow\\nwe\\nmetabolize\\nit,\\nplay\\na\\nsignificant\\nrole\\nin\\nlongevity\\nand\\nhealth.\\nOverall,\\nthe\\ntext\\nemphasizes\\nthe\\npotential\\nof\\nrapamycin\\nas\\na\\nlongevity-promoting\\nagent,\\nthe\\nneed\\nfor\\nfurther \\nresearch\\nand\\nclinical\\ntrials,\\nand\\nthe\\nimportance\\nof\\nconsidering\\nnew\\napproaches\\nto\\nhealthcare\\nthat\\nfocus\\non \\ndelaying\\nageing\\nand\\npreventing\\nage-related\\ndiseases.'),\n",
              " Document(metadata={'source': '/content/sample_data/outlive.pdf', 'page': 8}, page_content=\"Chapter\\n6\\n-\\nThe\\nCrisis\\nof\\nAbundance\\nCan\\nOur\\nAncient\\nGenes\\nCope\\nwith\\nOur\\nModern\\nDiet?\\nDiscussed\\nhere\\nare\\nthe\\nlinks\\nbetween\\nmodern\\ndiets\\nand\\nmetabolic\\ndysfunction,\\nincluding\\nissues\\nlike \\nnonalcoholic\\nfatty\\nliver\\ndisease\\n(NAFLD),\\nnonalcoholic\\nsteatohepatitis\\n(NASH),\\ninsulin\\nresistance,\\nand\\ntype\\n2 \\ndiabetes.\\nThe\\nemergence\\nof\\nmetabolic\\ndiseases\\nsuch\\nas\\ntype\\n2\\ndiabetes,\\nfatty\\nliver\\ndisease,\\nand\\nobesity,\\nand \\nthe\\nrole\\nof\\nour\\nmodern\\ndiet\\nare\\nalso\\ndiscussed.\\nHere\\nare\\nthe\\nkey\\nscience\\nand\\nactionable\\nstrategies:\\nScientific\\nInsights\\nand\\nperspectives:\\n●\\nNonalcoholic\\nFatty\\nLiver\\nDisease\\n(NAFLD)\\nand\\nNASH:\\nThese\\nconditions\\nare\\nassociated\\nwith\\nthe \\naccumulation\\nof\\nfat\\nin\\nthe\\nliver,\\noften\\ncaused\\nby\\nexcessive\\ncalorie\\nconsumption,\\nespecially\\nfrom \\ncarbohydrates.\\nNAFLD\\ncan\\nprogress\\nto\\nNASH,\\ncharacterized\\nby\\ninflammation\\nin\\nthe\\nliver.\\n●\\nMetabolic\\nDysfunction:\\nMetabolic\\nsyndrome\\nis\\ncharacterized\\nby\\nhigh\\nblood\\npressure,\\nhigh \\ntriglycerides,\\nlow\\nHDL\\ncholesterol,\\ncentral\\nobesity,\\nand\\nelevated\\nfasting\\nglucose\\nlevels.\\nIt\\nis\\nclosely \\nlinked\\nto\\nobesity\\nand\\ninsulin\\nresistance.\\n●\\nInsulin\\nResistance:\\nInsulin\\nresistance\\noccurs\\nwhen\\ncells\\nbecome\\nless\\nresponsive\\nto\\ninsulin's\\nsignals, \\nleading\\nto\\nelevated\\nblood\\nglucose\\nlevels.\\nIt\\noften\\noriginates\\nin\\nmuscle\\ncells\\nand\\ncan\\nbe\\nexacerbated \\nby\\ninactivity.\\n●\\nFat\\nStorage:\\nExcess\\nenergy\\nfrom\\nfood\\ncan\\nbe\\nstored\\nas\\nfat,\\nprimarily\\nin\\nsubcutaneous\\nfat\\ncells \\nbeneath\\nthe\\nskin.\\nHowever,\\nwhen\\nthese\\ncells\\nbecome\\nsaturated,\\nfat\\nmay\\noverflow\\ninto\\nother\\nareas, \\nsuch\\nas\\nthe\\nliver,\\nmuscles,\\nand\\naround\\norgans,\\nleading\\nto\\nvarious\\nhealth\\nissues.\\n●\\nVisceral\\nFat:\\nVisceral\\nfat,\\nthe\\nfat\\nstored\\naround\\ninternal\\norgans,\\nis\\nparticularly\\nharmful\\nas\\nit\\ncan \\nproduce\\ninflammatory\\ncytokines,\\nincreasing\\nthe\\nrisk\\nof\\ncardiovascular\\ndisease\\nand\\ndiabetes.\\n●\\nHyperinsulinemia:\\nHigh\\nlevels\\nof\\ninsulin\\nin\\nthe\\nblood,\\nknown\\nas\\nhyperinsulinemia,\\nare\\noften\\nseen\\nin \\nindividuals\\nwith\\ninsulin\\nresistance\\nand\\ncan\\nlead\\nto\\nfurther\\nfat\\nstorage\\nand\\nmetabolic\\nproblems.\\n●\\nEvolutionary\\nPerspective:\\nOur\\nevolutionary\\nhistory\\nsuggests\\nthat\\nour\\nancestors\\nadapted\\nto\\nstore \\nenergy\\nas\\nfat\\nduring\\nperiods\\nof\\nabundance,\\nwhich\\nwas\\nadvantageous\\nfor\\nsurvival.\\nHowever,\\nthis \\nadaptation\\nbecomes\\nproblematic\\nin\\nthe\\nmodern\\nera\\nof\\nabundant,\\ncalorie-rich\\ndiets.\\n●\\nRole\\nof\\nFructose:\\nExcessive\\nconsumption\\nof\\nfructose,\\nespecially\\nin\\nthe\\nform\\nof\\nhigh-fructose\\ncorn \\nsyrup\\nand\\nsugary\\nbeverages,\\ncan\\nlead\\nto\\nmetabolic\\ndysfunction.\\nFructose\\nmetabolism\\ncan\\nproduce \\nuric\\nacid,\\ncontribute\\nto\\nfat\\ngain,\\nand\\ndisrupt\\nenergy\\nregulation.\\n●\\nInsulin\\nResistance:\\nElevated\\ninsulin\\nlevels,\\nespecially\\npostprandial\\ninsulin\\nspikes,\\nare\\nearly\\nindicators \\nof\\ninsulin\\nresistance,\\na\\nprecursor\\nto\\ntype\\n2\\ndiabetes\\nand\\nother\\nmetabolic\\ndisorders.\\n●\\nMetabolic\\nSyndrome:\\nMetabolic\\nsyndrome\\nis\\na\\ncollection\\nof\\nrisk\\nfactors\\n(elevated\\nblood\\npressure,\\nhigh \\nblood\\nsugar,\\nexcess\\nbody\\nfat,\\nand\\nabnormal\\ncholesterol\\nlevels)\\nthat\\nincrease\\nthe\\nrisk\\nof\\nheart\\ndisease, \\nstroke,\\nand\\ntype\\n2\\ndiabetes.\\nDetecting\\nthese\\nmarkers\\nearly\\ncan\\nhelp\\nprevent\\nthe\\ndevelopment\\nof \\nfull-blown\\nmetabolic\\nsyndrome.\\nActionable\\nStrategies:\\n●\\nAwareness:\\nRecognize\\nthat\\nmetabolic\\ndysfunction,\\nincluding\\ninsulin\\nresistance\\nand\\nNAFLD/NASH, \\ncan\\noccur\\neven\\nin\\nindividuals\\nwho\\nare\\nnot\\nvisibly\\nobese.\\n●\\nRegular\\nPhysical\\nActivity:\\nEngage\\nin\\nregular\\nphysical\\nactivity\\nto\\nhelp\\nburn\\nexcess\\ncalories,\\npromote \\nmuscle\\nhealth,\\nand\\nimprove\\ninsulin\\nsensitivity.\"),\n",
              " Document(metadata={'source': '/content/sample_data/outlive.pdf', 'page': 9}, page_content='●\\nBalanced\\nDiet:\\nConsume\\na\\nbalanced\\ndiet\\nthat\\nincludes\\nwhole\\nfoods,\\nfruits,\\nvegetables,\\nlean\\nproteins, \\nand\\nhealthy\\nfats,\\nwhile\\nlimiting\\nprocessed\\nfoods,\\nadded\\nsugars,\\nand\\nexcessive\\ncarbohydrates.\\n●\\nMonitor\\nBlood\\nGlucose:\\nKeep\\ntrack\\nof\\nyour\\nfasting\\nblood\\nglucose\\nlevels,\\nas\\nelevated\\nlevels\\ncan\\nbe\\nan \\nearly\\nsign\\nof\\ninsulin\\nresistance.\\n●\\nStress\\nManagement:\\nManage\\nstress\\nlevels,\\nas\\nhigh\\ncortisol\\n(a\\nstress\\nhormone)\\ncan\\ncontribute\\nto\\nfat \\naccumulation,\\nespecially\\nvisceral\\nfat.\\n●\\nSleep:\\nPrioritize\\ngood-quality\\nsleep,\\nas\\ninsufficient\\nsleep\\ncan\\ndisrupt\\nhormones\\nrelated\\nto\\nappetite\\nand \\nmetabolism.\\n●\\nRegular\\nHealth\\nCheckups:\\nConsider\\nregular\\nhealth\\ncheckups\\nto\\nmonitor\\nliver\\nfunction,\\nlipid\\nprofile, \\nand\\nother\\nmetabolic\\nmarkers,\\nespecially\\nif\\nyou\\nhave\\nrisk\\nfactors\\nlike\\nobesity\\nor\\na\\nfamily\\nhistory\\nof \\nmetabolic\\ndisorders.\\n●\\nPersonalized\\nApproach:\\nRecognize\\nthat\\nindividual\\nfactors,\\nincluding\\ngenetics,\\ncan\\ninfluence\\nmetabolic \\nhealth,\\nso\\na\\npersonalized\\napproach\\nto\\nnutrition\\nand\\nlifestyle\\nmay\\nbe\\nnecessary.\\n●\\nConsultation\\nwith\\nHealthcare\\nProfessionals:\\nSeek\\nguidance\\nfrom\\nhealthcare\\nprofessionals,\\nsuch\\nas \\ndoctors\\nor\\ndietitians,\\nfor\\na\\ncomprehensive\\nassessment\\nof\\nyour\\nmetabolic\\nhealth\\nand\\npersonalized \\nrecommendations.\\n●\\nMonitor\\nBiomarkers:\\nRegularly\\nmonitor\\nbiomarkers\\nrelated\\nto\\nmetabolism,\\nincluding\\ninsulin\\nlevels,\\nuric \\nacid,\\nhomocysteine,\\nchronic\\ninflammation,\\nALT\\nliver\\nenzymes,\\ntriglycerides,\\nand\\nlipoproteins.\\nThese \\nmarkers\\ncan\\nprovide\\ninsights\\ninto\\nmetabolic\\nhealth\\nbefore\\nsymptoms\\nmanifest.\\n●\\nOral\\nGlucose\\nTolerance\\nTest\\n(OGTT):\\nConsider\\nan\\nOGTT\\nto\\nassess\\nhow\\nthe\\nbody\\nresponds\\nto\\na \\nglucose\\nload.\\nPay\\nattention\\nto\\npostprandial\\ninsulin\\nspikes,\\nwhich\\nmay\\nindicate\\nearly\\ninsulin\\nresistance.\\n●\\nDietary\\nChoices:\\nReduce\\nthe\\nconsumption\\nof\\nhigh-fructose\\nfoods\\nand\\nbeverages,\\nespecially\\nsugary \\ndrinks\\nand\\nprocessed\\nfoods\\ncontaining\\nhigh-fructose\\ncorn\\nsyrup.\\nFocus\\non\\nconsuming\\nwhole\\nfruits, \\nwhich\\nare\\nmetabolized\\ndifferently\\ndue\\nto\\ntheir\\nfiber\\ncontent.\\n●\\nBalanced\\nNutrition:\\nPay\\nattention\\nto\\nthe\\nbalance\\nof\\nmacronutrients\\nin\\nyour\\ndiet.\\nAvoid\\nexcessive \\ncalorie\\nintake\\nand\\nmaintain\\na\\nbalanced\\nratio\\nof\\ncarbohydrates,\\nfats,\\nand\\nproteins.\\n●\\nPhysical\\nActivity:\\nIncorporate\\nregular\\nphysical\\nactivity\\ninto\\nyour\\ndaily\\nroutine.\\nExercise\\nhelps\\nimprove \\ninsulin\\nsensitivity\\nand\\nmetabolic\\nhealth.\\n●\\nSleep\\nQuality:\\nPrioritize\\nsleep\\nand\\naim\\nfor\\nadequate,\\nquality\\nrest.\\nPoor\\nsleep\\ncan\\nnegatively\\naffect \\nmetabolism\\nand\\nincrease\\nthe\\nrisk\\nof\\nmetabolic\\ndisorders.\\n●\\nEarly\\nIntervention:\\nRecognize\\nthe\\nimportance\\nof\\nearly\\nintervention\\nin\\naddressing\\nmetabolic\\nissues. \\nWaiting\\nuntil\\nthe\\ndiagnosis\\nof\\ntype\\n2\\ndiabetes\\nor\\nmetabolic\\nsyndrome\\nmay\\nbe\\ntoo\\nlate.\\nProactive \\nmeasures\\ncan\\nprevent\\nor\\ndelay\\nthe\\nonset\\nof\\nthese\\nconditions.\\n●\\nPersonalized\\nApproach:\\nConsult\\nwith\\nhealthcare\\nprofessionals\\nwho\\ncan\\nassess\\nyour\\nindividual \\nmetabolic\\nhealth\\nand\\nprovide\\npersonalized\\nrecommendations\\nfor\\ndiet,\\nexercise,\\nand\\nlifestyle \\nmodifications.\\nRemember\\nthat\\naddressing\\nmetabolic\\ndysfunction\\nand\\nimproving\\noverall\\nhealth\\noften\\nrequire\\nlong-term\\nlifestyle \\nchanges\\nand\\nprofessional\\nguidance.\\nBy\\nunderstanding\\nthe\\nscience\\nbehind\\nmetabolic\\ndysfunction\\nand \\nimplementing\\nthese\\nactionable\\nstrategies,\\nindividuals\\ncan\\ntake\\ncontrol\\nof\\ntheir\\nmetabolic\\nhealth\\nand\\nreduce\\nthe \\nrisk\\nof\\nmetabolic\\ndiseases\\nlike\\ntype\\n2\\ndiabetes,\\nfatty\\nliver\\ndisease,\\nand\\nobesity.'),\n",
              " Document(metadata={'source': '/content/sample_data/outlive.pdf', 'page': 10}, page_content='Chapter\\n7\\n-\\nThe\\nTicker:\\nConfronting\\nand\\nPreventing\\nHeart\\nDisease,\\nthe\\nDeadliest\\nKiller\\non\\nthe\\nPlanet\\nHere\\nthe\\nrisks\\nand\\nprogression\\nof\\natherosclerotic\\ncardiovascular\\ndisease\\n(ASCVD)\\nare\\ndiscussed,\\nparticularly \\nfocusing\\non\\nheart\\ndisease.\\nThe\\nimportance\\nof\\nunderstanding\\nthe\\ncomplexities\\nof\\natherosclerosis,\\nthe\\nrole\\nof \\nlipoproteins\\nlike\\nLDL\\nand\\nHDL,\\nthe\\nsignificance\\nof\\nfamily\\nhistory,\\nand\\nthe\\nneed\\nfor\\nearly\\ndetection\\nand \\nprevention\\nstrategies\\nto\\ncombat\\nheart\\ndisease\\neffectively\\nare\\nemphasized.\\nKey\\npoints\\nand\\nactionable\\nstrategies:\\n●\\nFamily\\nHistory\\nand\\nPersonal\\nRisk:\\nThe\\nauthor\\nemphasizes\\nthe\\nsignificance\\nof\\nfamily\\nhistory\\nas\\na\\nrisk \\nfactor\\nfor\\nheart\\ndisease.\\nEven\\nindividuals\\nwith\\nseemingly\\nhealthy\\nlifestyles\\nand\\ncholesterol\\nprofiles\\ncan \\nbe\\nat\\nrisk\\ndue\\nto\\ngenetic\\npredispositions.\\n●\\nCalcium\\nScoring:\\nThe\\nauthor\\nmentions\\nthe\\nuse\\nof\\ncalcium\\nscoring\\nthrough\\na\\nCT\\nscan\\nto\\nassess\\nthe \\npresence\\nof\\ncalcification\\nin\\ncoronary\\narteries.\\nA\\nhigh\\ncalcium\\nscore\\nindicates\\nan\\nincreased\\nrisk\\nof \\nASCVD,\\neven\\nat\\na\\nrelatively\\nyoung\\nage.\\n●\\nCholesterol\\nand\\nLipoproteins:\\nThe\\ntext\\nclarifies\\nthe\\nrole\\nof\\ncholesterol\\nand\\ndifferentiates\\nbetween \\n\"good\"\\n(HDL)\\nand\\n\"bad\"\\n(LDL)\\ncholesterol.\\nIt\\nexplains\\nthat\\nthe\\nrisk\\nis\\nnot\\nsolely\\nbased\\non\\ncholesterol \\nlevels\\nbut\\non\\nthe\\nnumber\\nof\\napoB-tagged\\nparticles\\nin\\ncirculation,\\nparticularly\\nLDL,\\nwhich\\ncan\\npenetrate \\nand\\naccumulate\\nin\\nthe\\narterial\\nwall.\\n●\\nAtherosclerotic\\nProgression:\\nThe\\ntext\\ndescribes\\nthe\\nprogression\\nof\\natherosclerosis,\\nstarting\\nwith\\nthe \\npenetration\\nof\\ncholesterol-bearing\\nlipoprotein\\nparticles\\ninto\\nthe\\nsubendothelial\\nspace,\\nleading\\nto\\nfoam \\ncell\\nformation,\\nfatty\\nstreaks,\\nand\\nultimately\\nplaque\\ndevelopment.\\n●\\nRole\\nof\\nHDL:\\nHDL\\nparticles\\nare\\nhighlighted\\nas\\nhaving\\npotential\\nprotective\\nfunctions,\\nincluding \\ncholesterol\\nefflux,\\nmaintenance\\nof\\nendothelial\\nintegrity,\\nreducing\\ninflammation,\\nand\\nneutralizing\\nLDL \\noxidation.\\n●\\nEarly\\nOnset\\nof\\nAtherosclerosis:\\nThe\\ntext\\nemphasizes\\nthat\\natherosclerosis\\ncan\\nbegin\\nin\\nlate \\nadolescence\\nor\\nearly\\nadulthood,\\nhighlighting\\nthe\\nimportance\\nof\\nearly\\nprevention\\nefforts.\\n●\\nStages\\nof\\nPlaque\\nFormation:\\nIt\\ndescribes\\nthe\\nstages\\nof\\nplaque\\nformation,\\nfrom\\ninitial\\ninfiltration\\nto \\ncalcification\\nand\\nthe\\npotential\\nfor\\nplaque\\nrupture,\\nclot\\nformation,\\nand\\ncardiovascular\\nevents.\\n●\\nDetection\\nand\\nPrevention:\\nThe\\ntext\\nunderscores\\nthe\\nlimitations\\nof\\nstandard\\ncardiovascular\\nrisk \\nassessments\\nand\\nsuggests\\nusing\\nadvanced\\nCT\\nscans\\nlike\\nCT\\nangiograms\\nto\\ndetect\\nnoncalcified \\nplaques.\\nIt\\nalso\\nemphasizes\\nthe\\nimportance\\nof\\nprevention\\nby\\naddressing\\nrisk\\nfactors\\nearly\\nin\\nlife.\\n●\\nUnderstanding\\nand\\nEnhancing\\nHDL:\\nThe\\nauthor\\nexpresses\\nthe\\nneed\\nfor\\na\\nbetter\\nunderstanding\\nof \\nHDL\\nfunctionality\\nand\\nits\\npotential\\nrole\\nin\\npreventing\\natherosclerosis.\\nDeveloping\\nstrategies\\nto \\nenhance\\nHDL\\nfunction\\nis\\nconsidered\\ncrucial\\nfor\\nfuture\\nprogress\\nin\\ntackling\\ncardiovascular\\ndisease.\\n●\\nOngoing\\nRisk:\\nThe\\ntext\\nreminds\\nreaders\\nthat\\natherosclerosis\\ncan\\nprogress\\nsilently\\nand\\nwithout \\nsymptoms,\\nmaking\\nit\\nessential\\nto\\ntake\\nproactive\\nmeasures\\nto\\nmitigate\\nrisks.\\nIdentification\\nof\\nCardiovascular\\nRisk\\nFactors:\\n●\\nThe\\nauthor\\nrecognized\\ntheir\\ncardiovascular\\nrisk\\nfactors\\nin\\ntheir\\nthirties. \\n●\\nMajor\\nrisk\\nfactors\\nincluded\\nnormal\\nblood\\npressure,\\nnon-smoking,\\nbut\\npresence\\nof\\nmetabolic \\ndysfunction,\\ninsulin\\nresistance,\\nand\\nhigh\\nlevels\\nof\\nuric\\nacid. \\n●\\nThe\\ncalcium\\nscore\\nrevealed\\nthe\\npresence\\nof\\na\\nsmall\\ncalcified\\nplaque\\nin\\none\\nof\\nthe\\nmain\\narteries \\nsupplying\\nthe\\nheart.\\nImportance\\nof\\nApoB\\nTesting:\\n●\\nTraditional\\nlipid\\npanels\\nmay\\nnot\\nprovide\\na\\ncomplete\\npicture\\nof\\ncardiovascular\\nrisk. \\n●\\nApoB\\n(Apolipoprotein\\nB)\\ntesting\\nis\\nsuggested\\nas\\nit\\nis\\nmore\\npredictive\\nof\\ncardiovascular\\ndisease\\nthan \\nLDL-C.'),\n",
              " Document(metadata={'source': '/content/sample_data/outlive.pdf', 'page': 11}, page_content='●\\nElevated\\napoB\\nlevels\\nare\\nassociated\\nwith\\na\\nhigher\\nrisk\\nof\\nheart\\ndisease,\\nand\\nregular\\napoB\\ntesting\\nis \\nrecommended.\\nUnderstanding\\nLipoproteins:\\n●\\nElevated\\nlevels\\nof\\nlipoproteins\\nlike\\nLDL,\\nVLDL,\\nand\\nLp(a)\\nare\\nlinked\\nto\\natherosclerotic\\ncardiovascular \\ndisease\\n(ASCVD). \\n●\\nLp(a)\\nis\\nhighlighted\\nas\\na\\nsignificant\\nrisk\\nfactor,\\nespecially\\nfor\\nindividuals\\nwith\\na\\nfamily\\nhistory\\nof \\npremature\\nheart\\ndisease.\\nDiet\\nand\\nLifestyle\\nModifications:\\n●\\nLifestyle\\nchanges,\\nincluding\\ndiet\\nmodifications,\\ncan\\nhelp\\nreduce\\ncardiovascular\\nrisk. \\n●\\nSpecific\\ndietary\\nrecommendations\\ninclude\\nreducing\\nsaturated\\nfats\\nand\\nincreasing\\nmonounsaturated \\nfats\\nfound\\nin\\nfoods\\nlike\\nolive\\noil,\\nmacadamia\\nnuts,\\nand\\navocados. \\n●\\nA\\nketogenic\\ndiet\\nis\\nmentioned\\nas\\na\\npotential\\napproach,\\nbut\\nnot\\nsuitable\\nfor\\neveryone.\\nMedications\\nfor\\nLipid\\nManagement:\\n●\\nStatins\\nare\\ncommonly\\nprescribed\\nfor\\nlowering\\ncholesterol\\nlevels\\nand\\nreducing\\ncardiovascular\\nrisk. \\n●\\nBempedoic\\nacid,\\nezetimibe,\\nand\\nPCSK9\\ninhibitors\\nare\\nmentioned\\nas\\nalternative\\nor\\ncomplementary \\nmedications\\nto\\nstatins. \\n●\\nFibrates\\nand\\nethyl\\neicosapentaenoic\\nacid\\n(Vascepa)\\nare\\nused\\nwhen\\ndietary\\nchanges\\nare\\ninsufficient\\nto \\nlower\\ntriglyceride\\nlevels.\\nImportance\\nof\\nLong-Term\\nPrevention:\\n●\\nAtherosclerosis\\nis\\na\\nslow-developing\\ndisease\\nthat\\ncan\\nstart\\nin\\nyoung\\nindividuals. \\n●\\nPrevention\\nefforts\\nshould\\nbegin\\nearly\\nand\\nfocus\\non\\nreducing\\napoB\\nlevels,\\neven\\nin\\nindividuals\\nwith \\nlower\\nshort-term\\nrisk. \\n●\\nA\\nlonger-term\\nperspective\\nof\\n30\\nyears\\nis\\nsuggested\\nfor\\nprevention\\nefforts\\nto\\nsave\\nmore\\nlives\\nand \\nprevent\\ncardiac\\nevents. \\n●\\nThese\\nstrategies\\nemphasize\\nthe\\nimportance\\nof\\nearly\\ndetection,\\ncomprehensive\\nlipid\\nassessment, \\nlifestyle\\nmodifications,\\nand\\nappropriate\\nmedication\\nmanagement\\nto\\nreduce\\ncardiovascular\\nrisk\\nand \\npromote\\nheart\\nhealth.'),\n",
              " Document(metadata={'source': '/content/sample_data/outlive.pdf', 'page': 12}, page_content='Chapter\\n8\\n-\\nThe\\nRunaway\\nCell:\\nNew\\nWays\\nto\\nAddress\\nthe\\nKiller\\nThat\\nIs\\nCancer\\nCancer\\nand\\nits\\nchallenges,\\nas\\nwell\\nas\\npotential\\nstrategies\\nfor\\naddressing\\nthis\\ncomplex\\ndisease\\nare\\ndiscussed \\nhere.\\nScience\\nhighlights\\nand\\nactionable\\nstrategies\\nfrom\\nthe\\nstrong\\nassociation\\nbetween\\nobesity,\\ndiabetes,\\nand \\ncancer,\\nparticularly\\ndue\\nto\\nfactors\\nlike\\ninflammation\\nand\\ninsulin,\\nare\\ndiscussed.\\nAlso\\nhighlighted\\nis\\nthe\\npotential \\nfor\\nmetabolic\\ninterventions\\nto\\nslow\\ncancer\\ngrowth\\nand\\nreduce\\ncancer\\nrisk.\\nKey\\nscience\\nand\\nactionable\\nstrategies\\nare\\nhighlighted:\\nScience:\\n●\\nCancer\\nMetabolism:\\nCancer\\ncells\\nexhibit\\naltered\\nmetabolism,\\nspecifically\\nthe\\nWarburg\\neffect,\\nwhere \\nthey\\nconsume\\nglucose\\nat\\na\\nhigh\\nrate\\neven\\nin\\nthe\\npresence\\nof\\nsufficient\\noxygen.\\nThis\\nmetabolic \\nbehavior\\ncould\\nbe\\na\\npotential\\ntarget\\nfor\\ncancer\\ntreatment.\\n●\\nMetastasis:\\nCancer\\ncells\\'\\nability\\nto\\nspread\\nto\\ndistant\\nparts\\nof\\nthe\\nbody,\\ncalled\\nmetastasis,\\nis\\na\\nmajor \\ncause\\nof\\ncancer-related\\ndeaths.\\nUnderstanding\\nand\\npreventing\\nmetastasis\\nis\\ncrucial\\nfor\\nimproving \\ncancer\\noutcomes.\\n●\\nGenetic\\nMutations:\\nCancer\\noften\\ninvolves\\ngenetic\\nmutations\\nthat\\nallow\\ncells\\nto\\ngrow\\nuncontrollably. \\nIdentifying\\nand\\ntargeting\\nthese\\nmutations\\nis\\na\\ncommon\\napproach\\nin\\ncancer\\nresearch\\nand\\ntreatment.\\n●\\nImmune\\nSystem\\nEvasion:\\nCancer\\ncells\\ncan\\nevade\\nthe\\nimmune\\nsystem,\\npreventing\\nthe\\nbody\\nfrom \\nrecognizing\\nand\\neliminating\\nthem.\\nImmunotherapy\\nis\\nan\\nemerging\\nfield\\nthat\\naims\\nto\\nboost\\nthe\\nimmune \\nsystem\\'s\\nability\\nto\\ntarget\\ncancer\\ncells.\\n●\\nObesity\\nis\\nstrongly\\nassociated\\nwith\\nvarious\\ntypes\\nof\\ncancer,\\nincluding\\npancreatic,\\nesophageal,\\nrenal, \\novarian,\\nand\\nbreast\\ncancers,\\nas\\nwell\\nas\\nmultiple\\nmyeloma. \\n●\\n●\\nType\\n2\\ndiabetes\\ncan\\ndouble\\nthe\\nrisk\\nof\\ncertain\\ncancers,\\nsuch\\nas\\npancreatic\\nand\\nendometrial\\ncancers.\\n●\\nChronic\\ninflammation\\nand\\nelevated\\ninsulin\\nlevels,\\noften\\nseen\\nin\\nobesity\\nand\\ndiabetes,\\ncan\\ncreate\\nan \\nenvironment\\nconducive\\nto\\ncancer\\ndevelopment.\\n●\\nPI3-kinases\\n(PI3K)\\nplay\\na\\nsignificant\\nrole\\nin\\nfueling\\ncancer\\ngrowth\\nby\\nincreasing\\nglucose\\nuptake\\ninto \\ncells.\\nInsulin\\nand\\ninsulin-like\\ngrowth\\nfactor\\n(IGF-1)\\nactivate\\nPI3K,\\naccelerating\\nglucose\\nconsumption\\nby \\ncancer\\ncells.\\nActionable\\nStrategies:\\n●\\nPrevention:\\nEfforts\\nto\\nprevent\\ncancer\\nshould\\nbe\\na\\nprimary\\nfocus,\\nincluding\\nlifestyle\\nmodifications\\nto \\nreduce\\nrisk\\nfactors\\nsuch\\nas\\nobesity,\\nsmoking,\\nand\\nexcessive\\nalcohol\\nconsumption.\\n●\\nEarly\\nDetection:\\nEarly\\nand\\naccurate\\ncancer\\ndetection\\nis\\ncrucial.\\nBroad\\nand\\naggressive\\nscreening, \\nincluding\\ntechniques\\nlike\\ncolonoscopy\\nand\\nemerging\\nmethods\\nlike\\n\"liquid\\nbiopsies,\"\\ncan\\nimprove \\noutcomes\\nby\\ndiagnosing\\ncancer\\nat\\nan\\nearly,\\nmore\\ntreatable\\nstage.\\n●\\nTargeted\\nTherapies:\\nResearch\\ninto\\ncancer\\nmetabolism\\nand\\ngenetics\\ncan\\nlead\\nto\\nthe\\ndevelopment\\nof \\nmore\\nspecific\\nand\\neffective\\ncancer\\ntreatments.\\nTargeted\\ntherapies\\naim\\nto\\nexploit\\nweaknesses\\nin \\ncancer\\ncells\\nwhile\\nsparing\\nnormal\\ncells.\\n●\\nImmunotherapy:\\nHarnessing\\nthe\\nimmune\\nsystem\\'s\\npower\\nto\\nrecognize\\nand\\nattack\\ncancer\\ncells\\nis\\na \\npromising\\napproach.\\nImmunotherapies\\nare\\nbeing\\ndeveloped\\nto\\nenhance\\nthe\\nbody\\'s\\nnatural\\ndefenses \\nagainst\\ncancer.\\n●\\nMetabolic\\nApproaches:\\nInvestigating\\ncancer\\ncell\\nmetabolism\\nand\\nthe\\nWarburg\\neffect\\nmay\\nprovide \\ninsights\\ninto\\nvulnerabilities\\nthat\\ncan\\nbe\\nexploited\\nfor\\ntreatment,\\nsuch\\nas\\nlimiting\\nthe\\nbuilding\\nblocks \\nneeded\\nfor\\ncancer\\ncell\\nproliferation.'),\n",
              " Document(metadata={'source': '/content/sample_data/outlive.pdf', 'page': 13}, page_content='●\\nObesity\\nControl:\\nAddressing\\nthe\\nobesity\\nepidemic\\nis\\nessential,\\nas\\nit\\nis\\na\\nsignificant\\nrisk\\nfactor\\nfor \\nseveral\\ntypes\\nof\\ncancer.\\nPromoting\\nhealthy\\nlifestyles,\\nincluding\\ndiet\\nand\\nexercise,\\ncan\\nhelp\\nreduce \\ncancer\\nrisk.\\n●\\nDietary\\nModifications:\\nImplement\\ndietary\\nchanges\\nthat\\nlower\\ninsulin\\nlevels,\\nsuch\\nas\\nreducing\\nsugar \\nand\\nrefined\\ncarbohydrate\\nintake\\nwhile\\nemphasizing\\na\\ndiet\\nrich\\nin\\nleafy\\nvegetables,\\nolive\\noil,\\navocados, \\nnuts,\\nand\\nlean\\nprotein\\nsources\\n(e.g.,\\nfish,\\neggs,\\npoultry).\\n●\\nKetogenic\\nDiet:\\nConsider\\nadopting\\na\\nketogenic\\ndiet,\\nwhich\\nrestricts\\ncarbohydrate\\nintake\\nand\\npromotes \\nthe\\nuse\\nof\\nfat\\nfor\\nenergy,\\npotentially\\ninhibiting\\ncancer\\ngrowth\\nby\\nreducing\\ninsulin\\nlevels.\\n●\\nFasting:\\nExplore\\nfasting\\nor\\na\\nfasting-mimicking\\ndiet\\nas\\na\\ncomplementary\\napproach\\nto\\ncancer\\ntherapy. \\nFasting\\nmay\\nimprove\\nthe\\neffectiveness\\nof\\nchemotherapy\\nby\\nmaking\\ncancer\\ncells\\nmore\\nvulnerable \\nwhile\\nprotecting\\nnormal\\ncells.\\n●\\nMetabolic\\nTherapies:\\nCollaborate\\nwith\\nhealthcare\\nprofessionals\\nto\\nexplore\\nmetabolic\\ntherapies, \\nincluding\\ndietary\\ninterventions,\\nin\\ncombination\\nwith\\nstandard\\ncancer\\ntreatments.\\nPersonalized \\napproaches\\nthat\\naddress\\nmetabolic\\nfactors\\ncan\\nenhance\\ntreatment\\noutcomes.\\n●\\nCombination\\nTherapies:\\nRecognize\\nthat\\nthere\\nmay\\nnot\\nbe\\na\\none-size-fits-all\\napproach\\nto\\ncancer \\ntreatment.\\nCombining\\nmultiple\\ntherapies,\\nsuch\\nas\\nPI3K\\ninhibitors\\nwith\\ndietary\\ninterventions,\\ncan\\ntarget \\ncancer\\non\\nmultiple\\nfronts\\nand\\nreduce\\nthe\\nlikelihood\\nof\\ndeveloping\\nresistance\\nto\\ntreatment.\\n●\\nConsultation\\nwith\\nHealthcare\\nProviders:\\nConsult\\nwith\\noncologists\\nand\\nhealthcare\\nproviders\\nto\\ndiscuss \\nand\\nimplement\\nmetabolic\\ninterventions\\nas\\npart\\nof\\nan\\nindividualized\\ncancer\\ntreatment\\nplan.\\nThey\\ncan \\nprovide\\nguidance\\nand\\nmonitor\\nprogress\\nto\\noptimize\\noutcomes.\\nThe\\nimportance\\nof\\na\\nmultifaceted\\napproach\\nto\\ntackling\\ncancer,\\nincluding\\nprevention,\\nearly\\ndetection,\\ntargeted \\ntherapies,\\nand\\na\\ndeeper\\nunderstanding\\nof\\ncancer\\nmetabolism\\nand\\nthe\\nimmune\\nsystem\\nare\\nemphasized.\\nThese \\nstrategies\\naim\\nto\\nimprove\\nthe\\noutlook\\nfor\\ncancer\\npatients\\nand\\npotentially\\nreduce\\ncancer-related\\ndeaths.\\nThe\\nsignificant\\nrole\\nof\\nmetabolic\\nfactors,\\nsuch\\nas\\ninsulin\\nand\\ndiet,\\nin\\ncancer\\ndevelopment\\nand\\ntreatment\\nare \\nalso\\nemphasized.\\nIt\\nsuggests\\nthat\\naddressing\\nthese\\nfactors\\nthrough\\ndietary\\nmodifications,\\nketogenic\\ndiets, \\nfasting,\\nand\\ncombination\\ntherapies\\nmay\\noffer\\nvaluable\\nstrategies\\nto\\nslow\\ncancer\\ngrowth\\nand\\nimprove\\ntreatment \\nefficacy.\\nHowever,\\nit\\nis\\nessential\\nto\\nwork\\nclosely\\nwith\\nhealthcare\\nprofessionals\\nwhen\\nconsidering\\nthese \\napproaches\\nas\\npart\\nof\\na\\ncomprehensive\\ncancer\\nmanagement\\nplan.'),\n",
              " Document(metadata={'source': '/content/sample_data/outlive.pdf', 'page': 14}, page_content=\"Chapter\\n9\\n–\\nChasing\\nMemory\\nUnderstanding\\nAlzheimer’s\\nDisease\\nand\\nOther\\nNeurodegenerative\\nDiseases\\nThis\\nchapter\\ndiscusses\\nthe\\nchallenges\\nand\\ncomplexities\\nof\\nunderstanding\\nand\\npreventing\\nneurodegenerative \\ndiseases,\\nprimarily\\nfocusing\\non\\nAlzheimer's\\ndisease.\\nHere\\nare\\nthe\\nkey\\nscientific\\npoints\\nand\\nactionable \\nstrategies\\nhighlighted\\nin\\nthe\\ntext:\\nScientific\\nPoints:\\n●\\nGenetic\\nRisk\\nFactors:\\nCertain\\ngenetic\\nfactors,\\nlike\\nthe\\nAPOE\\ne4\\nallele,\\ncan\\nsignificantly\\nincrease\\nthe \\nrisk\\nof\\nAlzheimer's\\ndisease.\\nHaving\\none\\nor\\ntwo\\ncopies\\nof\\nthis\\nallele\\ncan\\nincrease\\nthe\\nrisk\\nup\\nto\\ntwelve \\ntimes.\\n●\\nComplex\\nCauses:\\nThe\\nexact\\ncauses\\nof\\nAlzheimer's\\ndisease\\nand\\nother\\nneurodegenerative\\ndiseases \\nare\\nstill\\nnot\\nfully\\nunderstood.\\nAccumulation\\nof\\namyloid-beta\\nand\\ntau\\nproteins\\nin\\nthe\\nbrain\\nhas\\nlong \\nbeen\\nassociated\\nwith\\nAlzheimer's,\\nbut\\nrecent\\nresearch\\nquestions\\nthis\\ncausal\\nrelationship.\\n●\\nAge\\nof\\nOnset:\\nAlzheimer's\\ndisease\\ntypically\\ndoes\\nnot\\nmanifest\\nuntil\\nage\\n65\\nor\\nlater,\\nbut\\nearly-onset \\ncases\\ncan\\noccur\\ndue\\nto\\nspecific\\ngenetic\\nmutations.\\n●\\nLimited\\nTreatment\\nOptions:\\nCurrently,\\nthere\\nis\\nno\\ncure\\nfor\\nAlzheimer's\\ndisease,\\nand\\nmost\\navailable \\ndrugs\\ntargeting\\namyloid-beta\\nhave\\nnot\\nbeen\\neffective\\nin\\nhalting\\nor\\nreversing\\nthe\\ndisease's\\nprogression.\\n●\\nPreventive\\nApproaches:\\nEmerging\\nevidence\\nsuggests\\nthat\\npreventive\\napproaches\\ninvolving\\nlifestyle \\nfactors,\\nsuch\\nas\\nnutrition,\\nphysical\\nactivity,\\nand\\ncognitive\\ntraining,\\ncan\\nhelp\\nmaintain\\ncognitive\\nfunction \\nand\\nreduce\\nthe\\nrisk\\nof\\nneurodegenerative\\ndiseases.\\n●\\nEarly\\nIntervention:\\nEarly\\nintervention\\nand\\nprevention\\nstrategies\\nare\\ncritical\\nbecause\\nneurodegenerative \\ndiseases\\nhave\\na\\nlong\\nprologue,\\nand\\nsymptoms\\noften\\ngo\\nunnoticed\\nuntil\\nthe\\ndisease\\nis\\nin\\nits\\nearly \\nstages.\\nActionable\\nStrategies:\\n●\\nGenetic\\nTesting:\\nConsider\\ngenetic\\ntesting,\\nparticularly\\nfor\\nhigh-risk\\nindividuals\\nwith\\na\\nfamily\\nhistory\\nof \\nneurodegenerative\\ndiseases.\\nUnderstanding\\nyour\\ngenetic\\nrisk\\ncan\\nguide\\npreventive\\nmeasures.\\n●\\nLifestyle\\nModifications:\\nAdopt\\na\\nhealthy\\nlifestyle\\nthat\\nincludes\\na\\nbalanced\\ndiet,\\nregular\\nphysical \\nactivity,\\ncognitive\\nstimulation,\\nand\\nstress\\nmanagement.\\nThese\\nfactors\\nmay\\nhelp\\nreduce\\nthe\\nrisk\\nof \\nneurodegenerative\\ndiseases.\\n●\\nHormone\\nReplacement\\nTherapy:\\nFor\\nwomen,\\nespecially\\nthose\\nwith\\nthe\\nAPOE\\ne4\\nallele,\\nexploring \\nhormone\\nreplacement\\ntherapy\\nduring\\nperimenopause\\nmay\\nbe\\na\\npotential\\npreventive\\nmeasure.\\n●\\nRegular\\nCognitive\\nAssessments:\\nEngage\\nin\\ncognitive\\nassessments\\nand\\nregular\\ncheck-ups\\nwith \\nhealthcare\\nprofessionals\\nto\\ndetect\\nearly\\nsigns\\nof\\ncognitive\\ndecline.\\n●\\nResearch\\nParticipation:\\nConsider\\nparticipating\\nin\\nclinical\\ntrials\\nand\\nstudies\\nrelated\\nto\\nAlzheimer's \\ndisease\\nand\\nother\\nneurodegenerative\\ndiseases,\\nespecially\\nif\\nyou\\nare\\nat\\nhigher\\nrisk.\\nThese\\nstudies \\nmay\\nhelp\\nadvance\\nour\\nunderstanding\\nand\\ntreatment\\noptions.\\n●\\nIndividualized\\nRisk\\nAssessment:\\nWork\\nwith\\nhealthcare\\nprofessionals,\\nsuch\\nas\\npreventive\\nneurologists, \\nwho\\nspecialize\\nin\\nassessing\\nand\\nmanageing\\nthe\\nrisk\\nof\\nneurodegenerative\\ndiseases.\\nThey\\ncan \\nprovide\\npersonalized\\nstrategies\\nbased\\non\\nyour\\nrisk\\nprofile.\\n●\\nStay\\nInformed:\\nKeep\\nup-to-date\\nwith\\nthe\\nlatest\\nresearch\\nand\\ndevelopments\\nin\\nthe\\nfield\\nof \\nneurodegenerative\\ndiseases\\nto\\nmake\\ninformed\\ndecisions\\nabout\\nyour\\nhealth.\\nIt's\\nessential\\nto\\nconsult\\nwith\\nhealthcare\\nprofessionals\\nfor\\npersonalized\\nadvice\\nand\\nguidance\\nwhen\\nit\\ncomes\\nto \\nassessing\\nand\\nreducing\\nyour\\nrisk\\nof\\nneurodegenerative\\ndiseases\\nlike\\nAlzheimer's.\"),\n",
              " Document(metadata={'source': '/content/sample_data/outlive.pdf', 'page': 15}, page_content=\"Here\\nare\\nthe\\nkey\\nscience-based\\npoints\\nand\\nactionable\\nstrategies\\nhighlighted\\nfrom\\nthe\\ntext:\\n●\\nEarly\\nStages\\nof\\nAlzheimer's\\nDisease: \\n◦\\nAlzheimer's\\ndisease\\nhas\\nearly\\nstages,\\nincluding\\nMild\\nCognitive\\nImpairment\\n(MCI)\\nand\\nStage\\nI \\nPreclinical\\nAlzheimer's\\nDisease,\\nwhich\\nmay\\nshow\\nsubtle\\ncognitive\\nchanges\\nbefore\\nmeeting\\nMCI \\ncriteria. \\n◦\\nDetecting\\nthese\\nearly\\nstages\\nis\\ncrucial\\nfor\\nintervention.\\n●\\nDiagnostic\\nTests: \\n◦\\nExtensive\\ncognitive\\ntests\\nand\\nevaluations\\nare\\nessential\\nto\\nassess\\ncognitive\\nhealth\\nand\\ndistinguish \\nbetween\\nnormal\\nageing\\nand\\nneurodegenerative\\nchanges. \\n◦\\nTests\\ninclude\\nassessments\\nof\\nexecutive\\nfunction,\\nattention,\\nprocessing\\nspeed,\\nverbal\\nfluency, \\nmemory,\\nand\\nmore.\\n●\\nCognitive\\nReserve: \\n◦\\nBuilding\\ncognitive\\nreserve\\nthrough\\neducation,\\ncomplex\\nskills,\\nand\\nintellectual\\nengagement\\ncan \\nhelp\\ndelay\\nthe\\nonset\\nof\\nAlzheimer's\\nsymptoms. \\n◦\\nLifelong\\nlearning\\nand\\ncognitive\\nchallenges\\ncontribute\\nto\\nmaintaining\\nbrain\\nfunction.\\n●\\nMovement\\nReserve: \\n◦\\nPhysical\\nactivity,\\nincluding\\nexercise\\nand\\ncomplex\\nmovements,\\ncan\\nslow\\nthe\\nprogression\\nof \\nneurodegenerative\\ndiseases\\nlike\\nParkinson's. \\n◦\\nAthletes\\nand\\nindividuals\\nwith\\nbetter\\nmovement\\npatterns\\ntend\\nto\\nresist\\nthe\\ndisease's\\neffects.\\n●\\nBrain\\nEnergy\\nSupply: \\n◦\\nThe\\nbrain\\nrequires\\na\\nsteady\\nsupply\\nof\\nglucose\\nand\\noxygen\\nfor\\nenergy. \\n◦\\nReduced\\nblood\\nflow\\nand\\nimpaired\\nglucose\\nmetabolism\\nin\\nthe\\nbrain\\ncan\\ncontribute\\nto \\nneurodegeneration.\\n●\\nAPOE\\ne4\\nGene: \\n◦\\nThe\\nAPOE\\ne4\\ngene\\nvariant\\nis\\nassociated\\nwith\\na\\nhigher\\nrisk\\nof\\nAlzheimer's\\ndisease. \\n◦\\nIt\\nmay\\nworsen\\nmetabolic\\ndysfunction\\nand\\ndisrupt\\ncholesterol\\ntransport\\nand\\nglucose\\nmetabolism\\nin \\nthe\\nbrain.\\n●\\nPreventive\\nStrategies: \\n◦\\nDietary\\nchanges,\\nsuch\\nas\\nadopting\\na\\nMediterranean-style\\ndiet\\nwith\\nmonounsaturated\\nfats\\nand \\nfewer\\nrefined\\ncarbohydrates,\\ncan\\nhelp\\nimprove\\nglucose\\nmetabolism. \\n◦\\nOmega-3\\nfatty\\nacids\\n(e.g.,\\nDHA\\nfrom\\nfish\\noil)\\nmay\\nsupport\\nbrain\\nhealth. \\n◦\\nKetogenic\\ndiets,\\nwhich\\nuse\\nketones\\nand\\nglucose\\nfor\\nbrain\\nfuel,\\ncan\\nbe\\nconsidered. \\n◦\\nReducing\\nadded\\nsugar,\\nrefined\\ncarbohydrates,\\nand\\nalcohol\\nintake\\nis\\nadvisable. \\n◦\\nExercise,\\nboth\\nendurance\\nand\\nstrength\\ntraining,\\nis\\na\\npowerful\\npreventive\\ntool\\nto\\nmaintain\\nglucose \\nhomeostasis\\nand\\nvascular\\nhealth. \\n◦\\nPrioritizing\\nregular\\nand\\nquality\\nsleep\\nis\\nessential\\nfor\\nbrain\\nhealth\\nand\\nwaste\\nclearance. \\n◦\\nManageing\\nstress\\nand\\ncortisol\\nlevels\\nis\\ncrucial,\\nas\\nstress\\ncan\\ncontribute\\nto\\ninsulin\\nresistance\\nand \\nhippocampal\\ndamage.\\n●\\nMonitoring\\nand\\nPersonalization: \\n◦\\nAlzheimer's\\nprevention\\nshould\\nbe\\npersonalized,\\nconsidering\\nan\\nindividual's\\ngenetics,\\nlifestyle,\\nand \\nrisk\\nfactors. \\n◦\\nRegular\\nmonitoring\\nof\\ncognitive\\nfunction\\nand\\nmetabolic\\nhealth\\nis\\nimportant\\nfor\\nearly\\nintervention.\\n●\\nContinuous\\nResearch: \\n◦\\nOngoing\\nresearch\\nis\\nuncovering\\nnew\\ninsights\\ninto\\nAlzheimer's\\ndisease,\\nand\\npreventive\\nstrategies \\nmay\\ncontinue\\nto\\nevolve. \\n◦\\nIt's\\nimportant\\nto\\nnote\\nthat\\nwhile\\nthese\\nstrategies\\nare\\ndiscussed\\nas\\npotential\\npreventive\\nmeasures, \\nAlzheimer's\\ndisease\\nis\\ncomplex,\\nand\\nthere\\nis\\nno\\nguaranteed\\nprevention\\nor\\ncure\\nat\\nthis\\ntime. \\nConsultation\\nwith\\nhealthcare\\nprofessionals\\nand\\nspecialists\\nis\\nessential\\nfor\\npersonalized\\nguidance \\nand\\ncare.\"),\n",
              " Document(metadata={'source': '/content/sample_data/outlive.pdf', 'page': 16}, page_content=''),\n",
              " Document(metadata={'source': '/content/sample_data/outlive.pdf', 'page': 17}, page_content=\"Chapter\\n10\\n-\\nThinking\\nTactically\\nKey\\npoints\\nand\\nactionable\\nstrategies\\ncan\\nbe\\nsummarized\\nas\\nfollows:\\n●\\nAdaptation\\nto\\nModern\\nEnvironment:\\nThe\\ntext\\nhighlights\\nhow\\nour\\nmodern\\nenvironment\\nhas\\nchanged \\nsignificantly\\nover\\nthe\\npast\\ncentury,\\naffecting\\nvarious\\naspects\\nof\\nour\\nhealth,\\nincluding\\nfood\\nsupply, \\nphysical\\nactivity,\\nsleep,\\nand\\nemotional\\nwell-being.\\nOur\\ngenes\\nhave\\nnot\\nevolved\\nat\\nthe\\nsame\\npace\\nas \\nour\\nenvironment,\\nwhich\\ncreates\\nchallenges\\nfor\\nmaintaining\\nhealth\\nand\\nlongevity.\\n●\\nFive\\nTactical\\nDomains\\nin\\nMedicine\\n3.0\\n:\\nFive\\ntactical\\ndomains\\nthat\\ncan\\nhelp\\nimprove\\nhealth\\nand \\nlongevity\\nare\\ndiscussed:\\n1.\\nExercise\\nis\\nemphasized\\nas\\na\\npowerful\\ndomain\\nwith\\na\\nsignificant\\nimpact\\non\\nboth\\nlifespan\\nand \\nhealthspan.\\nIt's\\ndivided\\ninto\\ncomponents\\nsuch\\nas\\naerobic\\nefficiency,\\nVO2\\nmax,\\nstrength,\\nand \\nstability.\\n2.\\nNutrition:\\nNutrition\\nis\\ndiscussed\\nin\\nterms\\nof\\nnutritional\\nbiochemistry,\\naddressing\\nquestions\\nabout \\nwhether\\nindividuals\\nare\\novernourished\\nor\\nundernourished,\\nas\\nwell\\nas\\ntheir\\nmetabolic\\nhealth.\\n3.\\nSleep:\\nSleep\\nis\\nrecognized\\nas\\nan\\nimportant\\nbut\\noften\\noverlooked\\ndomain\\nfor\\nhealth\\nimprovement.\\n4.\\nEmotional\\nHealth:\\nManageing\\nand\\nimproving\\nemotional\\nhealth\\nis\\nacknowledged\\nas\\na\\ncritical \\naspect\\nof\\noverall\\nwell-being.\\n5.\\nExogenous\\nMolecules:\\nWhile\\nnot\\nthe\\nprimary\\nfocus,\\ndrugs,\\nsupplements,\\nand\\nhormones\\nthat \\ncome\\nfrom\\noutside\\nthe\\nbody\\n(exogenous\\nmolecules)\\nare\\nbriefly\\nmentioned.\\n●\\nInterconnected\\nTactical\\nDomains:\\nThe\\ntext\\nemphasizes\\nthat\\nthese\\ntactical\\ndomains\\nare\\nnot\\nisolated; \\nthey\\nare\\ninterconnected.\\nFor\\ninstance,\\nsleep\\naffects\\ninsulin\\nsensitivity\\nand\\nexercise\\nperformance, \\ndemonstrating\\nthe\\ninterplay\\nbetween\\ndifferent\\ndomains.\\n●\\nIndividualized\\nApproach:\\nThe\\nauthor\\nhighlights\\nthe\\nimportance\\nof\\ntailoring\\ntactics\\nto\\nindividual\\nneeds \\nand\\ncircumstances\\nrather\\nthan\\npromoting\\na\\none-size-fits-all\\napproach.\\nSpecific\\nrecommendations \\nshould\\nbe\\nbased\\non\\nindividual\\nfeedback\\nand\\niteration.\\n●\\nContinuous\\nLearning\\nand\\nAdaptation:\\nThe\\ntext\\nencourages\\na\\ndynamic\\napproach,\\nemphasizing\\nthat \\ntactics\\nshould\\nevolve\\nbased\\non\\nnew\\nscientific\\nunderstanding\\nand\\nchanging\\npersonal\\nneeds.\\nThe \\nauthor\\nacknowledges\\nthat\\ntheir\\nown\\nrecommendations\\nhave\\nevolved\\nover\\ntime\\nas\\nthey\\nhave\\ngained \\nnew\\ninsights.\\n●\\nOverall\\nGoal:\\nThe\\noverarching\\ngoal\\nis\\nto\\nlive\\nlonger\\nand\\nbetter,\\nstriving\\nto\\nimprove\\neach\\ndecade's \\nquality\\nof\\nlife\\nand\\nhealth\\nwhile\\navoiding\\nthe\\nnarrative\\nof\\ndecline\\nthat\\nprevious\\ngenerations\\nhave \\nexperienced.\\nIn\\nsummary,\\nthe\\nneed\\nto\\nadapt\\nto\\nthe\\nmodern\\nenvironment\\nby\\nemploying\\ntactical\\nstrategies\\nin\\nareas\\nlike \\nexercise,\\nnutrition,\\nsleep,\\nand\\nemotional\\nhealth\\nis\\nemphasized.\\nIt\\npromotes\\na\\npersonalized\\nand\\nadaptable \\napproach\\nto\\nimprove\\nhealth\\nand\\nlongevity,\\nacknowledging\\nthat\\nthere\\nis\\nno\\none-size-fits-all\\nsolution.\"),\n",
              " Document(metadata={'source': '/content/sample_data/outlive.pdf', 'page': 18}, page_content='Chapter\\n11\\n-\\nExercise:\\nThe\\nMost\\nPowerful\\nLongevity\\nDrug\\nThe\\ntext\\ndiscusses\\nthe\\nimportance\\nof\\nexercise\\nfor\\nlongevity\\nand\\nhealthspan.\\nHere\\nare\\nthe\\nkey\\npoints\\nand \\nactionable\\nstrategies:\\nExercise\\nas\\na\\nLongevity\\nDrug:\\n●\\nExercise\\nis\\na\\npowerful\\ntool\\nfor\\nimproving\\nlongevity\\nand\\nhealthspan. \\n●\\nRegular\\nexercise\\ncan\\ndelay\\nthe\\nonset\\nof\\nchronic\\ndiseases\\nand\\nimprove\\nphysical\\nand\\ncognitive\\nhealth. \\n●\\nEven\\na\\nsmall\\namount\\nof\\ndaily\\nactivity\\ncan\\nreduce\\nthe\\nrisk\\nof\\nall-cause\\nmortality\\nsignificantly.\\nCardiorespiratory\\nFitness:\\n●\\nCardiorespiratory\\nfitness,\\nmeasured\\nas\\nVO2\\nmax\\n(maximum\\noxygen\\nutilization),\\nis\\na\\ncrucial\\nmarker\\nfor \\nlongevity. \\n●\\nHigher\\nVO2\\nmax\\nis\\nassociated\\nwith\\nlower\\nmortality\\nrates. \\n●\\nExercise\\nhelps\\nimprove\\ncardiorespiratory\\nfitness\\nand\\ncan\\nbe\\nincreased\\nthrough\\ntraining.\\nMuscle\\nStrength:\\n●\\nMuscle\\nmass\\nand\\nstrength\\nare\\nstrongly\\ncorrelated\\nwith\\nliving\\nlonger. \\n●\\nStrong\\nmuscles\\nare\\nessential\\nfor\\nmaintaining\\nphysical\\nfunction\\nand\\nindependence. \\n●\\nStrength\\ntraining\\nprograms\\ncan\\nsignificantly\\nimprove\\nmuscle\\nmass\\nand\\nstrength,\\neven\\nin\\nolder \\nindividuals.\\nHealthspan\\nand\\nExercise:\\n●\\nExercise\\nnot\\nonly\\nextends\\nlifespan\\nbut\\nalso\\nenhances\\nhealthspan,\\nincluding\\ncognitive\\nand\\nemotional \\nhealth. \\n●\\nMaintaining\\nmuscle\\nmass\\nand\\nstrength\\nis\\ncrucial\\nfor\\npreserving\\nhealthspan\\nand\\npreventing\\nfalls.\\nBenefits\\nof\\nExercise:\\n●\\nExercise\\nimproves\\ncardiovascular\\nhealth,\\nmetabolism,\\nand\\nbrain\\nfunction. \\n●\\nIt\\nprompts\\nthe\\nbody\\nto\\nproduce\\nbeneficial\\nchemicals\\nlike\\ncytokines\\nand\\nBDNF. \\n●\\nExercise\\nhelps\\nmaintain\\na\\nhealthy\\nbody,\\nprevents\\nage-related\\nphysical\\ndecline,\\nand\\nreduces\\nthe\\nrisk\\nof \\nfalling.\\nScience:\\n●\\nDecline\\nin\\nMuscle\\nStrength\\nand\\nAerobic\\nCapacity:\\nThe\\ntext\\nemphasizes\\nthat\\nas\\npeople\\nage,\\ntheir \\nmuscle\\nstrength\\nand\\naerobic\\ncapacity\\nnaturally\\ndecline,\\nwith\\nmuscle\\nstrength\\ndeclining\\nby\\nabout\\n8\\nto \\n17\\npercent\\nper\\ndecade.\\n●\\nImportance\\nof\\nFitness:\\nMaintaining\\na\\nhigh\\nlevel\\nof\\nfitness\\nthroughout\\nlife\\ncan\\nhelp\\nindividuals\\ndefy\\nthe \\nstereotype\\nof\\nageing\\nas\\na\\nperiod\\nof\\nweakness\\nand\\ndecline.\\n●\\nCustomized\\nGoals:\\nThe\\nCentenarian\\nDecathlon\\nis\\na\\npersonalized\\napproach\\nto\\nfitness,\\nallowing \\nindividuals\\nto\\nchoose\\nspecific\\nphysical\\ntasks\\nand\\ngoals\\nthat\\nmatter\\nto\\nthem.\\n●\\nSetting\\nthe\\nStandard:\\nThe\\ntext\\nsuggests\\nthat\\nachieving\\ntasks\\nin\\nthe\\nCentenarian\\nDecathlon\\nrequires \\nindividuals\\nto\\nperform\\nat\\na\\nhigher\\nlevel\\nnow\\nto\\ncounteract\\nthe\\nexpected\\ndecline\\nin\\nstrength\\nand\\naerobic \\ncapacity\\nas\\nthey\\nage.\\nActionable\\nStrategies:\\n●\\nSelecting\\nPersonal\\nGoals:\\nEncourage\\nindividuals\\nto\\nselect\\n10\\nto\\n15\\nphysical\\ntasks\\nthey\\nwant\\nto\\nbe \\nable\\nto\\nperform\\nin\\ntheir\\nlater\\ndecades,\\nconsidering\\ntheir\\ninterests\\nand\\npriorities.'),\n",
              " Document(metadata={'source': '/content/sample_data/outlive.pdf', 'page': 19}, page_content='●\\nProgressive\\nTraining:\\nTrain\\nwith\\nthe\\nspecific\\npurpose\\nof\\nbecoming\\nphysically\\ncapable\\nin\\nall\\nselected \\ntasks.\\nThis\\nmay\\ninvolve\\nstrength\\ntraining,\\ncardiovascular\\nconditioning,\\nflexibility\\nexercises,\\nand \\nbalance\\nwork.\\n●\\nSpecific\\nFitness\\nStandards:\\nRelate\\neach\\nselected\\ntask\\nto\\ncurrent\\nfitness\\nstandards.\\nFor\\nexample, \\nlifting\\na\\n30-pound\\ngrandchild\\nrequires\\nstrength\\nequivalent\\nto\\nperforming\\na\\ngoblet\\nsquat\\nwith\\na \\n30-pound\\ndumbbell.\\n●\\nRegular\\nAssessments:\\nPeriodically\\nassess\\nyour\\nfitness\\nlevels\\nfor\\neach\\nchosen\\ntask,\\nsuch\\nas \\nmeasuring\\nVO2\\nmax\\nfor\\nhiking\\ngoals\\nor\\ntesting\\nstrength\\nfor\\nlifting\\ntasks.\\n●\\nBroad\\nFitness\\nApproach:\\nTrain\\nnot\\nonly\\nfor\\nspecific\\nsports\\nor\\nactivities\\nbut\\nfor\\noverall\\nfitness.\\nThe\\ngoal \\nis\\nto\\nbe\\nproficient\\nin\\na\\nwide\\nrange\\nof\\nphysical\\nabilities,\\nmaking\\nyou\\nan\\n\"athlete\\nof\\nlife.\"\\n●\\nDefying\\nStereotypes:\\nChallenge\\nthe\\nassumption\\nthat\\nageing\\nnecessarily\\nleads\\nto\\nphysical\\ndecline\\nby \\nstriving\\nfor\\na\\nhigh\\nlevel\\nof\\nfitness,\\nas\\nexemplified\\nby\\nfitness\\nicon\\nJack\\nLaLanne.\\n●\\nIncremental\\nImprovement:\\nAim\\nto\\nimprove\\nyour\\nphysical\\ncapabilities\\ndecade\\nby\\ndecade,\\naiming\\nto\\nbe \\na\\nvibrant\\nand\\ncapable\\nindividual\\nat\\nevery\\nstage\\nof\\nlife.\\nThe\\nCentenarian\\nDecathlon\\nis\\na\\nframework\\nthat\\npromotes\\na\\nproactive\\nand\\npersonalized\\napproach\\nto\\nfitness, \\nchallenging\\nindividuals\\nto\\nmaintain\\ntheir\\nphysical\\nabilities\\nand\\nwell-being\\nas\\nthey\\nage.\\nIt\\nemphasizes\\nthe \\nimportance\\nof\\nsetting\\nspecific\\ngoals,\\ntracking\\nprogress,\\nand\\ncontinually\\nstriving\\nto\\nimprove\\none\\'s\\nphysical \\nfitness\\nover\\ntime.\\nTakeaways:\\n●\\nIncorporate\\nregular\\nexercise\\ninto\\nyour\\ndaily\\nroutine. \\n●\\nFocus\\non\\nboth\\ncardiorespiratory\\nfitness\\nand\\nmuscle\\nstrength. \\n●\\nAim\\nto\\nmaintain\\nmuscle\\nmass\\nand\\nstrength\\nto\\nprevent\\nphysical\\ndecline. \\n●\\nConsider\\nadopting\\nthe\\nCentenarian\\nDecathlon\\nphilosophy\\nto\\nprepare\\nfor\\nageing\\nchallenges. \\n●\\nOverall,\\nthe\\nsignificance\\nof\\nexercise\\nas\\na\\nlongevity\\nstrategy\\nis\\nemphasized,\\nand\\nhighlights\\nthe \\nimportance\\nof\\nmaintaining\\ncardiovascular\\nfitness\\nand\\nmuscle\\nstrength\\nto\\nlead\\na\\nlonger,\\nhealthier\\nlife.'),\n",
              " Document(metadata={'source': '/content/sample_data/outlive.pdf', 'page': 20}, page_content='Chapter\\n12\\n-\\nThis\\ntext\\nfrom\\n\"Training\\n101\"\\nin\\nyour\\nbook\\nemphasizes\\nthe\\nimportance\\nof\\nexercise,\\nparticularly\\nzone\\n2\\nand \\nVO2\\nmax\\ntraining,\\nfor\\nlongevity\\nand\\noverall\\nhealth.\\nHere\\nare\\nthe\\nkey\\nscience-based\\ntakeaways\\nand\\nactionable \\nstrategies:\\nAerobic\\nEfficiency\\n(Zone\\n2):\\n●\\nAerobic\\nExercise\\nVariety:\\nFocus\\non\\na\\nrange\\nof\\naerobic\\nexercises,\\nfrom\\neasy\\nwalks\\nto\\nmore\\nintense \\nactivities\\nlike\\njogging,\\ncycling,\\nor\\nswimming.\\nThe\\nkey\\nis\\nto\\nengage\\nin\\naerobic\\nactivities\\nin\\nwhat \\nphysiologists\\ncall\\n\"zone\\n2,\"\\nwhich\\nis\\na\\nsustainable\\npace\\nwhere\\nyou\\ncan\\nstill\\nmaintain\\na\\nconversation \\nbut\\nfeel\\na\\nbit\\nstrained.\\n●\\nMitochondrial\\nHealth:\\nMitochondria\\nare\\nessential\\nfor\\nenergy\\nproduction,\\nand\\nhealthy\\nmitochondria\\nare \\ncrucial\\nfor\\noverall\\nmetabolic\\nhealth\\nand\\nlongevity.\\nLong,\\nsteady\\nendurance\\ntraining\\nin\\nzone\\n2 \\nstimulates\\nmitochondrial\\nbiogenesis,\\nimproving\\nthe\\nefficiency\\nof\\nyour\\nmitochondria.\\n●\\nMetabolic\\nFlexibility:\\nZone\\n2\\ntraining\\nenhances\\nyour\\nability\\nto\\nutilize\\nboth\\nglucose\\nand\\nfatty\\nacids\\nas \\nfuels,\\npromoting\\nmetabolic\\nflexibility\\nand\\nreducing\\nthe\\nrisk\\nof\\nmetabolic\\ndiseases\\nlike\\ndiabetes\\nand \\ncardiovascular\\nissues.\\n●\\nZone\\n2\\nWorkouts:\\nAim\\nfor\\nabout\\nthree\\nhours\\nper\\nweek\\nof\\nzone\\n2\\ntraining,\\nor\\nfour\\n45-minute\\nsessions, \\nto\\nexperience\\nsignificant\\nhealth\\nbenefits.\\nAdjust\\nthe\\nintensity\\nbased\\non\\nyour\\nfitness\\nlevel.\\nVO2\\nMax\\nTraining:\\n●\\nVO2\\nMax\\nImportance:\\nVO2\\nmax\\nrepresents\\nyour\\npeak\\naerobic\\ncapacity\\nand\\nis\\nassociated\\nwith \\nlongevity\\nand\\nfunctional\\ncapability.\\nTraining\\nto\\nimprove\\nyour\\nVO2\\nmax\\nis\\nessential\\nfor\\nmaintaining \\nphysical\\nfunction\\nas\\nyou\\nage.\\n●\\nRegular\\nTesting:\\nPeriodically\\nmeasure\\nyour\\nVO2\\nmax\\nto\\ntrack\\nyour\\nprogress\\nand\\nensure\\nyou\\nare\\non \\nthe\\nright\\npath.\\nThis\\ntest\\nprovides\\nvaluable\\ninformation\\nabout\\nyour\\nphysical\\ncapabilities\\nand\\npotential \\nlongevity.\\n●\\nSetting\\nHigh\\nGoals:\\nAim\\nfor\\nthe\\nhighest\\npossible\\nVO2\\nmax\\nfor\\nyour\\nage\\nand\\nsex.\\nThis\\nlevel\\nof\\nfitness \\nwill\\nhelp\\nyou\\nmaintain\\nan\\nactive,\\nfulfilling\\nlife\\nas\\nyou\\ngrow\\nolder.\\n●\\nLong-Term\\nCommitment:\\nBuilding\\nand\\nmaintaining\\na\\nhigh\\nVO2\\nmax\\nis\\na\\nlong-term\\nproject\\nthat\\nrequires \\ndedication\\nand\\nconsistent\\ntraining\\nover\\nyears,\\nnot\\njust\\nweeks\\nor\\nmonths.\\nThe\\ntext\\nprovides\\ninsights\\ninto\\nthe\\nimportance\\nof\\nmaximizing\\nVO2\\nmax,\\nstrength,\\nand\\nbone\\ndensity\\nfor\\nhealthy \\nageing.\\nHere\\nare\\nthe\\nkey\\nscience-backed\\npoints\\nand\\nactionable\\nstrategies:\\nVO2\\nMax:\\n●\\nIncreasing\\nyour\\nVO2\\nmax\\ncan\\nmake\\nyou\\nfunctionally\\nyounger. \\n●\\nBoosting\\nVO2\\nmax\\ncan\\nbe\\nequivalent\\nto\\nsubtracting\\nyears\\nfrom\\nyour\\nage. \\n●\\nTraining\\ncan\\nimprove\\nVO2\\nmax\\nat\\nany\\nage. \\n●\\nVO2\\nmax\\nintervals\\nare\\nrecommended,\\ninvolving\\n4-minute\\nhigh-intensity\\nefforts\\nfollowed\\nby\\n4\\nminutes \\nof\\nrest,\\nrepeated\\n4-6\\ntimes.\\nStrength:\\n●\\nMuscle\\nmass\\nand\\nstrength\\ndecline\\nwith\\nage,\\nparticularly\\ntype\\n2\\nmuscle\\nfibers. \\n●\\nLoss\\nof\\nmuscle\\nstrength\\noccurs\\nmore\\nrapidly\\nthan\\nmuscle\\nmass. \\n●\\nPower\\n(strength\\nx\\nspeed)\\ndeclines\\neven\\nfaster\\nthan\\nstrength. \\n●\\nHeavy\\nresistance\\ntraining\\nis\\nessential\\nto\\npreserve\\ntype\\n2\\nmuscle\\nfibers. \\n●\\nDaily\\nlife\\nand\\nzone\\n2\\nendurance\\nwork\\nmay\\nnot\\nprevent\\ntype\\n2\\nmuscle\\natrophy. \\n●\\nStrength\\ntraining,\\nparticularly\\ncarrying\\nheavy\\nobjects,\\nis\\ncrucial\\nfor\\nfunctional\\nageing.'),\n",
              " Document(metadata={'source': '/content/sample_data/outlive.pdf', 'page': 21}, page_content=\"Bone\\nDensity:\\n●\\nBone\\ndensity\\ndecreases\\nwith\\nage,\\nespecially\\nfor\\nwomen\\nafter\\nmenopause. \\n●\\nEstrogen\\nis\\nvital\\nfor\\nbone\\nstrength\\nin\\nboth\\nmen\\nand\\nwomen. \\n●\\nRisk\\nfactors\\nfor\\nlow\\nbone\\ndensity\\ninclude\\ngenetics,\\nsmoking,\\ncorticosteroid\\nuse,\\nand\\nlow\\nmuscle\\nmass. \\n●\\nBone\\ndensity\\nscreening\\nis\\nimportant\\nto\\ndetect\\nissues\\nearly. \\n●\\nStrategies\\nto\\nimprove\\nbone\\ndensity\\ninclude\\nnutrition,\\nweight-bearing\\nactivities,\\nhormone\\nreplacement \\ntherapy\\n(HRT),\\nand\\nmedications\\nif\\nnecessary.\\nGrip\\nStrength:\\n●\\nGrip\\nstrength\\nis\\na\\nsignificant\\nindicator\\nof\\noverall\\nhealth\\nand\\nlongevity. \\n●\\nWeak\\ngrip\\nstrength\\nin\\nmidlife\\nis\\nlinked\\nto\\nincreased\\nmortality\\nrisk. \\n●\\nStrength\\ntraining\\nexercises\\nlike\\nfarmer's\\ncarries\\nand\\ndead\\nhangs\\ncan\\nimprove\\ngrip\\nstrength.\\nEccentric\\nLoading:\\n●\\nEccentric\\nloading\\n(muscle\\nlengthening)\\nis\\ncrucial\\nfor\\nbalance\\nand\\ninjury\\nprevention. \\n●\\nExercises\\nfocusing\\non\\neccentric\\nstrength\\nshould\\nbe\\nincluded\\nin\\nyour\\ntraining\\nroutine. \\n●\\nEccentric\\nstrength\\nis\\nparticularly\\nimportant\\nfor\\nthe\\nquads\\nto\\nprevent\\nfalls\\nand\\nknee\\ninjuries.\\nPulling\\nMotions:\\n●\\nPulling\\nmotions,\\nsuch\\nas\\nrows\\nand\\npull-ups,\\nare\\nessential\\nfor\\nfunctional\\nstrength. \\n●\\nThese\\nexercises\\nhelp\\nin\\nlifting\\nobjects\\nand\\noverall\\nupper\\nbody\\nstrength.\\nHip-Hinging:\\n●\\nHip-hinging\\nmovements,\\nlike\\ndeadlifts\\nand\\nsquats,\\nare\\nfundamental\\nfor\\ndaily\\nactivities. \\n●\\nProper\\nhip-hinging\\ntechnique\\nshould\\nbe\\nlearned\\nand\\nmaintained. \\n●\\nThese\\nexercises\\ncan\\nbe\\ndone\\nwith\\nproper\\nform\\nand\\nprogressively\\nheavier\\nweights. \\n●\\nThe\\ntext\\nemphasizes\\nthat\\nfocusing\\non\\nthese\\naspects\\nof\\nfitness\\ncan\\nhelp\\nindividuals\\nage\\nmore \\ngracefully,\\nmaintain\\nindependence,\\nand\\nreduce\\nthe\\nrisk\\nof\\ninjury\\nin\\nlater\\nyears.\\nThe\\nimportance\\nof\\nexercise\\nis\\nunderscored,\\nspecifically\\nZone\\n2\\nand\\nVO2\\nmax\\ntraining,\\nin\\npromoting\\nlongevity, \\nmetabolic\\nhealth,\\nand\\noverall\\nwell-being.\\nTo\\nmake\\nthe\\nmost\\nof\\nthese\\nstrategies,\\nit's\\ncrucial\\nto\\nengage\\nin\\nregular \\naerobic\\nexercise,\\ntrack\\nyour\\nprogress,\\nset\\nambitious\\ngoals,\\nand\\ncommit\\nto\\nlong-term\\ntraining\\nefforts\\nto\\nsupport \\na\\nhealthier\\nand\\nmore\\nactive\\nlife\\nas\\nyou\\nage.\"),\n",
              " Document(metadata={'source': '/content/sample_data/outlive.pdf', 'page': 22}, page_content='Chapter\\n13\\n-\\nThe\\nGospel\\nof\\nStability\\nHere\\nthe\\nimportance\\nof\\nstability\\nin\\npreventing\\ninjuries\\nand\\nmaintaining\\nphysical\\nfitness\\nas\\nwe\\nage,\\nis \\nemphasized.\\nKey\\nscience\\nand\\nactionable\\nstrategies\\nfollow:\\nScience\\nand\\nConcepts:\\n●\\nInjury\\nas\\na\\nBarrier:\\nMany\\nolder\\nindividuals\\nexercise\\nless\\nor\\nstop\\nmoving\\naltogether\\ndue\\nto\\ninjuries\\nthey \\nhave\\nsuffered\\nat\\nsome\\npoint\\nin\\ntheir\\nlives.\\nThese\\ninjuries\\noften\\nprevent\\nthem\\nfrom\\nresuming\\nphysical \\nactivity,\\nleading\\nto\\na\\ndecline\\nin\\nfitness.\\n●\\nChronic\\nPain\\nPrevalence:\\nChronic\\npain,\\nparticularly\\nback\\npain,\\nis\\nwidespread\\namong\\nAmericans\\nover \\nthe\\nage\\nof\\nforty-five,\\naffecting\\nmore\\nthan\\n27\\npercent\\nof\\nthis\\ndemographic.\\nIt\\nleads\\nto\\nopioid \\nprescriptions,\\nsurgeries,\\nand\\nsignificant\\nmedical\\ncosts.\\n●\\nImpact\\nof\\nInjury\\non\\nQuality\\nof\\nLife:\\nStudies\\nshow\\nthat\\nathletes\\nwho\\nexperience\\ninjuries\\nduring\\ntheir \\ncareers\\nreport\\nlower\\nquality\\nof\\nlife\\nin\\nmiddle\\nand\\nolder\\nages.\\nInjuries\\nhave\\nlasting\\nphysical\\nand \\npsychological\\neffects.\\n●\\nThe\\nFirst\\nCommandment\\nof\\nFitness:\\nThe\\nprimary\\nprinciple\\nemphasized\\nis\\n\"First,\\ndo\\nthyself\\nno\\nharm,\" \\nhighlighting\\nthe\\nimportance\\nof\\navoiding\\ninjuries\\nin\\nfitness\\nroutines.\\n●\\nStability\\nas\\nKey:\\nStability\\nis\\nintroduced\\nas\\na\\ncritical\\nfactor\\nin\\npreventing\\ninjuries\\nand\\nmaintaining \\nfitness.\\nIt\\nis\\nnot\\nlimited\\nto\\ncore\\nstrength\\nbut\\nencompasses\\nthe\\nability\\nto\\nmove\\nefficiently\\nand\\nsafely.\\n●\\nThe\\nRole\\nof\\nStability\\nin\\nInjury\\nPrevention:\\nThe\\ntext\\ndiscusses\\nhow\\nmany\\nacute\\ninjuries\\noften\\nhave \\nunderlying\\nweaknesses\\nor\\nlack\\nof\\nstability\\nat\\nthe\\njoint\\nlevel.\\nStability\\nis\\nessential\\nto\\nprevent\\nthese \\ninjuries\\nfrom\\noccurring.\\n●\\nDefinition\\nof\\nStability:\\nStability\\nis\\ndefined\\nas\\nthe\\nsubconscious\\nability\\nto\\nharness,\\ndecelerate,\\nor\\nstop \\nforce\\nand\\nadapt\\nto\\ninternal\\nor\\nexternal\\nstimuli\\nwith\\nminimal\\nconscious\\neffort.\\n●\\nAnalogy\\nwith\\nAuto\\nRacing:\\nAn\\nanalogy\\nwith\\nauto\\nracing\\nis\\nused\\nto\\nillustrate\\nthe\\nimportance\\nof\\nstability \\nin\\ntransmitting\\nforce\\nefficiently.\\nA\\nlighter,\\nmore\\nstable\\ncar\\ncan\\noutperform\\na\\nmore\\npowerful\\nbut\\nless \\nstable\\none.\\n●\\nImportance\\nof\\nSafe\\nForce\\nTransmission:\\nStability\\nallows\\nthe\\nbody\\nto\\ntransmit\\nforce\\nsafely,\\nreducing\\nthe \\nrisk\\nof\\ninjuries\\nto\\njoints,\\nsoft\\ntissues,\\nand\\nthe\\nspine.\\n●\\nAwareness\\nof\\nStability\\nStrategy:\\nRecognizing\\nan\\nindividual\\'s\\ninnate\\nstability\\nstrategy\\ncan\\nhelp\\naddress \\nweaknesses\\nand\\navoid\\ninjuries\\nwhen\\nstressors\\nare\\nintroduced.\\n●\\nThe\\nImportance\\nof\\nFeet:\\nOur\\nfeet\\nare\\nthe\\nfoundation\\nfor\\nmovement,\\nproviding\\nstability\\nand\\nsupport. \\nProper\\nfoot\\nstrength\\nand\\nawareness\\nare\\nessential\\nfor\\nvarious\\nactivities,\\nincluding\\nlifting,\\nwalking, \\nrunning,\\nand\\nmaintaining\\nbalance.\\nActionable\\nStrategies:\\n●\\nChange\\nin\\nMindset:\\nInstead\\nof\\nfocusing\\non\\npushing\\nthe\\nbody\\nto\\nthe\\nlimit\\nevery\\nworkout,\\nthe\\ntext \\nadvocates\\nfor\\nworking\\nsmart\\nand\\nprioritizing\\nsafe,\\nideal\\nmovement\\npatterns.\\n●\\nRelearning\\nMovement\\nPatterns:\\nRelearning\\nproper\\nmovement\\npatterns\\nis\\ncrucial\\nfor\\nstability.\\nIt \\ninvolves\\nworking\\non\\nmovements\\nthat\\nallow\\nthe\\nbody\\nto\\nfunction\\nas\\ndesigned\\nwhile\\nminimizing\\ninjury \\nrisk.\\n●\\nDynamic\\nNeuromuscular\\nStabilization\\n(DNS):\\nDNS\\nis\\nintroduced\\nas\\na\\nmethod\\nto\\nretrain\\nthe\\nbody\\nand \\nbrain\\nin\\nnatural,\\nhealthy\\nmovement\\npatterns,\\nakin\\nto\\nhow\\ninfants\\nlearn\\nto\\nmove.\\nDNS\\noriginated\\nwith \\nCzech\\nneurologists\\nworking\\nwith\\nchildren\\nwith\\ncerebral\\npalsy.'),\n",
              " Document(metadata={'source': '/content/sample_data/outlive.pdf', 'page': 23}, page_content='●\\nBreathing\\nand\\nStability:\\nProper\\nbreathing\\nis\\nhighlighted\\nas\\na\\nfoundational\\naspect\\nof\\nstability.\\nIt\\naffects \\nmotor\\ncontrol,\\nmental\\nstate,\\nand\\ninjury\\nsusceptibility.\\nBreath\\nawareness\\nand\\nexercises\\nto\\nstrengthen \\nthe\\ndiaphragm\\nare\\nrecommended.\\n●\\nBreathing\\nStyles\\nand\\nStability:\\nDifferent\\nbreathing\\nstyles\\nare\\nassociated\\nwith\\ndifferent\\nstability \\nstrategies.\\nThese\\ninclude\\nhyperinflated\\n(Mr.\\nStay\\nPuft),\\ncompressed\\n(Sad\\nGuy),\\nand\\nuncontrolled \\n(Yogini)\\ntypes.\\nTailoring\\nworkouts\\nbased\\non\\nbreathing\\nstyles\\nis\\nsuggested.\\n●\\nCreating\\nIntra-Abdominal\\nPressure\\n(IAP):\\nIAP\\nis\\na\\nkey\\nconcept\\nin\\nstability\\ntraining.\\nExercises\\nto\\ncreate \\nand\\nmaintain\\nIAP\\nare\\nessential\\nfor\\ncore\\nstability\\nand\\nsafe\\nmovement.\\n●\\nTailoring\\nWorkouts:\\nThe\\ntext\\nrecommends\\ntailoring\\nworkouts\\nbased\\non\\nan\\nindividual\\'s\\nbreathing\\nstyle. \\nFor\\nexample,\\nhyperinflated\\nindividuals\\nmay\\nneed\\ngrounding\\nexercises,\\nwhile\\nYoginis\\nmay\\nbenefit\\nfrom \\nclosed-chain\\nexercises\\nand\\nmachines.\\n●\\nToe\\nYoga\\nfor\\nFoot\\nStrength:\\nToe\\nyoga\\nexercises\\ncan\\nimprove\\ntoe\\ndexterity\\nand\\nintrinsic\\ntoe\\nstrength. \\nThese\\nexercises\\nenhance\\nthe\\nability\\nto\\ncontrol\\nand\\nengage\\nindividual\\ntoes\\nconsciously,\\nwhich\\nis \\ncrucial\\nfor\\nwalking,\\nrunning,\\nlifting,\\nand\\nbalance.\\nExercises\\ninvolve\\nspreading\\ntoes,\\nlifting\\nand\\nlowering \\nthem\\nindividually,\\nand\\nfocusing\\non\\ngrounding\\nthe\\nfour\\ncorners\\nof\\neach\\nfoot.\\n●\\nFoot\\nPronation\\nand\\nSupination:\\nFoot\\nmechanics\\ncan\\ninvolve\\npronation\\n(feet\\nfolding\\ninward)\\nor \\nsupination\\n(feet\\nrolling\\noutward).\\nBoth\\nsyndromes\\ncan\\nlead\\nto\\ninefficient\\nforce\\ntransfer,\\ninstability,\\nand \\npotential\\ninjuries\\nlike\\nplantar\\nfasciitis\\nand\\nknee\\nproblems.\\nLearning\\nto\\nmove\\nbetween\\nthese\\npositions \\nefficiently\\nis\\nessential.\\n●\\nBalance\\nand\\nStability:\\nProper\\nfoot\\npositioning\\nand\\nbalance\\nare\\ncritical\\ncomponents\\nof\\nstability\\ntraining. \\nTraining\\nto\\nstand\\non\\none\\nfoot,\\nclose\\nyour\\neyes,\\nand\\nmaintain\\nbalance\\ncan\\nbe\\ncrucial\\nfor\\nstability\\nand \\nlongevity.\\n●\\nSpinal\\nHealth:\\nMaintaining\\nthe\\nintegrity\\nof\\nthe\\nspine\\nis\\na\\ncentral\\nfocus\\nof\\nstability\\ntraining.\\nMany \\nmodern\\nactivities,\\nlike\\nsitting\\nfor\\nextended\\nperiods\\nand\\nusing\\ndevices,\\ncan\\ncontribute\\nto\\nspinal \\nproblems.\\nExercises\\nthat\\nemphasize\\nspine\\nawareness\\nand\\ncontrol,\\nsuch\\nas\\nsegmental\\nCat/Cow \\nmovements,\\ncan\\nhelp\\nprotect\\nthe\\nspine.\\n●\\nScapular\\nControl:\\nThe\\nshoulder\\njoint\\nis\\ncomplex\\nand\\nprone\\nto\\ninstability\\ndue\\nto\\nits\\nnumerous\\nmuscular \\nattachments.\\nScapular\\ncontrol\\nexercises,\\nlike\\nScapular\\nCARs\\n(Controlled\\nArticular\\nRotations),\\ncan \\nimprove\\nshoulder\\nstability\\nand\\nfunction.\\n●\\nGrip\\nStrength:\\nStrong\\nhands\\nand\\nfingers\\nare\\ncrucial\\nfor\\ntransmitting\\nand\\nmodulating\\nforce\\nefficiently. \\nWeak\\ngrip\\nstrength\\ncan\\nlead\\nto\\nshoulder\\nand\\nelbow\\nissues.\\nDeliberate\\ngrip\\ntraining,\\ninvolving\\nall \\nfingers,\\ncan\\nhelp\\nimprove\\noverall\\nupper\\nbody\\nfunction.\\n●\\nReactivity\\nand\\nMobility:\\nDeveloping\\nreactivity,\\nthe\\nability\\nto\\nrespond\\nquickly\\nto\\nunexpected \\nmovements,\\nis\\nessential\\nfor\\nstability.\\nExercises\\nlike\\nagility\\nladder\\ndrills\\nand\\njumping\\ndrills\\ncan\\nenhance \\nreactivity\\nand\\nreduce\\nthe\\nrisk\\nof\\nfalls.\\n●\\nFunctional\\nMovement:\\nStability\\ntraining\\ninvolves\\nmastering\\nfundamental\\nmovement\\npatterns\\nlike \\nsquatting,\\nlunging,\\nand\\nhip-hinging.\\nThese\\nmovements\\nshould\\nbe\\npracticed\\nwith\\nproper\\nform\\nand \\ntechnique\\nto\\nprevent\\ninjuries\\nand\\npromote\\nfunctional\\nstrength.\\n●\\nThe\\nPower\\nof\\nExercise\\n-\\nBarry\\'s\\nStory:\\nThe\\ntext\\nemphasizes\\nthe\\ntransformative\\npower\\nof\\nexercise, \\neven\\nfor\\nindividuals\\nstarting\\nwith\\nlittle\\nto\\nno\\nfitness\\nbackground.\\nIt\\nhighlights\\nhow\\nconsistent\\ntraining, \\nwith\\na\\nfocus\\non\\nstability\\nand\\nfunctional\\nmovements,\\ncan\\nimprove\\nstrength,\\nmobility,\\nand\\noverall\\nquality \\nof\\nlife,\\nregardless\\nof\\nage.\\n●\\nThe\\n\"Barry\\nGet-Up\":\\nGetting\\nup\\nfrom\\na\\nseated\\nposition\\nwith\\none\\narm\\nor\\nno\\narms\\nis\\na\\nfundamental \\nmovement\\npattern\\nthat\\noften\\ndeclines\\nwith\\nage.\\nThe\\n\"Barry\\nGet-Up\"\\nis\\na\\nsequence\\nof\\nmovements \\ndesigned\\nto\\nhelp\\nindividuals\\nregain\\nthis\\nability\\nand\\nmaintain\\nindependence.'),\n",
              " Document(metadata={'source': '/content/sample_data/outlive.pdf', 'page': 24}, page_content='●\\nAgeing\\nand\\nExercise:\\nThe\\ntext\\nemphasizes\\nthat\\nexercise\\ncan\\nreverse\\nor\\nmitigate\\nthe\\neffects\\nof\\nageing, \\nallowing\\nindividuals\\nto\\nget\\nstronger\\nand\\nmore\\ncapable\\nover\\ntime,\\nrather\\nthan\\nsimply\\nslowing\\ndown\\nthe \\ndecline\\nassociated\\nwith\\nage.\\nThe\\noverarching\\nmessage\\nis\\nthat\\nstability\\nis\\na\\nfundamental\\naspect\\nof\\nfitness\\nand\\ninjury\\nprevention,\\nand \\nunderstanding\\nand\\nretraining\\nmovement\\npatterns\\nand\\nbreathing\\ncan\\nsignificantly\\nenhance\\noverall\\nphysical \\nwell-being.\\nOverall,\\nthe\\ntext\\nunderscores\\nthe\\nimportance\\nof\\nstability\\ntraining,\\nproper\\nmovement\\npatterns,\\nand\\nbalance\\nin \\npromoting\\nphysical\\nhealth,\\npreventing\\ninjuries,\\nand\\nenhancing\\noverall\\nwell-being,\\nespecially\\nas\\nindividuals\\nage. \\nIt\\nhighlights\\nthe\\npotential\\nfor\\ntransformation\\nthrough\\nexercise\\nand\\nstability-focused\\ntraining.'),\n",
              " Document(metadata={'source': '/content/sample_data/outlive.pdf', 'page': 25}, page_content='Chapter\\n14\\n-\\nNutrition\\n3.0:\\nYou\\nSay\\nPotato,\\nI\\nSay\\nNutritional\\nBiochemistry\\n//\\nTHIS\\nTEXT\\nNEEDS\\nMANUAL\\nEDITING\\n//\\nHere\\nthe\\ncomplexities\\nand\\nchallenges\\nof\\nnutrition\\nscience\\nare\\ndiscussed,\\nand\\nactionable\\nstrategies\\npresented.\\nThe\\nComplexity\\nof\\nNutrition\\nScience\\n-\\nnutrition\\nis\\na\\nhighly\\ndebated\\nand\\nemotionally\\ncharged\\ntopic,\\noften \\nclouded\\nby\\nmisinformation.\\nThe\\nlack\\nof\\nconclusive\\nevidence\\nin\\nnutrition\\nscience\\nis\\nhighlighted,\\nidentified\\nas \\nleading\\nto\\nvarious\\ndietary\\nideologies\\nand\\ntribalism.\\nEvolution\\nin\\nDietary\\nViews\\n–\\na\\npersonal\\npersonal\\njourney\\nis\\ndescribed,\\ninitially\\nadvocating\\nfor\\nspecific\\ndiets \\n(e.g.,\\nketogenic)\\nbut\\nlater\\nadopting\\na\\nmore\\nflexible\\nand\\npatient-centered\\napproach.\\nShifting\\nfrom\\n\"Diet\"\\nto\\n\"Nutritional\\nBiochemistry\"\\n–\\na\\nshift\\nin\\nfocus\\nfrom\\n\"diet\"\\nto\\n\"nutritional\\nbiochemistry\"\\nto \\nmake\\nnutrition\\ndiscussions\\nmore\\nscientific\\nand\\nless\\nemotional\\nis\\nmade.\\nAlso\\nemphasized\\nis\\nthe\\nimportance\\nof \\nrecognizing\\nindividual\\nvariations\\nin\\nresponse\\nto\\nfood.\\nGoals\\nof\\nNutrition\\n3.0\\n●\\nThe\\ngoals\\nof\\nNutrition\\n3.0\\nare\\ndefined\\nas\\naddressing\\nwhether\\nindividuals\\nare\\nundernourished, \\novernourished,\\nundermuscled,\\nor\\nmetabolically\\nhealthy. \\n●\\nCorrelates\\npoor\\nmetabolic\\nhealth\\nwith\\novernutrition\\nand\\nundermuscling,\\nhighlighting\\nthe\\nneed\\nto \\nreduce\\ncalorie\\nintake,\\nincrease\\nprotein\\nintake,\\nand\\nincorporate\\nexercise.\\nDistinguishing\\nBehavior\\nfor\\nMaintenance\\nvs.\\nCorrection\\n●\\nDiscusses\\nthe\\ndifference\\nbetween\\ndietary\\nbehaviors\\nfor\\nmaintaining\\ngood\\nhealth\\nand\\ncorrecting\\nhealth \\nissues. \\n●\\nDraws\\nan\\nanalogy\\nbetween\\nwearing\\na\\ncast\\non\\na\\nbroken\\nbone\\nand\\ndietary\\ninterventions\\nfor\\ncorrecting \\nhealth\\nproblems.\\nSimplified\\nNutrition\\nGuidelines\\n●\\nSimplified\\nnutrition\\nguidelines\\nare\\npresented,\\nincluding\\ncalorie\\nbalance,\\nprotein\\nand\\nessential\\nfat \\nintake,\\nobtaining\\nnecessary\\nvitamins\\nand\\nminerals,\\nand\\navoiding\\npathogens\\nand\\ntoxins. \\n●\\nBeyond\\nthese\\nbasics,\\nmuch\\nremains\\nuncertain\\nin\\nnutrition\\nscience.\\nDirectional\\nGuidelines\\n●\\nRecommends\\ngeneral\\ndietary\\nguidelines\\nsuch\\nas\\neating\\nwhole,\\nunprocessed\\nfoods,\\nfavoring \\nplant-based\\ndiets,\\nand\\nconsidering\\nanimal\\nprotein\\nas\\nsafe. \\n●\\nAcknowledges\\nthat\\nsmall\\nvariations\\nin\\ndiets\\nmay\\nnot\\nbe\\nas\\nsignificant\\nas\\noften\\nassumed.\\nChallenges\\nin\\nNutrition\\nResearch\\nare\\ndiscussed\\nincluding\\nissues\\nwith\\nepidemiological\\nstudies\\nand\\nthe \\ndifficulty\\nof\\nconducting\\ncontrolled\\nclinical\\ntrials.\\nThe\\nlimitations\\nof\\nepidemiological\\nstudies\\nin\\nestablishing\\ncausation\\ndue\\nto\\nthe\\ndifficulty\\nof\\ndistinguishing \\ncorrelation\\nfrom\\ncausation,\\nare\\nhighlighted.\\nAlso\\nnoted\\nare\\nhow\\nconfounding\\nfactors\\ncan\\ndistort\\nstudy \\noutcomes.\\nHighlights\\nthe\\nchallenges\\nof\\nconducting\\nclinical\\ntrials\\nin\\nnutrition\\nresearch,\\nparticularly\\nrelated\\nto\\ncompliance \\nand\\nvariations\\namong\\nindividuals.\\nThe\\nPREDIMED\\nstudy\\nis\\nan\\nexample\\nof\\na\\nsuccessful\\nclinical\\ntrial,\\nindicating\\npotential\\nbenefits\\nof\\na \\nMediterranean-style\\ndiet.\\nRecognition\\nof\\nindividual\\nvariability\\nin\\ndietary\\nresponses\\nand\\noutcomes\\nsuggests\\nthat\\nwhat\\nworks\\nfor\\none \\nperson\\nmay\\nnot\\nwork\\nfor\\nanother.\\nThe\\ncomplexity\\nof\\nnutrition\\nscience\\nand\\nthe\\nneed\\nto\\ntailor\\ndietary\\nrecommendations\\nto\\nindividual\\nneeds.'),\n",
              " Document(metadata={'source': '/content/sample_data/outlive.pdf', 'page': 26}, page_content='Teases\\nthe\\nnext\\nchapter,\\nwhich\\naims\\nto\\nhelp\\nreaders\\nfind\\nthe\\nbest\\neating\\nplan\\nbased\\non\\ntheir\\nunique \\ncharacteristics.\\nThis\\nchapter\\nprovides\\na\\ncritical\\nperspective\\non\\nnutrition\\nscience\\nwhile\\nhighlighting\\nthe\\nneed\\nfor \\npersonalized\\napproaches\\nto\\ndietary\\nchoices.\\nIt\\nunderscores\\nthe\\nchallenges\\nin\\ninterpreting\\nresearch\\nand\\nthe \\nimportance\\nof\\nconsidering\\nindividual\\ndifferences\\nin\\ndietary\\nrecommendations.'),\n",
              " Document(metadata={'source': '/content/sample_data/outlive.pdf', 'page': 27}, page_content=\"Chapter\\n15\\n-\\nPutting\\nNutritional\\nBiochemistry\\ninto\\nPractice\\nHow\\nto\\nFind\\nthe\\nRight\\nEating\\nPattern\\nfor\\nYou\\nThe\\ntext\\ndiscusses\\nthe\\nimportance\\nof\\nunderstanding\\nand\\napplying\\nnutritional\\nbiochemistry\\nto\\nfind\\nthe\\nright \\neating\\npattern\\nfor\\nindividuals.\\nHere\\nare\\nthe\\nscience\\nand\\nactionable\\nstrategies:\\nScience:\\n●\\nDefault\\nFood\\nEnvironment:\\nThe\\nStandard\\nAmerican\\nDiet\\n(SAD)\\nis\\ncharacterized\\nby\\nprocessed, \\ncalorie-dense,\\nand\\nlow-quality\\nfoods,\\nleading\\nto\\novernourishment\\nand\\nmetabolic\\ndisturbances. \\n●\\nCaloric\\nImpact:\\nExcessive\\ncalorie\\nconsumption,\\nregardless\\nof\\nthe\\nsource,\\nleads\\nto\\nhealth\\nproblems \\nand\\nchronic\\ndiseases. \\n●\\nCaloric\\nRestriction\\n(CR):\\nReducing\\ntotal\\ncalorie\\nintake\\ncan\\nhelp\\nwith\\nweight\\nloss\\nand\\nimproving \\nmetabolic\\nhealth. \\n●\\nDietary\\nRestriction\\n(DR):\\nRestricting\\nor\\neliminating\\nspecific\\nfood\\ngroups\\nor\\ningredients\\ncan\\nreduce \\ncalorie\\nintake\\nand\\nimprove\\nhealth. \\n●\\nQuality\\nof\\nDiet:\\nThe\\nquality\\nof\\nthe\\ndiet,\\nincluding\\nthe\\ntypes\\nof\\nfoods\\nconsumed,\\ncan\\nsignificantly\\nimpact \\nhealth\\noutcomes. \\n●\\nIndividual\\nVariation:\\nEach\\nperson's\\nmetabolism\\nand\\nresponse\\nto\\ndietary\\nchanges\\ncan\\nvary,\\nmaking\\nit \\nessential\\nto\\nfind\\npersonalized\\napproaches\\nto\\nnutrition.\\nActionable\\nStrategies:\\nCaloric\\nRestriction\\n(CR):\\n●\\nReduce\\ntotal\\ncalorie\\nintake,\\nfocusing\\non\\nportion\\ncontrol\\nand\\ntracking\\nfood\\nconsumption. \\n●\\nBe\\ndiligent\\nin\\nmaintaining\\na\\ncalorie\\ndeficit\\nwithout\\ngiving\\nin\\nto\\nurges\\nto\\ncheat\\nor\\nsnack. \\n●\\nCR\\ncan\\nbe\\nhighly\\neffective\\nbut\\nmay\\nrequire\\nstrict\\nadherence.\\nDietary\\nRestriction\\n(DR):\\n●\\nIdentify\\nproblematic\\nfoods\\nor\\ningredients\\nin\\nyour\\ndiet\\n(e.g.,\\nsugar,\\nprocessed\\nfoods)\\nand\\nrestrict\\nor \\neliminate\\nthem. \\n●\\nCustomize\\nyour\\nlevel\\nof\\nrestriction\\nbased\\non\\nindividual\\nneeds\\nand\\ngoals. \\n●\\nConsider\\nthe\\nquality\\nof\\nyour\\ndiet,\\navoiding\\nprocessed\\nand\\nlow-nutrient\\nfoods.\\nTime\\nRestriction\\n(TR):\\n●\\nPractice\\ntime-restricted\\neating,\\nsuch\\nas\\nintermittent\\nfasting,\\nto\\nlimit\\neating\\nto\\nspecific\\ntime\\nperiods. \\n●\\nBe\\ncautious\\nof\\nprotein\\ndeficiency\\nwhen\\nfollowing\\nTR,\\nas\\nit\\nmay\\nimpact\\nmuscle\\nmaintenance.\\nQuality\\nof\\nDiet:\\n●\\nEmphasize\\nwhole,\\nunprocessed\\nfoods\\nover\\nhighly\\nprocessed\\nand\\nsugary\\noptions. \\n●\\nPay\\nattention\\nto\\nthe\\nmacronutrient\\ncomposition\\nof\\nyour\\ndiet,\\nincluding\\ncarbohydrates,\\nprotein,\\nand\\nfats.\\nIndividualized\\nApproach:\\n●\\nRecognize\\nthat\\nnot\\nall\\ndietary\\nstrategies\\nwork\\nthe\\nsame\\nfor\\neveryone. \\n●\\nExperiment\\nwith\\ndifferent\\ndietary\\npatterns\\nto\\nfind\\nwhat\\nsuits\\nyour\\nmetabolism\\nand\\nlifestyle. \\n●\\nFocus\\non\\nfinding\\nthe\\nbest\\nmix\\nof\\nmacronutrients\\n(alcohol,\\ncarbohydrates,\\nprotein,\\nand\\nfat)\\nfor\\nyour \\nspecific\\nneeds\\nand\\ngoals.\\nHealth\\nGoals:\\n●\\nPrioritize\\nhealth\\ngoals,\\nsuch\\nas\\navoiding\\nmetabolic\\ndysfunction,\\ndiabetes,\\nand\\novernutrition. \\n●\\nConsider\\nthe\\nimpact\\nof\\ndiet\\non\\nchronic\\ndiseases\\nlike\\ncancer\\nand\\nheart\\ndisease.\"),\n",
              " Document(metadata={'source': '/content/sample_data/outlive.pdf', 'page': 28}, page_content=\"Ultimately,\\nthe\\nkey\\ntakeaway\\nis\\nthat\\nthere\\nis\\nno\\none-size-fits-all\\napproach\\nto\\nnutrition.\\nUnderstanding\\nthe \\nscience\\nof\\nnutrition\\nand\\ntailoring\\ndietary\\nstrategies\\nto\\nindividual\\nneeds\\nand\\ngoals\\ncan\\nlead\\nto\\nimproved\\nhealth \\noutcomes.\\nUnderstanding\\nand\\nmanageing\\nthe\\nfour\\nmacronutrients\\nis\\nimportant:\\nalcohol,\\ncarbohydrates,\\nand\\nprotein.\\nHere \\nare\\nthe\\nkey\\npoints\\nand\\nactionable\\nstrategies:\\nAlcohol:\\n●\\nAlcohol\\nis\\na\\nmacronutrient\\nwith\\na\\nhigh\\ncaloric\\ndensity\\n(7\\nkcal/g). \\n●\\nIt\\nserves\\nno\\nnutritional\\nor\\nhealth\\npurpose\\nand\\ncan\\ndisrupt\\nmetabolism. \\n●\\nChronic\\nalcohol\\nconsumption\\nis\\nassociated\\nwith\\nvarious\\nhealth\\nrisks,\\nincluding\\ncancer\\nand\\nAlzheimer's \\ndisease. \\n●\\nTo\\nmanage\\nalcohol\\nintake,\\naim\\nto\\nlimit\\nit\\nto\\nfewer\\nthan\\nseven\\nservings\\nper\\nweek,\\nideally\\nno\\nmore\\nthan \\ntwo\\nservings\\non\\nany\\ngiven\\nday.\\nCarbohydrates:\\n●\\nCarbohydrates\\nare\\na\\nprimary\\nenergy\\nsource,\\nprimarily\\nbroken\\ndown\\ninto\\nglucose. \\n●\\nExcessive\\ncarbohydrate\\nintake\\ncan\\nlead\\nto\\nissues\\nlike\\nnon-alcoholic\\nfatty\\nliver\\ndisease\\n(NAFLD), \\ninsulin\\nresistance,\\nand\\ntype\\n2\\ndiabetes. \\n●\\nContinuous\\nGlucose\\nMonitoring\\n(CGM)\\ncan\\nprovide\\nreal-time\\ndata\\non\\nhow\\nyour\\nbody\\nresponds\\nto \\ncarbohydrates,\\nhelping\\nyou\\nunderstand\\nyour\\nindividual\\ncarbohydrate\\ntolerance. \\n●\\nAim\\nto\\nkeep\\naverage\\nblood\\nglucose\\nbelow\\n100\\nmg/dL\\nand\\nreduce\\nvariability.\\nHigh-fiber,\\nless\\nrefined \\ncarbohydrates\\nare\\ngenerally\\nbetter\\nchoices.\\nProtein:\\n●\\nProtein\\nis\\nessential\\nfor\\nbuilding\\nand\\nmaintaining\\nlean\\nmuscle\\nmass. \\n●\\nThe\\nrecommended\\ndietary\\nallowance\\n(RDA)\\nfor\\nprotein\\n(0.8\\ng/kg\\nof\\nbody\\nweight)\\nis\\noften\\ninsufficient \\nfor\\noptimal\\nhealth,\\nespecially\\nfor\\nolder\\nindividuals. \\n●\\nActive\\npeople\\nshould\\naim\\nfor\\naround\\n1\\ng\\nof\\nprotein\\nper\\npound\\nof\\nbody\\nweight\\nper\\nday\\nfor\\nmuscle \\nmaintenance\\nor\\ngain. \\n●\\nDistribute\\nprotein\\nintake\\nevenly\\nthroughout\\nthe\\nday\\nto\\nsupport\\nmuscle\\nprotein\\nsynthesis. \\n●\\nConsider\\nplant-based\\nprotein\\nsources\\nbut\\nbe\\naware\\nof\\ntheir\\nlower\\nbioavailability\\ncompared\\nto\\nanimal \\nsources. \\n●\\nFocus\\non\\nessential\\namino\\nacids\\nlike\\nleucine,\\nlysine,\\nand\\nmethionine\\nin\\nyour\\nprotein\\nintake\\nfor\\nmuscle \\nmaintenance.\\nAdditional\\nInsights:\\n●\\nNot\\nall\\ncarbohydrates\\nare\\ncreated\\nequal;\\nrefined\\ncarbs\\ncause\\nquicker\\nglucose\\nspikes\\nthan\\nless \\nprocessed\\nones. \\n●\\nTiming,\\nduration,\\nand\\nintensity\\nof\\nexercise\\nimpact\\nglucose\\nlevels. \\n●\\nGood\\nsleep\\nquality\\nand\\nstress\\nmanagement\\nare\\ncrucial\\nfor\\nstable\\nblood\\nglucose\\ncontrol. \\n●\\nNon-starchy\\nvegetables\\nhave\\nminimal\\nimpact\\non\\nblood\\nsugar. \\n●\\nFoods\\nhigh\\nin\\nprotein\\nand\\nfat\\nhave\\nlittle\\neffect\\non\\nblood\\nsugar. \\n●\\nCGM\\ncan\\ninfluence\\neating\\nbehavior\\npositively,\\npromoting\\nmindful\\neating. \\n●\\nIncreasing\\nprotein\\nintake\\ncan\\nhave\\nvarious\\nbenefits,\\nincluding\\nmuscle\\npreservation,\\nimproved \\nmetabolism,\\nand\\nappetite\\ncontrol.\\nOverall,\\nthe\\nemphasis\\nis\\non\\nthe\\nsignificance\\nof\\nmanageing\\nmacronutrients,\\nespecially\\nprotein,\\nfor\\nmaintaining \\noptimal\\nhealth,\\nmuscle\\nmass,\\nand\\nmetabolic\\ncontrol.\\nIt\\nhighlights\\nthe\\nvalue\\nof\\nCGM\\nfor\\nmonitoring\\nand \\nadapting\\ndietary\\nchoices\\nto\\nindividual\\nresponses.\\nNutrition\\nand\\nFasting:\"),\n",
              " Document(metadata={'source': '/content/sample_data/outlive.pdf', 'page': 29}, page_content=\"Here\\nare\\nthe\\nkey\\nscience-based\\npoints\\nand\\nactionable\\nstrategies:\\n1.\\nImportance\\nof\\nDietary\\nFats:\\n●\\nDietary\\nfats\\nare\\nessential\\nand\\nserve\\nmultiple\\nroles\\nin\\nthe\\nbody,\\nincluding\\nproviding\\nenergy,\\nbeing \\nbuilding\\nblocks\\nfor\\nhormones\\nand\\ncell\\nmembranes,\\nand\\nsupporting\\nbrain\\nhealth. \\n●\\nFats\\ncan\\nhelp\\nin\\nachieving\\nmetabolic\\nbalance\\nand\\npromote\\nsatiety\\nwhen\\ncombined\\nwith\\nprotein. \\n●\\nThere\\nare\\nthree\\nmain\\ntypes\\nof\\nfats:\\nsaturated\\nfatty\\nacids\\n(SFA),\\nmonounsaturated\\nfatty\\nacids\\n(MUFA), \\nand\\npolyunsaturated\\nfatty\\nacids\\n(PUFA),\\nwith\\nfurther\\ndistinctions\\nbetween\\nomega-3\\nand\\nomega-6 \\nPUFA.\\n2.\\nBalancing\\nFats:\\n●\\nIt's\\nnot\\nfeasible\\nto\\neliminate\\nany\\ncategory\\nof\\nfatty\\nacids\\nentirely\\nfrom\\nthe\\ndiet;\\ninstead,\\nfocus\\non \\nadjusting\\nthe\\nratios\\nof\\nthese\\nfats. \\n●\\nAim\\nto\\nincrease\\nMUFA\\nconsumption\\nto\\nabout\\n50-55%,\\nreduce\\nSFA\\nto\\n15-20%,\\nand\\nadjust\\nPUFA \\naccordingly. \\n●\\nIncrease\\nintake\\nof\\nmarine\\nomega-3\\nPUFAs\\n(EPA\\nand\\nDHA)\\nthrough\\nsources\\nlike\\nsalmon\\nand \\nanchovies.\\n3.\\nImpact\\nof\\nFood\\nProcessing:\\n●\\nAdvances\\nin\\nfood-processing\\ntechnology\\nhave\\nled\\nto\\nan\\ninflux\\nof\\nvegetable\\nand\\nseed\\noils\\nhigh\\nin \\npolyunsaturated\\nfats\\n(e.g.,\\nsoybean\\nand\\ncorn\\noils)\\ninto\\nthe\\nfood\\nsupply. \\n●\\nTrans\\nfats,\\nderived\\nfrom\\npartially\\nhydrogenated\\nvegetable\\noils,\\ncontributed\\nto\\natherosclerosis\\nand\\nhave \\nbeen\\nbanned\\nby\\nthe\\nFDA.\\n4.\\nConflicting\\nResearch\\non\\nDietary\\nFats:\\n●\\nResearch\\non\\nthe\\nhealth\\neffects\\nof\\ndifferent\\ntypes\\nof\\nfats\\nand\\ntheir\\nimpact\\non\\ncardiovascular\\ndisease \\nrisk\\nis\\ninconclusive\\nand\\nvaries\\nby\\nstudy. \\n●\\nWhile\\nsome\\nstudies\\nsuggest\\na\\nslight\\nadvantage\\nfor\\nincreasing\\nPUFA\\nand\\nreducing\\nsaturated\\nfats,\\nthe \\noverall\\ndata\\nis\\nunclear.\\n5.\\nIndividualized\\nNutrition:\\n●\\nNutrition\\nshould\\nbe\\nindividualized\\nbased\\non\\nfactors\\nlike\\nlipid\\nresponse\\nand\\nmeasured\\ninflammation. \\n●\\nFocus\\non\\nMUFA-rich\\nfoods\\nlike\\nolive\\noil,\\nlimit\\nsaturated\\nfats,\\nand\\nconsider\\nsupplementation\\nwith\\nEPA \\nand\\nDHA\\nbased\\non\\nindividual\\nneeds.\\n6.\\nFasting\\nand\\nTime-Restricted\\nEating\\n(TR):\\n●\\nFasting\\nand\\nTR\\ncan\\nbe\\npowerful\\ntools\\nfor\\nspecific\\ngoals\\nbut\\nshould\\nbe\\nused\\ncarefully. \\n●\\nShort-term\\nTR\\nmay\\nhelp\\nreduce\\noverall\\ncaloric\\nintake\\nby\\nsetting\\ntime\\nlimits\\non\\neating. \\n●\\nAlternate-day\\nfasting\\n(ADF)\\ncan\\nlead\\nto\\nweight\\nloss\\nbut\\nmay\\nalso\\nresult\\nin\\nmuscle\\nloss\\nand\\nreduced \\nactivity\\nlevels. \\n●\\nProlonged\\nfasting\\nshould\\nbe\\nreserved\\nfor\\nhard-to-fix\\ncases\\nand\\ncarefully\\nmonitored\\nfor\\npotential \\nmuscle\\nloss.\\n7.\\nThe\\nRole\\nof\\nHypocaloric\\nFasting:\\n●\\nHypocaloric\\nfasting\\n(e.g.,\\neating\\nvery\\nlow\\ncalories\\nfor\\na\\nshort\\nperiod)\\ncan\\nhelp\\nreset\\na\\ncrashed \\nmetabolism\\nin\\nspecific\\ncases. \\n●\\nIt\\ncan\\neffectively\\nimprove\\nblood\\nbiomarkers\\nand\\npromote\\nweight\\nloss\\nwhen\\nother\\ninterventions\\nhave \\nfailed.\\n8.\\nSustainability\\nand\\nIndividual\\nGoals:\\n●\\nThe\\nbest\\nnutrition\\nplan\\nis\\none\\nthat\\nis\\nsustainable\\nand\\naligns\\nwith\\nindividual\\nhealth\\ngoals\\nand\\nrisk \\nfactors.\"),\n",
              " Document(metadata={'source': '/content/sample_data/outlive.pdf', 'page': 30}, page_content=\"●\\nFocus\\non\\nachieving\\nmetabolic\\nhealth,\\nmaintaining\\nmuscle\\nmass,\\nand\\noptimizing\\nblood\\nglucose\\nand \\nlipid\\nlevels. \\n●\\nIndividualize\\nyour\\nnutrition\\nplan\\nbased\\non\\nyour\\nspecific\\nneeds\\nand\\npreferences.\\n9.\\nDon't\\nOverthink\\nNutrition:\\n●\\nNutrition\\nshould\\nnot\\nbe\\noverly\\ncomplicated;\\nit's\\nimportant\\nto\\navoid\\nexcessive\\nanalysis\\nand\\ninstead\\nfind \\na\\ndietary\\napproach\\nthat\\nworks\\nfor\\nyou. \\n●\\nRegular\\nexercise,\\nbalanced\\nnutrition,\\nand\\na\\nsustainable\\neating\\nplan\\ncan\\ncontribute\\nto\\nbetter\\nhealth \\noutcomes.\\nIn\\nsummary,\\nthe\\ntext\\nemphasizes\\nthe\\nimportance\\nof\\nbalanced\\nfats,\\nthe\\nindividualized\\nnature\\nof\\nnutrition,\\nand \\nthe\\ncautious\\nuse\\nof\\nfasting\\nas\\na\\ntool,\\nwhile\\nalso\\nhighlighting\\nthe\\ncomplexity\\nand\\nongoing\\ndebates\\nin\\nnutrition \\nscience.\\nIt\\nencourages\\nreaders\\nto\\nfind\\na\\nsustainable\\ndietary\\napproach\\nthat\\naligns\\nwith\\ntheir\\nhealth\\ngoals.\"),\n",
              " Document(metadata={'source': '/content/sample_data/outlive.pdf', 'page': 31}, page_content=\"Chapter\\n16\\n-\\nThe\\nAwakening:\\nHow\\nto\\nLearn\\nto\\nLove\\nSleep,\\nthe\\nBest\\nMedicine\\nfor\\nYour\\nBrain\\nThe\\nimportance\\nof\\nsleep\\nfor\\noverall\\nhealth\\nis\\ndiscussed,\\nfocusing\\non\\nits\\nimpact\\non\\nmetabolic\\nhealth, \\ncardiovascular\\nhealth,\\nand\\nbrain\\nfunction.\\nIt\\nemphasizes\\nthe\\nrole\\nof\\nboth\\ndeep\\nNREM\\n(non-REM)\\nsleep\\nand \\nREM\\n(rapid\\neye\\nmovement)\\nsleep\\nin\\nvarious\\naspects\\nof\\ncognitive\\nfunction\\nand\\nphysical\\nwell-being.\\nScience\\nand\\nActionable\\nStrategies:\\n●\\nMetabolic\\nHealth:\\nSleep\\ndeprivation\\nleads\\nto\\ninsulin\\nresistance,\\ncausing\\nelevated\\ninsulin\\nlevels\\nand \\nglucose\\ndysregulation.\\nTo\\nimprove\\nmetabolic\\nhealth,\\naim\\nfor\\n7.5\\nto\\n8.5\\nhours\\nof\\nsleep\\nper\\nnight.\\n●\\nCardiovascular\\nHealth:\\nChronic\\nsleep\\ndeprivation\\nincreases\\nthe\\nrisk\\nof\\ncardiovascular\\ndisease. \\nAdequate\\nsleep\\nhelps\\nmaintain\\nnormal\\nblood\\npressure\\nand\\nheart\\nrate.\\nPrioritize\\nsleep\\nto\\nmitigate \\ncardiovascular\\nrisks.\\n●\\nBrain\\nHealth:\\nDeep\\nNREM\\nsleep\\nand\\nREM\\nsleep\\nare\\ncrucial\\nfor\\nmemory\\nconsolidation\\nand\\nemotional \\nprocessing.\\nThey\\nhelp\\nclear\\nbrain\\nwaste\\nand\\nprotect\\nagainst\\nneurodegenerative\\ndiseases.\\nPrioritize \\nboth\\ndeep\\nand\\nREM\\nsleep\\nfor\\ncognitive\\nwell-being.\\n●\\nEmotional\\nEquilibrium:\\nREM\\nsleep\\naids\\nin\\nemotional\\nhealing,\\nallowing\\nindividuals\\nto\\nseparate \\nemotions\\nfrom\\nmemories.\\nLack\\nof\\nREM\\nsleep\\ncan\\ncontribute\\nto\\nconditions\\nlike\\nPTSD.\\nFocus\\non \\nemotional\\nawareness\\nand\\nconsider\\nprioritizing\\nREM\\nsleep.\\n●\\nSocial\\nInteraction:\\nREM\\nsleep\\nenhances\\nthe\\nability\\nto\\nread\\nand\\nunderstand\\nothers'\\nemotions. \\nInsufficient\\nREM\\nsleep\\ncan\\nlead\\nto\\nmisinterpretations\\nof\\nfacial\\nexpressions.\\nPrioritize\\nREM\\nsleep\\nto \\nmaintain\\nsocial\\nawareness.\\n●\\nAmyloid\\nand\\nTau\\nProteins:\\nDeep\\nsleep\\nplays\\na\\nrole\\nin\\nclearing\\namyloid-beta\\nand\\ntau\\nproteins \\nassociated\\nwith\\nneurodegenerative\\ndiseases.\\nMaintain\\na\\nconsistent\\nsleep\\nschedule\\nand\\naim\\nfor \\nquality\\ndeep\\nsleep\\nto\\nreduce\\nthe\\nrisk\\nof\\nsuch\\nconditions.\\n●\\nAlzheimer's\\nDisease:\\nAlzheimer's\\npatients\\noften\\nexperience\\nsleep\\ndisturbances,\\nwhich\\nmay \\nexacerbate\\nthe\\ndisease.\\nTreating\\nsleep\\ndisturbances\\ncan\\npotentially\\ndelay\\ncognitive\\ndecline\\nin \\nAlzheimer's\\npatients.\\nSeek\\nmedical\\nhelp\\nfor\\nsleep-related\\nissues\\nin\\ndementia\\ncases.\\n●\\nCognitive\\nImpairment:\\nSleep\\ndisturbances\\ncan\\nprecede\\ncognitive\\ndecline\\nby\\nseveral\\nyears.\\nPrioritize \\nsleep\\nquality\\nto\\nreduce\\nthe\\nrisk\\nof\\ncognitive\\nimpairment\\nand\\nmaintain\\ncognitive\\nfunction\\nas\\nyou\\nage.\\n●\\nSleep\\nDuration:\\nAim\\nfor\\n7.5\\nto\\n8.5\\nhours\\nof\\nsleep\\nper\\nnight,\\nas\\nthis\\nrange\\nis\\nassociated\\nwith\\nbetter \\noverall\\nhealth\\nand\\ncognitive\\nfunction.\\nThe\\ncritical\\nrole\\nof\\nsleep\\nin\\nvarious\\naspects\\nof\\nhealth\\nand\\nwell-being\\nis\\nclear.\\nPrioritizing\\nsleep\\nand\\naddressing \\nsleep-related\\nissues\\ncan\\nhave\\nprofound\\neffects\\non\\nmetabolic\\nhealth,\\ncardiovascular\\nhealth,\\nand\\nbrain\\nfunction, \\nultimately\\ncontributing\\nto\\na\\nhigher\\nquality\\nof\\nlife\\nand\\nlong-term\\nhealth.\\nThe\\nscience\\nand\\nactionable\\nstrategies\\naround\\ncognitive\\nhealth\\nand\\nimproved\\nsleep\\nquality\\nare\\ndiscussed:\\nScience:\\n●\\nSleep\\nand\\nCognitive\\nHealth:\\nThe\\ntext\\nhighlights\\nthe\\nstrong\\nconnection\\nbetween\\nsleep\\nand\\ncognitive \\nhealth.\\nGood-quality\\nsleep\\nis\\ncrucial\\nfor\\nlong-term\\nbrain\\nhealth,\\nand\\nirregular,\\nfragmented,\\nor \\ninsufficient\\nsleep\\ncan\\nnegatively\\nimpact\\ncognitive\\nfunction.\\n●\\nAge-Related\\nSleep\\nChanges:\\nThe\\nability\\nto\\nobtain\\ndeep\\nsleep\\ntends\\nto\\ndecline\\nwith\\nage,\\nstarting\\nin \\nthe\\nlate\\ntwenties\\nor\\nearly\\nthirties.\\nThis\\ndecline\\nmay\\nbe\\nrelated\\nto\\nchanges\\nin\\ngrowth\\nhormone \\nsecretion.\\n●\\nAlzheimer's\\nDisease\\nPrevention:\\nDeep\\nsleep\\nin\\nmiddle\\nage\\nis\\nespecially\\nimportant\\nfor\\npreventing \\nAlzheimer's\\ndisease.\\nPeople\\nwho\\nsleep\\npoorly\\nduring\\nthis\\nperiod\\nare\\nat\\na\\nhigher\\nrisk\\nof\\ndeveloping \\ndementia\\nlater\\nin\\nlife.\"),\n",
              " Document(metadata={'source': '/content/sample_data/outlive.pdf', 'page': 32}, page_content=\"●\\nNegative\\nEffects\\nof\\nAlcohol\\nand\\nCaffeine:\\nThe\\ntext\\nemphasizes\\nthat\\nalcohol\\nand\\ncaffeine\\ncan \\nsignificantly\\naffect\\nsleep\\nquality.\\nAlcohol\\nmay\\ninitially\\ninduce\\ndrowsiness\\nbut\\ncan\\ndisrupt\\nlater\\nstages\\nof \\nsleep,\\nwhile\\ncaffeine\\nacts\\nas\\na\\nsleep\\nblocker.\\nActionable\\nStrategies:\\n●\\nEnvironment\\nfor\\nSleep:\\nCreate\\na\\nsleep-conducive\\nenvironment\\nby\\nkeeping\\nthe\\nroom\\ncool\\n(around \\n65°F),\\nmaking\\nit\\nas\\ndark\\nas\\npossible,\\nand\\nremoving\\nall\\nsources\\nof\\nlight,\\nincluding\\nelectronic\\ndevices \\nwith\\nbright\\nLEDs.\\n●\\nBedtime\\nRoutine:\\nEstablish\\na\\nconsistent\\nbedtime\\nroutine\\nthat\\ninvolves\\nwinding\\ndown\\nand\\navoiding \\nstimulating\\nactivities\\nlike\\nchecking\\nemails\\nor\\nsocial\\nmedia\\nat\\nleast\\nan\\nhour\\nbefore\\nbed.\\n●\\nAvoid\\nAlcohol\\nand\\nHeavy\\nMeals:\\nAvoid\\nalcohol,\\nespecially\\nclose\\nto\\nbedtime,\\nand\\nrefrain\\nfrom\\neating \\nlarge\\nmeals\\nless\\nthan\\nthree\\nhours\\nbefore\\nsleep.\\n●\\nLimit\\nCaffeine:\\nLimit\\ncaffeine\\nintake,\\nespecially\\nin\\nthe\\nafternoon\\nand\\nevening,\\nas\\ncaffeine\\ncan\\ninterfere \\nwith\\nsleep.\\n●\\nExercise:\\nEngage\\nin\\nregular\\nexercise,\\npreferably\\nin\\nthe\\ndaytime\\nor\\nearly\\nevening,\\nas\\nit\\ncan\\nimprove \\nsleep\\nquality.\\nOutdoor\\nexercise\\nis\\neven\\nbetter\\nas\\nit\\nhelps\\nregulate\\nthe\\ncircadian\\ncycle.\\n●\\nMental\\nPreparation:\\nMentally\\nprepare\\nfor\\nsleep\\nby\\nreducing\\nstress\\nand\\nanxiety.\\nAvoid\\nwork-related \\nactivities\\nor\\nstressful\\nthoughts\\nbefore\\nbedtime.\\nMeditation\\nand\\nrelaxation\\ntechniques\\ncan\\nhelp.\\n●\\nSleep\\nOpportunity:\\nEnsure\\nthat\\nyou\\nhave\\nenough\\ntime\\nfor\\nsleep\\nby\\ngoing\\nto\\nbed\\nat\\nleast\\neight\\nhours \\nbefore\\nyou\\nneed\\nto\\nwake\\nup,\\npreferably\\nnine\\nhours\\nif\\npossible.\\n●\\nWake-Up\\nTime:\\nMaintain\\na\\nconsistent\\nwake-up\\ntime,\\neven\\non\\nweekends,\\nto\\nregulate\\nyour\\nbody's \\ninternal\\nclock.\\n●\\nStop\\nFighting\\nInsomnia:\\nIf\\nyou\\ncan't\\nfall\\nasleep,\\ndon't\\nforce\\nit.\\nGet\\nup,\\ndo\\nsomething\\nrelaxing\\nin\\nanother \\nroom,\\nand\\nreturn\\nto\\nbed\\nwhen\\nyou\\nfeel\\nsleepy.\\n●\\nCognitive\\nBehavioral\\nTherapy\\nfor\\nInsomnia\\n(CBT-I):\\nIf\\nsleep\\nproblems\\npersist,\\nconsider\\nCBT-I,\\na \\npsychotherapy\\ntechnique\\nthat\\nhelps\\nbreak\\nbad\\nsleep\\nhabits\\nand\\naddress\\nanxieties\\nrelated\\nto\\nsleep.\\nIt \\ncan\\nbe\\nmore\\neffective\\nthan\\nsleeping\\nmedications.\\nIn\\nsummary,\\nprioritizing\\nsleep\\nand\\nadopting\\nhealthy\\nsleep\\nhabits\\ncan\\nsignificantly\\nimprove\\ncognitive\\nhealth \\nand\\noverall\\nwell-being.\\nThe\\nprovided\\nstrategies\\naim\\nto\\ncreate\\nan\\noptimal\\nsleep\\nenvironment\\nand\\npromote \\nrestorative\\nsleep\\npatterns.\"),\n",
              " Document(metadata={'source': '/content/sample_data/outlive.pdf', 'page': 33}, page_content=\"Chapter\\n17\\n-\\nWork\\nin\\nProgress:\\nThe\\nHigh\\nPrice\\nof\\nIgnoring\\nEmotional\\nHealth\\nOutlive\\ndiscusses\\na\\npersonal\\njourney\\ntowards\\nunderstanding\\nand\\nimproving\\nhis\\nemotional\\nhealth.\\nIt \\nemphasizes\\nthe\\nimportance\\nof\\nemotional\\nwell-being\\nin\\noverall\\nhealth\\nand\\nlongevity.\\nHere\\nare\\nsome \\nscience-backed\\nand\\nactionable\\nstrategies\\nhighlighted\\nin\\nthe\\ntext:\\n●\\nUnderstanding\\nChildhood\\nTrauma:\\nThe\\ntext\\nemphasizes\\nthe\\nsignificance\\nof\\nunderstanding\\nchildhood \\ntrauma\\nand\\nits\\npotential\\nlong-term\\neffects\\non\\nemotional\\nhealth.\\nRecognizing\\nand\\nacknowledging\\npast \\ntraumas\\nis\\na\\ncrucial\\nfirst\\nstep\\nin\\naddressing\\nemotional\\nissues.\\n●\\nDifferentiating\\nTrauma\\nfrom\\nAdversity:\\nThe\\ntext\\nmakes\\na\\ndistinction\\nbetween\\ntrauma\\nand\\nadversity, \\nemphasizing\\nthat\\nnot\\nall\\ndifficult\\nexperiences\\nare\\ntraumatic.\\nIt's\\nessential\\nto\\nassess\\nthe\\nimpact\\nof \\nadverse\\nexperiences\\nand\\ndetermine\\nwhether\\nthey\\ncontribute\\nto\\nemotional\\nissues.\\n●\\nThe\\nTrauma\\nTree\\nModel:\\nThe\\nTrauma\\nTree\\nmodel\\nis\\nmentioned\\nas\\na\\nframework\\nused\\nby\\ntherapists\\nto \\nunderstand\\nhow\\nchildhood\\ntrauma\\ncan\\nlead\\nto\\nmaladaptive\\nbehaviors\\nin\\nadulthood.\\nIdentifying\\nthe \\nroots\\nof\\nemotional\\nissues\\nis\\nkey\\nto\\naddressing\\nthem\\neffectively.\\n●\\nIndividualized\\nApproach:\\nThe\\ntext\\nhighlights\\nthe\\nuniqueness\\nof\\neach\\nperson's\\nemotional\\nmakeup\\nand \\nhistory.\\nIt\\nsuggests\\nthat\\nmental\\nand\\nemotional\\nhealth\\nshould\\nbe\\napproached\\non\\nan\\nindividual\\nbasis, \\nconsidering\\none's\\npersonal\\nstory\\nand\\nexperiences.\\n●\\nMental\\nvs.\\nEmotional\\nHealth:\\nDistinguishing\\nbetween\\nmental\\nhealth\\n(which\\nincludes\\ndiagnosable \\ndisorders)\\nand\\nemotional\\nhealth\\n(which\\nencompasses\\nhow\\none\\nregulates\\nemotions\\nand\\nmanages \\nrelationships)\\nis\\ncrucial.\\nBoth\\naspects\\nrequire\\nattention\\nand\\ncare.\\n●\\nPreventive\\nApproach:\\nSimilar\\nto\\npreventing\\nphysical\\nhealth\\nissues,\\nemotional\\nhealth\\nalso\\nrequires\\na \\npreventive\\napproach.\\nRecognizing\\npotential\\nemotional\\nproblems\\nearly\\nand\\naddressing\\nthem \\nproactively\\ncan\\nbe\\nessential.\\n●\\nLong-Term\\nCommitment:\\nImproving\\nemotional\\nhealth\\nis\\na\\nlong-term\\ncommitment\\nthat\\nmay\\nrequire \\nongoing\\neffort\\nand\\ntherapy.\\nIt's\\nnot\\na\\none-size-fits-all\\nsolution\\nand\\nmay\\ntake\\ntime\\nto\\nsee\\nmeaningful \\nchanges.\\n●\\nAvoiding\\nMinimization:\\nThe\\ntext\\nemphasizes\\nthe\\nimportance\\nof\\nnot\\nminimizing\\none's\\nown\\nexperiences \\nor\\nthe\\nexperiences\\nof\\nothers.\\nIt's\\ncrucial\\nto\\nacknowledge\\nand\\nvalidate\\nemotions\\nand\\ntraumas\\nrather \\nthan\\ndismissing\\nthem.\\n●\\nMedication\\nvs.\\nTherapy:\\nWhile\\nmedications\\nmay\\nhelp\\nsome\\nindividuals\\nwith\\nmental\\nhealth\\nissues,\\nthe \\ntext\\nsuggests\\nthat\\na\\ncomplete\\nsolution\\nmay\\nnot\\nbe\\nsimple.\\nTherapy\\nand\\ncounseling\\ncan\\nplay\\na \\nsignificant\\nrole\\nin\\nimproving\\nemotional\\nhealth.\\n●\\nParadigm\\nShift:\\nThe\\ntext\\nadvocates\\nfor\\na\\nparadigm\\nshift\\nin\\nhow\\nwe\\napproach\\nemotional\\nhealth,\\nsimilar \\nto\\nthe\\nshift\\nfrom\\nMedicine\\n2.0\\nto\\nMedicine\\n3.0.\\nThis\\nshift\\ninvolves\\na\\nfocus\\non\\nlong-term\\nprevention\\nand \\npersonalized\\napproaches\\nto\\nemotional\\nwell-being.\\nThe\\nimportance\\nof\\nrecognizing\\nand\\naddressing\\nchildhood\\ntrauma\\nis\\nhighlighted,\\nunderstanding\\nthe\\ndistinction \\nbetween\\ntrauma\\nand\\nadversity,\\nand\\ntaking\\nan\\nindividualized,\\npreventive,\\nand\\nlong-term\\napproach\\nto\\nemotional \\nhealth.\\nIt\\nalso\\nunderscores\\nthe\\nneed\\nfor\\na\\nshift\\nin\\nhow\\nwe\\napproach\\nemotional\\nwell-being\\nwithin\\nthe\\nhealthcare \\nsystem.\\nKey\\npoints\\nand\\nactionable\\nstrategies\\nrelated\\nto\\nemotional\\nhealth\\nand\\npersonal\\ngrowth:\\n●\\nThe\\nImportance\\nof\\nEmotional\\nHealth:\\nThe\\ntext\\nemphasizes\\nthe\\nsignificance\\nof\\naddressing\\nemotional \\nhealth\\nearly\\non\\nto\\nprevent\\nclinical\\nmental\\nhealth\\nissues\\nlike\\ndepression\\nand\\nanxiety.\\nIt\\nhighlights\\nthat \\nemotional\\nhealth\\nis\\nas\\nessential\\nas\\nphysical\\nhealth.\\n●\\nContinuous\\nEffort\\nand\\nDaily\\nPractice:\\nJust\\nas\\nmaintaining\\nphysical\\nhealth\\nrequires\\nexercise\\nroutines, \\nnutritional\\nprograms,\\nand\\nsleep\\nrituals,\\nemotional\\nhealth\\nalso\\ndemands\\nconstant\\neffort\\nand\\ndaily \\npractice.\\nThis\\nimplies\\nthat\\nimproving\\nemotional\\nwell-being\\nis\\nan\\nongoing\\nprocess.\"),\n",
              " Document(metadata={'source': '/content/sample_data/outlive.pdf', 'page': 34}, page_content='●\\nProactive\\nApproach:\\nTo\\nthrive\\nthroughout\\nlife,\\nit\\'s\\nessential\\nto\\nbe\\nproactive\\nin\\nmanageing\\nemotional \\nhealth.\\nRecognizing\\nthe\\nneed\\nfor\\nchange\\nand\\ntaking\\naction\\nearly\\non\\ncan\\nlead\\nto\\nbetter\\noverall \\nwell-being.\\n●\\nRecognition\\nof\\nEmotional\\nHealth\\nIssues:\\nOne\\nchallenge\\nwith\\nemotional\\nhealth\\nis\\nthat\\nindividuals\\nmay \\nnot\\nreadily\\nrecognize\\nthe\\nsigns\\nand\\nsymptoms\\nof\\ntheir\\ncondition,\\nmaking\\nit\\nharder\\nto\\naddress.\\nRaising \\nawareness\\nabout\\nemotional\\nhealth\\nis\\ncrucial.\\n●\\nSeeking\\nProfessional\\nHelp:\\nThe\\ntext\\nhighlights\\nthe\\nvalue\\nof\\nseeking\\nhelp\\nfrom\\ntherapists\\nand\\nmental \\nhealth\\nprofessionals.\\nIt\\nmentions\\nthe\\nimportance\\nof\\nfinding\\nthe\\nright\\ntherapist\\nwho\\ncan\\nhelp\\nindividuals \\naddress\\nemotional\\nissues.\\n●\\nUnderstanding\\nMale\\nDepression:\\nIt\\ndiscusses\\nthe\\nconcept\\nof\\nmale\\ndepression,\\nwhich\\noften\\ninvolves \\nconcealing\\nemotions\\nand\\nchanneling\\nthem\\ninto\\nother\\nfeelings\\nlike\\nanger.\\nRecognizing\\nand\\naddressing \\nthese\\npatterns\\nis\\ncrucial\\nfor\\nemotional\\nwell-being.\\n●\\nTrauma\\nand\\nGenerational\\nImpact:\\nThe\\ntext\\nemphasizes\\nhow\\ntrauma\\ncan\\nbe\\ngenerational\\nand\\nhow\\nit \\naffects\\nnot\\nonly\\nindividuals\\nbut\\nalso\\ntheir\\ndescendants.\\nBreaking\\nthe\\ncycle\\nof\\ntrauma\\ncan\\nlead\\nto \\nhealing.\\n●\\nReframing:\\nReframing\\nis\\ndiscussed\\nas\\na\\nvaluable\\ntool\\nfor\\nimproving\\nrelationships.\\nIt\\ninvolves\\nlooking \\nat\\nsituations\\nfrom\\nanother\\nperson\\'s\\nperspective,\\nfostering\\nempathy,\\nand\\nchanging\\none\\'s\\nreactions \\naccordingly.\\n●\\nEulogy\\nVirtues\\nvs.\\nRésumé\\nVirtues:\\nThe\\ndistinction\\nbetween\\neulogy\\nvirtues\\n(the\\nqualities\\npeople \\nremember\\nand\\nappreciate\\nabout\\nyou)\\nand\\nrésumé\\nvirtues\\n(achievements\\nand\\nqualifications)\\nis \\nintroduced.\\nThe\\ntext\\nemphasizes\\nthe\\nimportance\\nof\\nfocusing\\non\\neulogy\\nvirtues\\nfor\\nlasting\\nfulfillment.\\n●\\nAcceptance\\nand\\nSelf-Love:\\nThe\\ntext\\nhighlights\\nthe\\nimportance\\nof\\naccepting\\none\\'s\\nflaws\\nand\\nworking \\non\\nself-love\\nand\\nself-compassion.\\nIt\\nemphasizes\\nthat\\nchange\\nand\\ngrowth\\nare\\npossible\\nwith \\nself-acceptance.\\n●\\nTools\\nand\\nSensors\\nfor\\nEmotional\\nWell-Being:\\nIt\\nunderscores\\nthat\\ndeveloping\\na\\nset\\nof\\neffective\\ntools \\nand\\nemotional\\nawareness\\nsensors\\nis\\ncrucial\\nfor\\nmaintaining\\nemotional\\nequilibrium.\\nThese\\ntools\\nneed \\nto\\nbe\\nlearned,\\nrefined,\\nand\\npracticed\\nregularly.\\n●\\nAvoiding\\nQuick\\nFixes:\\nThe\\ntext\\ncautions\\nagainst\\nrelying\\nsolely\\non\\nquick\\nfixes\\nlike\\nmedications, \\nsubstances,\\nor\\nsingular\\nexperiences\\nfor\\nemotional\\nhealing.\\nIt\\nadvocates\\nfor\\ndeep,\\nongoing \\npsychotherapy\\nand\\nself-exploration.\\n●\\nEarly\\nWarning\\nSigns:\\nSimilar\\nto\\nMedicine\\n3.0,\\nthe\\ntext\\nsuggests\\nspotting\\nearly\\nwarning\\nsigns\\nand \\nsystem\\nfailures\\nin\\none\\'s\\nemotional\\nhealth\\nand\\ntaking\\npreventive\\naction\\nto\\navoid\\nemotional\\n\"blow-ups.\"\\nOverall,\\nthe\\nidea\\nis\\npromoted\\nthat\\nimproving\\nemotional\\nhealth\\nis\\na\\ncontinuous\\njourney\\nthat\\nrequires \\nself-awareness,\\nself-compassion,\\nand\\nongoing\\neffort,\\nalong\\nwith\\nprofessional\\nguidance\\nwhen\\nneeded.\\nExperiences\\nwith\\ndialectical\\nbehavior\\ntherapy\\n(DBT)\\nare\\ndiscussed,\\nand\\nthese\\nprovide\\ninsights\\ninto\\nactionable \\nstrategies\\nfor\\nimproving\\nemotional\\nwell-being\\nand\\nmental\\nhealth.\\nHere\\nare\\nthe\\nkey\\nscience-based\\nand \\nactionable\\nstrategies\\nhighlighted\\nin\\nthe\\ntext:\\n1.\\nDialectical\\nBehavior\\nTherapy\\n(DBT):\\nDBT\\nis\\na\\ntherapeutic\\napproach\\nbased\\non\\ncognitive\\nbehavioral \\nprinciples\\nthat\\nhelps\\nindividuals,\\nespecially\\nthose\\nwith\\nsevere\\nemotional\\nissues,\\nlearn\\nnew\\nways\\nof\\nthinking \\nand\\nbehaving\\nto\\nmanage\\ntheir\\nemotions\\nand\\ndistress\\neffectively.\\n2.\\nMindfulness:\\nMindfulness\\nis\\nan\\noverarching\\ntheme\\nin\\nDBT\\nand\\ninvolves\\nbeing\\npresent\\nin\\nthe\\nmoment, \\ncreating\\ndistance\\nbetween\\nthoughts\\nand\\nemotions,\\nand\\nreducing\\nreactivity\\nto\\nexternal\\nstimuli.\\nIt\\nhelps \\nindividuals\\nprocess\\nsituations\\ncalmly\\nand\\nrationally.'),\n",
              " Document(metadata={'source': '/content/sample_data/outlive.pdf', 'page': 35}, page_content=\"3.\\nSelf-Reflection\\nand\\nSelf-Talk:\\nEmphasis\\non\\nthe\\nimportance\\nof\\nself-awareness\\nby\\nrecording\\nand\\nanalyzing \\ntheir\\nself-talk.\\nThey\\nlearned\\nto\\nreframe\\ntheir\\ninner\\ndialogue,\\ntreating\\nthemselves\\nwith\\nkindness\\nand\\ncompassion \\ninstead\\nof\\nharsh\\nself-judgment.\\n4.\\nBehavioral\\nChange\\nand\\nMood\\nRegulation:\\nThe\\ntext\\nunderscores\\nthat\\nchanging\\nbehavior\\ncan\\npositively \\nimpact\\nmood.\\nBy\\nengageing\\nin\\nopposite\\nactions\\nwhen\\nfeeling\\ncompelled\\nto\\ndo\\nsomething\\nunhelpful\\nor \\nnegative,\\nindividuals\\ncan\\nalter\\ntheir\\nemotional\\nstate.\\n5.\\nPhysical\\nWell-being:\\nEngageing\\nin\\nactivities\\nthat\\npromote\\nphysical\\nwell-being,\\nsuch\\nas\\nexercise,\\nspending \\ntime\\nin\\nnature,\\nand\\ndeep\\nbreathing,\\ncan\\nhave\\na\\nsignificant\\nimpact\\non\\nemotional\\nhealth.\\n6.\\nRegular\\nTherapy\\nand\\nJournaling:\\nRegular\\ntherapy\\nsessions,\\ncombined\\nwith\\njournaling,\\noffer\\nindividuals\\na \\nsafe\\nspace\\nto\\ndiscuss\\nand\\ndissect\\ntheir\\nemotions\\nand\\nexperiences.\\nWriting\\nin\\na\\njournal\\nallows\\nfor\\nthe \\narticulation\\nand\\nunderstanding\\nof\\nemotions.\\n7.\\nBelief\\nin\\nChange:\\nA\\nfundamental\\nbelief\\nin\\none's\\nability\\nto\\nchange\\nand\\ndeserve\\nbetter\\nis\\ncrucial.\\nThe\\ntext \\nhighlights\\nthat\\nreal\\nchange\\nbegins\\nwith\\nthe\\nbelief\\nthat\\nit\\nis\\npossible\\nto\\nimprove\\none's\\nemotional\\nand\\nmental \\nhealth.\\n8.\\nSeeking\\nHelp\\nand\\nRemoving\\nStigma:\\nThe\\ntext\\nacknowledges\\nthe\\nsocietal\\nstigma\\nsurrounding\\nmental\\nand \\nemotional\\nhealth\\nissues.\\nIt\\nencourages\\nindividuals\\nto\\nseek\\nhelp,\\ntalk\\nopenly\\nabout\\ntheir\\nstruggles,\\nand \\nchallenge\\nthe\\nstigma\\nassociated\\nwith\\nemotional\\nhealth\\ndisorders.\\n9.\\nJoy\\nin\\nBeing:\\nAs\\npart\\nof\\nthe\\nrecovery\\nprocess,\\nthe\\nauthor\\nmentions\\nexperiencing\\nmore\\njoy\\nin\\nsimply\\nbeing \\nthemselves\\nrather\\nthan\\nconstantly\\ndoing.\\nThis\\nshift\\nin\\nfocus\\nfrom\\ndoing\\nto\\nbeing\\nhighlights\\nthe\\nimportance\\nof \\nself-acceptance\\nand\\nself-compassion.\\nIn\\nsummary,\\na\\nholistic\\napproach\\nto\\nemotional\\nwell-being\\nis\\npromoted,\\nan\\napproach\\nthat\\nincludes\\nmindfulness, \\nself-reflection,\\nbehavioral\\nchange,\\nphysical\\nhealth,\\nregular\\ntherapy,\\nand\\na\\nbelief\\nin\\none's\\nability\\nto\\nchange.\\nIt \\nalso\\ncalls\\nfor\\nreducing\\nthe\\nstigma\\nsurrounding\\nmental\\nhealth\\nissues\\nand\\nfinding\\njoy\\nin\\nbeing\\none's\\nauthentic \\nself.\\nThese\\nstrategies\\nare\\nbased\\non\\nthe\\nprinciples\\nof\\ndialectical\\nbehavior\\ntherapy\\nand\\ncan\\nhelp\\nindividuals \\nimprove\\ntheir\\nemotional\\nhealth\\nand\\noverall\\nquality\\nof\\nlife.\"),\n",
              " Document(metadata={'source': '/content/sample_data/outlive.pdf', 'page': 36}, page_content='EPILOGUE\\nA\\npersonal\\ntransformation\\nin\\nperspectives\\non\\nlongevity\\nand\\nemotional\\nhealth.\\nInitially,\\na\\nbelief\\nin\\nthe\\nSilicon \\nValley\\nmindset\\nof\\n\"hacking\"\\nbiology\\nto\\nlive\\nlonger\\nwas\\npresent,\\nbut\\nafter\\na\\nchallenging\\njourney\\ninvolving \\naddiction,\\ntreatment,\\nand\\nrelationship\\nstrains,\\nit\\nwas\\nrealized\\nthat\\nlongevity\\nis\\nmeaningless\\nif\\nlife\\nis\\nunhappy.\\nThe\\nmost\\ncrucial\\nelement\\nin\\nthe\\nlongevity\\nequation\\nis\\n\"why\"\\none\\nwants\\nto\\nlive\\nlonger.\\nA\\npersonal\\nobsession \\nwith\\nlongevity\\nwas\\ndriven\\nby\\na\\nfear\\nof\\ndeath\\nand\\navoidance\\nof\\ntruly\\nliving.\\nAs\\nthe\\nrecovery\\nprogressed, \\npurpose\\nand\\nclarity\\nin\\nthe\\nquest\\nfor\\nlongevity\\nwas\\nfound.\\nA\\nfriend\\'s\\nexperience\\nin\\na\\nnear-death\\nsituation\\ntaught \\nthat\\ntrue\\nlongevity\\ncomes\\nfrom\\nlooking\\nforward\\nto\\nthe\\nfuture\\nrather\\nthan\\ndwelling\\non\\nthe\\npast.\\nActionable\\nStrategies:\\n●\\nPrioritize\\nEmotional\\nHealth:\\nUnderstand\\nthat\\nemotional\\nwell-being\\nand\\nthe\\nquality\\nof\\nrelationships\\nare \\nessential\\nfor\\na\\nmeaningful\\nlife.\\nAddress\\nissues\\nlike\\nanger,\\naddiction,\\nand\\nrelationship\\nconflicts.\\n●\\nReflect\\non\\nYour\\nMotivation\\nfor\\nLongevity:\\nConsider\\nwhy\\nyou\\nwant\\nto\\nlive\\nlonger.\\nFocus\\non\\nreasons\\nthat \\nbring\\npurpose\\nand\\nfulfillment\\nto\\nyour\\nlife,\\nrather\\nthan\\nmerely\\navoiding\\ndeath.\\n●\\nLive\\nin\\nthe\\nPresent:\\nDon\\'t\\nbe\\nconsumed\\nby\\nregrets\\nor\\npast\\nmistakes.\\nInstead,\\nconcentrate\\non\\nyour \\ndreams,\\naspirations,\\nand\\nwhat\\nyou\\nlook\\nforward\\nto\\nin\\nthe\\nfuture.\\n●\\nBuild\\nand\\nMaintain\\nHealthy\\nRelationships:\\nRecognize\\nthat\\nthe\\nquality\\nof\\nyour\\nrelationships \\nsignificantly\\nimpacts\\nyour\\noverall\\nwell-being\\nand\\nlongevity.\\n●\\nMindful\\nLiving:\\nEmbrace\\neach\\nday\\nwith\\nclarity\\nand\\npurpose,\\nfinding\\njoy\\nin\\ndaily\\nactivities\\nrather\\nthan \\nviewing\\nthem\\nas\\na\\ndesperate\\ntask.\\n●\\nContinued\\nGrowth:\\nStay\\nyoung\\nat\\nheart\\nby\\nmaintaining\\ncuriosity,\\npursuing\\ndreams,\\nand\\nstaying \\nenthusiastic\\nabout\\nthe\\nfuture,\\nregardless\\nof\\nyour\\nage.\\nIn\\nessence,\\nthe\\nepilogue\\nencourages\\na\\nshift\\nin\\nperspective\\nfrom\\nan\\nobsession\\nwith\\nlongevity\\ndriven\\nby\\nfear\\nto \\na\\nfocus\\non\\nliving\\na\\nfulfilling\\nand\\npurposeful\\nlife,\\nregardless\\nof\\nthe\\nnumber\\nof\\nyears\\nlived.')]"
            ]
          },
          "metadata": {},
          "execution_count": 23
        }
      ],
      "source": [
        "docs"
      ]
    },
    {
      "cell_type": "markdown",
      "metadata": {
        "id": "Z_A2nX3-Ptgl"
      },
      "source": [
        "## Text Splitting - Chunking"
      ]
    },
    {
      "cell_type": "code",
      "execution_count": null,
      "metadata": {
        "id": "Bouw0M5ANVqL"
      },
      "outputs": [],
      "source": [
        "text_splitter = RecursiveCharacterTextSplitter(chunk_size=300, chunk_overlap=50)\n",
        "chunks = text_splitter.split_documents(docs)"
      ]
    },
    {
      "cell_type": "code",
      "execution_count": null,
      "metadata": {
        "colab": {
          "base_uri": "https://localhost:8080/"
        },
        "id": "TfDphk1rrM0A",
        "outputId": "d3b50e53-ceb6-40d6-c07c-2f997d29aa39"
      },
      "outputs": [
        {
          "output_type": "execute_result",
          "data": {
            "text/plain": [
              "393"
            ]
          },
          "metadata": {},
          "execution_count": 25
        }
      ],
      "source": [
        "len(chunks)"
      ]
    },
    {
      "cell_type": "code",
      "execution_count": null,
      "metadata": {
        "colab": {
          "base_uri": "https://localhost:8080/"
        },
        "id": "Fsc6K_Z3NnhT",
        "outputId": "18b85b80-4030-4b27-b609-f65017aa0de2"
      },
      "outputs": [
        {
          "output_type": "execute_result",
          "data": {
            "text/plain": [
              "Document(metadata={'source': '/content/sample_data/outlive.pdf', 'page': 0}, page_content=\"Chapter\\n1-\\nThe\\nLong\\nGame:\\nFrom\\nFast\\nDeath\\nto\\nSlow\\nDeath\\nScience\\nand\\nActionable\\nStrategies\\nin\\nthe\\nText:\\n●\\nLongevity\\nvs.\\nImmortality:\\nThe\\ntext\\nemphasizes\\nthat\\nlongevity\\ndoesn't\\nmean\\nimmortality.\\nEveryone\\nwill \\neventually\\ndie,\\nbut\\nthe\\ngoal\\nis\\nto\\nextend\\nthe\\nhealthy\\nyears\\nof\\nlife.\\n●\\nThe\\nImportance\\nof\")"
            ]
          },
          "metadata": {},
          "execution_count": 26
        }
      ],
      "source": [
        "chunks[0]"
      ]
    },
    {
      "cell_type": "code",
      "execution_count": null,
      "metadata": {
        "colab": {
          "base_uri": "https://localhost:8080/"
        },
        "id": "jenEDd6hN7Cn",
        "outputId": "1884b193-177a-40e4-f5be-79b2fd69d35f"
      },
      "outputs": [
        {
          "output_type": "execute_result",
          "data": {
            "text/plain": [
              "Document(metadata={'source': '/content/sample_data/outlive.pdf', 'page': 0}, page_content='the\\nhealthy\\nyears\\nof\\nlife.\\n●\\nThe\\nImportance\\nof\\nEarly\\nIntervention:\\nThe\\nkey\\ntakeaway\\nis\\nthat\\nmodern\\nmedicine\\noften\\nintervenes\\ntoo \\nlate\\nin\\nthe\\nprogression\\nof\\nchronic\\ndiseases.\\nThe\\nauthor\\nsuggests\\nthat\\nthe\\nbest\\napproach\\nis\\nto\\nact\\nearly \\nto\\nprevent\\nthese\\ndiseases\\nrather\\nthan\\nwaiting\\nuntil\\nthey\\nare')"
            ]
          },
          "metadata": {},
          "execution_count": 27
        }
      ],
      "source": [
        "chunks[1]"
      ]
    },
    {
      "cell_type": "code",
      "execution_count": null,
      "metadata": {
        "colab": {
          "base_uri": "https://localhost:8080/"
        },
        "id": "xLh3j6guOTLY",
        "outputId": "72f03c18-9cbe-4838-8baf-6669070988dd"
      },
      "outputs": [
        {
          "output_type": "execute_result",
          "data": {
            "text/plain": [
              "Document(metadata={'source': '/content/sample_data/outlive.pdf', 'page': 0}, page_content='these\\ndiseases\\nrather\\nthan\\nwaiting\\nuntil\\nthey\\nare\\nentrenched. \\n●\\n●\\nUnderstanding\\nRoot\\nCauses:\\nThe\\ntext\\nmentions\\nthat\\nmainstream\\nmedicine\\nsometimes \\nmisunderstands\\nthe\\nroot\\ncauses\\nof\\ndiseases\\nlike\\nheart\\ndisease,\\ncancer,\\nand\\ntype\\n2\\ndiabetes.\\nIt \\nsuggests\\nthat\\naddressing\\nthese\\nroot\\ncauses\\nearly\\nis')"
            ]
          },
          "metadata": {},
          "execution_count": 28
        }
      ],
      "source": [
        "chunks[2]"
      ]
    },
    {
      "cell_type": "code",
      "execution_count": null,
      "metadata": {
        "colab": {
          "base_uri": "https://localhost:8080/"
        },
        "id": "B-lh4cUSO5EH",
        "outputId": "c1c5662c-01ba-4f3f-d843-c07795f6860e"
      },
      "outputs": [
        {
          "output_type": "execute_result",
          "data": {
            "text/plain": [
              "Document(metadata={'source': '/content/sample_data/outlive.pdf', 'page': 0}, page_content='that\\naddressing\\nthese\\nroot\\ncauses\\nearly\\nis\\ncrucial\\nfor\\nprevention.\\n●\\nNutrition\\nand\\nMetabolism:\\nThe\\nauthor\\ndelves\\ninto\\nthe\\nimportance\\nof\\nunderstanding\\nnutrition\\nand \\nmetabolism.\\nNutrition\\nplays\\na\\nsignificant\\nrole\\nin\\npreventing\\nchronic\\ndiseases,\\nand\\ndifferent\\nindividuals \\nmay\\nrequire\\ndifferent')"
            ]
          },
          "metadata": {},
          "execution_count": 29
        }
      ],
      "source": [
        "chunks[3]"
      ]
    },
    {
      "cell_type": "code",
      "execution_count": null,
      "metadata": {
        "colab": {
          "base_uri": "https://localhost:8080/"
        },
        "id": "_eZw3iXPPlGs",
        "outputId": "c2c1051b-a6fa-4d6a-9ffe-c8d2f0abfa9e"
      },
      "outputs": [
        {
          "output_type": "execute_result",
          "data": {
            "text/plain": [
              "Document(metadata={'source': '/content/sample_data/outlive.pdf', 'page': 0}, page_content='and\\ndifferent\\nindividuals \\nmay\\nrequire\\ndifferent\\ndietary\\npatterns. \\n●\\n●\\nThe\\nRole\\nof\\nProtein:\\nThe\\ntext\\nhighlights\\nthe\\nsignificance\\nof\\nprotein,\\nparticularly\\nas\\npeople\\nage.\\nProtein \\nintake\\nand\\nquality\\nare\\nessential\\nfor\\nmaintaining\\nhealth.\\n●\\nExercise\\nas\\na\\nLongevity\\nTool:\\nExercise\\nis\\npresented\\nas\\nthe')"
            ]
          },
          "metadata": {},
          "execution_count": 30
        }
      ],
      "source": [
        "chunks[4]"
      ]
    },
    {
      "cell_type": "markdown",
      "metadata": {
        "id": "wxL78Mn0P3N2"
      },
      "source": [
        "## Embeddings"
      ]
    },
    {
      "cell_type": "code",
      "execution_count": null,
      "metadata": {
        "id": "QcUdFP8cPz1L"
      },
      "outputs": [],
      "source": [
        "embeddings = HuggingFaceEmbeddings(model_name=\"BAAI/bge-base-en-v1.5\")"
      ]
    },
    {
      "cell_type": "markdown",
      "metadata": {
        "id": "cJMgeAOrQfuk"
      },
      "source": [
        "## Vector Store - FAISS or ChromaDB"
      ]
    },
    {
      "cell_type": "code",
      "execution_count": null,
      "metadata": {
        "id": "_rMc5YphQiFA"
      },
      "outputs": [],
      "source": [
        "vectorstore = Chroma.from_documents(chunks, embeddings)"
      ]
    },
    {
      "cell_type": "code",
      "execution_count": null,
      "metadata": {
        "colab": {
          "base_uri": "https://localhost:8080/"
        },
        "id": "FmJth21AQx8V",
        "outputId": "d1a97184-0d82-4791-a112-520c5007ff1a"
      },
      "outputs": [
        {
          "output_type": "execute_result",
          "data": {
            "text/plain": [
              "<langchain_community.vectorstores.chroma.Chroma at 0x7e57127cb8b0>"
            ]
          },
          "metadata": {},
          "execution_count": 33
        }
      ],
      "source": [
        "vectorstore"
      ]
    },
    {
      "cell_type": "code",
      "execution_count": null,
      "metadata": {
        "id": "MxUNoeFeR7-u"
      },
      "outputs": [],
      "source": [
        "query = \"who is at risk of heart disease\"\n",
        "search = vectorstore.similarity_search(query)"
      ]
    },
    {
      "cell_type": "code",
      "execution_count": null,
      "metadata": {
        "colab": {
          "base_uri": "https://localhost:8080/",
          "height": 114
        },
        "id": "45HgM9wsSCKH",
        "outputId": "b9ac11ab-fe76-443c-b40b-63e54d271d0b"
      },
      "outputs": [
        {
          "output_type": "execute_result",
          "data": {
            "text/plain": [
              "<IPython.core.display.Markdown object>"
            ],
            "text/markdown": "> Chapter\n> 7\n> -\n> The\n> Ticker:\n> Confronting\n> and\n> Preventing\n> Heart\n> Disease,\n> the\n> Deadliest\n> Killer\n> on\n> the\n> Planet\n> Here\n> the\n> risks\n> and\n> progression\n> of\n> atherosclerotic\n> cardiovascular\n> disease\n> (ASCVD)\n> are\n> discussed,\n> particularly \n> focusing\n> on\n> heart\n> disease.\n> The\n> importance\n> of\n> understanding\n> the\n> complexities\n> of"
          },
          "metadata": {},
          "execution_count": 35
        }
      ],
      "source": [
        "to_markdown(search[0].page_content)"
      ]
    },
    {
      "cell_type": "markdown",
      "metadata": {
        "id": "4mVaIlkZRiXk"
      },
      "source": [
        "## Retriever"
      ]
    },
    {
      "cell_type": "code",
      "execution_count": null,
      "metadata": {
        "id": "rK67OkSQRbnk"
      },
      "outputs": [],
      "source": [
        "retriever = vectorstore.as_retriever(\n",
        "    search_kwargs={'k': 5}\n",
        ")"
      ]
    },
    {
      "cell_type": "code",
      "execution_count": null,
      "metadata": {
        "colab": {
          "base_uri": "https://localhost:8080/"
        },
        "id": "HC4Xly8XSf26",
        "outputId": "6178c3eb-b351-43f3-92a2-fea376f5f0c2"
      },
      "outputs": [
        {
          "output_type": "stream",
          "name": "stderr",
          "text": [
            "<ipython-input-37-162c3489abc9>:1: LangChainDeprecationWarning: The method `BaseRetriever.get_relevant_documents` was deprecated in langchain-core 0.1.46 and will be removed in 1.0. Use invoke instead.\n",
            "  retriever.get_relevant_documents(query)\n"
          ]
        },
        {
          "output_type": "execute_result",
          "data": {
            "text/plain": [
              "[Document(metadata={'page': 10, 'source': '/content/sample_data/outlive.pdf'}, page_content='Chapter\\n7\\n-\\nThe\\nTicker:\\nConfronting\\nand\\nPreventing\\nHeart\\nDisease,\\nthe\\nDeadliest\\nKiller\\non\\nthe\\nPlanet\\nHere\\nthe\\nrisks\\nand\\nprogression\\nof\\natherosclerotic\\ncardiovascular\\ndisease\\n(ASCVD)\\nare\\ndiscussed,\\nparticularly \\nfocusing\\non\\nheart\\ndisease.\\nThe\\nimportance\\nof\\nunderstanding\\nthe\\ncomplexities\\nof'),\n",
              " Document(metadata={'page': 11, 'source': '/content/sample_data/outlive.pdf'}, page_content='disease\\n(ASCVD). \\n●\\nLp(a)\\nis\\nhighlighted\\nas\\na\\nsignificant\\nrisk\\nfactor,\\nespecially\\nfor\\nindividuals\\nwith\\na\\nfamily\\nhistory\\nof \\npremature\\nheart\\ndisease.\\nDiet\\nand\\nLifestyle\\nModifications:\\n●\\nLifestyle\\nchanges,\\nincluding\\ndiet\\nmodifications,\\ncan\\nhelp\\nreduce\\ncardiovascular\\nrisk. \\n●\\nSpecific\\ndietary'),\n",
              " Document(metadata={'page': 10, 'source': '/content/sample_data/outlive.pdf'}, page_content='Key\\npoints\\nand\\nactionable\\nstrategies:\\n●\\nFamily\\nHistory\\nand\\nPersonal\\nRisk:\\nThe\\nauthor\\nemphasizes\\nthe\\nsignificance\\nof\\nfamily\\nhistory\\nas\\na\\nrisk \\nfactor\\nfor\\nheart\\ndisease.\\nEven\\nindividuals\\nwith\\nseemingly\\nhealthy\\nlifestyles\\nand\\ncholesterol\\nprofiles\\ncan \\nbe\\nat\\nrisk\\ndue\\nto\\ngenetic\\npredispositions.\\n●'),\n",
              " Document(metadata={'page': 9, 'source': '/content/sample_data/outlive.pdf'}, page_content='risk\\nof\\nmetabolic\\ndiseases\\nlike\\ntype\\n2\\ndiabetes,\\nfatty\\nliver\\ndisease,\\nand\\nobesity.'),\n",
              " Document(metadata={'page': 10, 'source': '/content/sample_data/outlive.pdf'}, page_content='importance\\nof\\nunderstanding\\nthe\\ncomplexities\\nof\\natherosclerosis,\\nthe\\nrole\\nof \\nlipoproteins\\nlike\\nLDL\\nand\\nHDL,\\nthe\\nsignificance\\nof\\nfamily\\nhistory,\\nand\\nthe\\nneed\\nfor\\nearly\\ndetection\\nand \\nprevention\\nstrategies\\nto\\ncombat\\nheart\\ndisease\\neffectively\\nare\\nemphasized.\\nKey\\npoints\\nand\\nactionable\\nstrategies:\\n●')]"
            ]
          },
          "metadata": {},
          "execution_count": 37
        }
      ],
      "source": [
        "retriever.get_relevant_documents(query)"
      ]
    },
    {
      "cell_type": "markdown",
      "metadata": {
        "id": "al9E1TqMS7Mq"
      },
      "source": [
        "## Large Language Model - Open Source"
      ]
    },
    {
      "cell_type": "code",
      "execution_count": null,
      "metadata": {
        "id": "jPsv9xnHNzR3"
      },
      "outputs": [],
      "source": [
        "#connect to google drive\n",
        "from google.colab import drive"
      ]
    },
    {
      "cell_type": "code",
      "execution_count": null,
      "metadata": {
        "colab": {
          "base_uri": "https://localhost:8080/"
        },
        "id": "CIiVtQ17N1Pq",
        "outputId": "7985b39c-a147-4d1e-d0de-d073baca2565"
      },
      "outputs": [
        {
          "output_type": "stream",
          "name": "stdout",
          "text": [
            "Mounted at /content/drive\n"
          ]
        }
      ],
      "source": [
        "drive.mount('/content/drive')"
      ]
    },
    {
      "cell_type": "code",
      "execution_count": 43,
      "metadata": {
        "colab": {
          "base_uri": "https://localhost:8080/",
          "height": 426
        },
        "id": "MKDFEMDSS9ri",
        "outputId": "66301dca-2dec-40d7-a698-b12b287e0109"
      },
      "outputs": [
        {
          "output_type": "error",
          "ename": "ValidationError",
          "evalue": "1 validation error for LlamaCpp\n__root__\n  Could not load Llama model from path: /content/drive/MyDrive/Model&Data/BioMistral-7B.Q4_K_M.gguf. Received error Model path does not exist: /content/drive/MyDrive/Model&Data/BioMistral-7B.Q4_K_M.gguf (type=value_error)",
          "traceback": [
            "\u001b[0;31m---------------------------------------------------------------------------\u001b[0m",
            "\u001b[0;31mValidationError\u001b[0m                           Traceback (most recent call last)",
            "\u001b[0;32m<ipython-input-43-48dd4011f93c>\u001b[0m in \u001b[0;36m<cell line: 1>\u001b[0;34m()\u001b[0m\n\u001b[0;32m----> 1\u001b[0;31m llm = LlamaCpp(\n\u001b[0m\u001b[1;32m      2\u001b[0m     \u001b[0mmodel_path\u001b[0m\u001b[0;34m=\u001b[0m \u001b[0;34m\"/content/drive/MyDrive/Model&Data/BioMistral-7B.Q4_K_M.gguf\"\u001b[0m\u001b[0;34m,\u001b[0m\u001b[0;34m\u001b[0m\u001b[0;34m\u001b[0m\u001b[0m\n\u001b[1;32m      3\u001b[0m     \u001b[0mtemperature\u001b[0m\u001b[0;34m=\u001b[0m\u001b[0;36m0.3\u001b[0m\u001b[0;34m,\u001b[0m\u001b[0;34m\u001b[0m\u001b[0;34m\u001b[0m\u001b[0m\n\u001b[1;32m      4\u001b[0m     \u001b[0mmax_tokens\u001b[0m\u001b[0;34m=\u001b[0m\u001b[0;36m2048\u001b[0m\u001b[0;34m,\u001b[0m\u001b[0;34m\u001b[0m\u001b[0;34m\u001b[0m\u001b[0m\n\u001b[1;32m      5\u001b[0m     top_p=1)\n",
            "\u001b[0;32m/usr/local/lib/python3.10/dist-packages/langchain_core/load/serializable.py\u001b[0m in \u001b[0;36m__init__\u001b[0;34m(self, *args, **kwargs)\u001b[0m\n\u001b[1;32m    111\u001b[0m     \u001b[0;32mdef\u001b[0m \u001b[0m__init__\u001b[0m\u001b[0;34m(\u001b[0m\u001b[0mself\u001b[0m\u001b[0;34m,\u001b[0m \u001b[0;34m*\u001b[0m\u001b[0margs\u001b[0m\u001b[0;34m:\u001b[0m \u001b[0mAny\u001b[0m\u001b[0;34m,\u001b[0m \u001b[0;34m**\u001b[0m\u001b[0mkwargs\u001b[0m\u001b[0;34m:\u001b[0m \u001b[0mAny\u001b[0m\u001b[0;34m)\u001b[0m \u001b[0;34m->\u001b[0m \u001b[0;32mNone\u001b[0m\u001b[0;34m:\u001b[0m\u001b[0;34m\u001b[0m\u001b[0;34m\u001b[0m\u001b[0m\n\u001b[1;32m    112\u001b[0m         \u001b[0;34m\"\"\"\"\"\"\u001b[0m\u001b[0;34m\u001b[0m\u001b[0;34m\u001b[0m\u001b[0m\n\u001b[0;32m--> 113\u001b[0;31m         \u001b[0msuper\u001b[0m\u001b[0;34m(\u001b[0m\u001b[0;34m)\u001b[0m\u001b[0;34m.\u001b[0m\u001b[0m__init__\u001b[0m\u001b[0;34m(\u001b[0m\u001b[0;34m*\u001b[0m\u001b[0margs\u001b[0m\u001b[0;34m,\u001b[0m \u001b[0;34m**\u001b[0m\u001b[0mkwargs\u001b[0m\u001b[0;34m)\u001b[0m\u001b[0;34m\u001b[0m\u001b[0;34m\u001b[0m\u001b[0m\n\u001b[0m\u001b[1;32m    114\u001b[0m \u001b[0;34m\u001b[0m\u001b[0m\n\u001b[1;32m    115\u001b[0m     \u001b[0;34m@\u001b[0m\u001b[0mclassmethod\u001b[0m\u001b[0;34m\u001b[0m\u001b[0;34m\u001b[0m\u001b[0m\n",
            "\u001b[0;32m/usr/local/lib/python3.10/dist-packages/pydantic/v1/main.py\u001b[0m in \u001b[0;36m__init__\u001b[0;34m(__pydantic_self__, **data)\u001b[0m\n\u001b[1;32m    339\u001b[0m         \u001b[0mvalues\u001b[0m\u001b[0;34m,\u001b[0m \u001b[0mfields_set\u001b[0m\u001b[0;34m,\u001b[0m \u001b[0mvalidation_error\u001b[0m \u001b[0;34m=\u001b[0m \u001b[0mvalidate_model\u001b[0m\u001b[0;34m(\u001b[0m\u001b[0m__pydantic_self__\u001b[0m\u001b[0;34m.\u001b[0m\u001b[0m__class__\u001b[0m\u001b[0;34m,\u001b[0m \u001b[0mdata\u001b[0m\u001b[0;34m)\u001b[0m\u001b[0;34m\u001b[0m\u001b[0;34m\u001b[0m\u001b[0m\n\u001b[1;32m    340\u001b[0m         \u001b[0;32mif\u001b[0m \u001b[0mvalidation_error\u001b[0m\u001b[0;34m:\u001b[0m\u001b[0;34m\u001b[0m\u001b[0;34m\u001b[0m\u001b[0m\n\u001b[0;32m--> 341\u001b[0;31m             \u001b[0;32mraise\u001b[0m \u001b[0mvalidation_error\u001b[0m\u001b[0;34m\u001b[0m\u001b[0;34m\u001b[0m\u001b[0m\n\u001b[0m\u001b[1;32m    342\u001b[0m         \u001b[0;32mtry\u001b[0m\u001b[0;34m:\u001b[0m\u001b[0;34m\u001b[0m\u001b[0;34m\u001b[0m\u001b[0m\n\u001b[1;32m    343\u001b[0m             \u001b[0mobject_setattr\u001b[0m\u001b[0;34m(\u001b[0m\u001b[0m__pydantic_self__\u001b[0m\u001b[0;34m,\u001b[0m \u001b[0;34m'__dict__'\u001b[0m\u001b[0;34m,\u001b[0m \u001b[0mvalues\u001b[0m\u001b[0;34m)\u001b[0m\u001b[0;34m\u001b[0m\u001b[0;34m\u001b[0m\u001b[0m\n",
            "\u001b[0;31mValidationError\u001b[0m: 1 validation error for LlamaCpp\n__root__\n  Could not load Llama model from path: /content/drive/MyDrive/Model&Data/BioMistral-7B.Q4_K_M.gguf. Received error Model path does not exist: /content/drive/MyDrive/Model&Data/BioMistral-7B.Q4_K_M.gguf (type=value_error)"
          ]
        }
      ],
      "source": [
        "llm = LlamaCpp(\n",
        "    model_path= \"/content/drive/MyDrive/Model&Data/BioMistral-7B.Q4_K_M.gguf\",\n",
        "    temperature=0.3,\n",
        "    max_tokens=2048,\n",
        "    top_p=1)"
      ]
    },
    {
      "cell_type": "markdown",
      "metadata": {
        "id": "_dy-nCxqTQTG"
      },
      "source": []
    },
    {
      "cell_type": "markdown",
      "metadata": {
        "id": "5Y2ukOe5TS6u"
      },
      "source": []
    },
    {
      "cell_type": "markdown",
      "metadata": {
        "id": "eOm3anhXTwg-"
      },
      "source": [
        "## RAG Chain"
      ]
    },
    {
      "cell_type": "code",
      "execution_count": null,
      "metadata": {
        "id": "M4dKOO7QUTa0"
      },
      "outputs": [],
      "source": [
        "from langchain.schema.runnable import RunnablePassthrough\n",
        "from langchain.schema.output_parser import StrOutputParser\n",
        "from langchain.prompts import ChatPromptTemplate"
      ]
    },
    {
      "cell_type": "code",
      "execution_count": null,
      "metadata": {
        "id": "aBDfjug4U61T"
      },
      "outputs": [],
      "source": [
        "template = \"\"\"\n",
        "<|context|>\n",
        "You are an AI assistant that follows instruction extremely well.\n",
        "Please be truthful and give direct answers\n",
        "</s>\n",
        "<|user|>\n",
        "{query}\n",
        "</s>\n",
        " <|assistant|>\n",
        "\"\"\""
      ]
    },
    {
      "cell_type": "code",
      "execution_count": null,
      "metadata": {
        "id": "oGSLkCc7U8YI"
      },
      "outputs": [],
      "source": [
        "prompt = ChatPromptTemplate.from_template(template)"
      ]
    },
    {
      "cell_type": "code",
      "execution_count": null,
      "metadata": {
        "id": "hLfDSrrzU1kE"
      },
      "outputs": [],
      "source": [
        "rag_chain = (\n",
        "    {\"context\": retriever,  \"query\": RunnablePassthrough()}\n",
        "    | prompt\n",
        "    | llm\n",
        "    | StrOutputParser()\n",
        ")"
      ]
    },
    {
      "cell_type": "code",
      "execution_count": null,
      "metadata": {
        "colab": {
          "base_uri": "https://localhost:8080/"
        },
        "id": "35B_JEcKVERB",
        "outputId": "fcc638a6-d721-4aab-d850-bbd2f34bdf85"
      },
      "outputs": [
        {
          "name": "stderr",
          "output_type": "stream",
          "text": [
            "Llama.generate: prefix-match hit\n",
            "\n",
            "llama_print_timings:        load time =    4075.93 ms\n",
            "llama_print_timings:      sample time =      79.20 ms /   103 runs   (    0.77 ms per token,  1300.52 tokens per second)\n",
            "llama_print_timings: prompt eval time =    9099.07 ms /    16 tokens (  568.69 ms per token,     1.76 tokens per second)\n",
            "llama_print_timings:        eval time =   87709.65 ms /   102 runs   (  859.90 ms per token,     1.16 tokens per second)\n",
            "llama_print_timings:       total time =   97416.49 ms /   118 tokens\n"
          ]
        }
      ],
      "source": [
        "response = rag_chain.invoke(\"what disease affect the heart?\")"
      ]
    },
    {
      "cell_type": "code",
      "execution_count": null,
      "metadata": {
        "colab": {
          "base_uri": "https://localhost:8080/",
          "height": 97
        },
        "id": "uyor1d0xVHnW",
        "outputId": "6f8f6457-f8c7-4ea7-c0cb-d0664a3980b3"
      },
      "outputs": [
        {
          "data": {
            "text/markdown": "> The heart is affected by many diseases, some of which include coronary artery disease, cardiomyopathy, endocarditis, myocarditis, arrhythmia, congestive heart failure, atherosclerosis, hypertrophic cardiomyopathy, valvular heart disease, arrhythmogenic right ventricular cardiomyopathy, dilated cardiomyopathy, hypertension, and heart valve stenosis.",
            "text/plain": [
              "<IPython.core.display.Markdown object>"
            ]
          },
          "execution_count": 101,
          "metadata": {},
          "output_type": "execute_result"
        }
      ],
      "source": [
        "to_markdown(response)"
      ]
    },
    {
      "cell_type": "code",
      "execution_count": null,
      "metadata": {
        "colab": {
          "background_save": true,
          "base_uri": "https://localhost:8080/"
        },
        "id": "szG5MJhzORkC",
        "outputId": "1cb65261-0c9a-4e6d-fcd9-4f2aba31da07"
      },
      "outputs": [
        {
          "name": "stderr",
          "output_type": "stream",
          "text": [
            "Llama.generate: prefix-match hit\n",
            "\n",
            "llama_print_timings:        load time =    4075.93 ms\n",
            "llama_print_timings:      sample time =     251.28 ms /   368 runs   (    0.68 ms per token,  1464.47 tokens per second)\n",
            "llama_print_timings: prompt eval time =    7480.05 ms /    14 tokens (  534.29 ms per token,     1.87 tokens per second)\n",
            "llama_print_timings:        eval time =  300823.51 ms /   367 runs   (  819.68 ms per token,     1.22 tokens per second)\n",
            "llama_print_timings:       total time =  310512.93 ms /   381 tokens\n"
          ]
        },
        {
          "name": "stdout",
          "output_type": "stream",
          "text": [
            "Answer:   Heart diseases refer to a group of conditions that involve the heart and blood vessels, including coronary artery disease, heart failure, arrhythmias, and congenital heart defects. Coronary artery disease is the most common type of heart disease and involves the buildup of plaque in the arteries that supply blood to the heart, which can lead to reduced blood flow and oxygen supply to the heart muscle. This can cause chest pain, shortness of breath, and other symptoms, and can increase the risk of heart attack and stroke. Heart failure is another common type of heart disease, which occurs when the heart muscle becomes weakened or damaged, causing it to pump blood less efficiently than it should. This can lead to symptoms such as fatigue, shortness of breath, swelling in the legs, and weight gain, and can increase the risk of premature death. Arrhythmias are another type of heart disease, which occur when there are abnormalities in the rate or rhythm of the heartbeat. This can cause the heart to beat too fast, too slow, or irregularly, which can lead to symptoms such as dizziness, lightheadedness, and shortness of breath, and can increase the risk of stroke, heart failure, and sudden cardiac death. Congenital heart defects are another type of heart disease, which occur when there are abnormalities in the structure of the heart present at birth. These can include defects in the valves, chambers, or great arteries, as well as abnormalities in the connections between the heart and blood vessels. Congenital heart defects can cause symptoms such as shortness of breath, fatigue, and swelling in the legs, and can increase the risk of premature death.\n"
          ]
        }
      ],
      "source": [
        "import sys\n",
        "\n",
        "while True:\n",
        "  user_input = input(f\"Input Prompt: \")\n",
        "  if user_input == 'exit':\n",
        "    print('Exiting')\n",
        "    sys.exit()\n",
        "  if user_input == '':\n",
        "    continue\n",
        "  result = rag_chain.invoke(user_input)\n",
        "  print(\"Answer: \",result)"
      ]
    }
  ],
  "metadata": {
    "accelerator": "GPU",
    "colab": {
      "gpuType": "T4",
      "provenance": [],
      "include_colab_link": true
    },
    "kernelspec": {
      "display_name": "Python 3",
      "name": "python3"
    },
    "language_info": {
      "name": "python"
    }
  },
  "nbformat": 4,
  "nbformat_minor": 0
}
